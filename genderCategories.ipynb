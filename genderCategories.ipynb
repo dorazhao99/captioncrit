{
 "cells": [
  {
   "cell_type": "code",
   "execution_count": 1,
   "metadata": {},
   "outputs": [],
   "source": [
    "from pycocotools.coco import COCO\n",
    "import matplotlib.pyplot as plt\n",
    "import csv\n",
    "import pandas as pd\n",
    "import numpy as np"
   ]
  },
  {
   "cell_type": "code",
   "execution_count": 2,
   "metadata": {},
   "outputs": [
    {
     "name": "stdout",
     "output_type": "stream",
     "text": [
      "loading annotations into memory...\n",
      "Done (t=0.59s)\n",
      "creating index...\n",
      "index created!\n",
      "loading annotations into memory...\n",
      "Done (t=0.05s)\n",
      "creating index...\n",
      "index created!\n"
     ]
    }
   ],
   "source": [
    "instancesFile = 'annotations/instances_val2017.json'\n",
    "annFile = 'annotations/captions_val2017.json'\n",
    "cocoInstances = COCO(instancesFile)\n",
    "cocoAnn = COCO(annFile)"
   ]
  },
  {
   "cell_type": "code",
   "execution_count": 3,
   "metadata": {},
   "outputs": [],
   "source": [
    "# get annotation id of those within the people subset\n",
    "catIds = cocoInstances.getCatIds(catNms=['person']) # category Id of people subset\n",
    "pplIds = cocoInstances.getImgIds(catIds=catIds) # image Ids containing people category\n",
    "annIds = cocoAnn.getAnnIds(imgIds=pplIds)"
   ]
  },
  {
   "cell_type": "code",
   "execution_count": 4,
   "metadata": {},
   "outputs": [
    {
     "name": "stdout",
     "output_type": "stream",
     "text": [
      "{'image_id': 532481, 'id': 547713, 'caption': 'A man is flying up in the air and having fun. '}\n"
     ]
    }
   ],
   "source": [
    "# get corresponding annotations\n",
    "anns = cocoAnn.loadAnns(annIds)\n",
    "print(anns[2])"
   ]
  },
  {
   "cell_type": "code",
   "execution_count": 5,
   "metadata": {},
   "outputs": [],
   "source": [
    "# get the annotations for each image and do cursory check for any gender specific language\n",
    "femaleIndicators = set(['woman', 'women', 'lady', 'girl', 'girls', 'female'])\n",
    "maleIndicators = set(['male', 'man', 'boy', 'boys', 'men', 'guy', 'dude'])\n",
    "with open('peopleAnnotations.csv', 'w') as f:\n",
    "    writer = csv.writer(f)\n",
    "    writer.writerow(['image_id', 'id', 'caption', 'female_indicator', 'male_indicator'])\n",
    "    for ann in anns:\n",
    "        caption = set(ann['caption'].split(' '))\n",
    "        female = male = 0\n",
    "        if len(set.intersection(femaleIndicators, caption)) > 0:\n",
    "            female = 1\n",
    "        if len(set.intersection(maleIndicators, caption)) > 0:\n",
    "            male = 1\n",
    "        writer.writerow([ann['image_id'], ann['id'], ann['caption'], female, male])"
   ]
  },
  {
   "cell_type": "code",
   "execution_count": 6,
   "metadata": {},
   "outputs": [],
   "source": [
    "# code images as containing \"gendered\" or \"non-gendered\" captions\n",
    "df = pd.read_csv(\"peopleAnnotations.csv\")\n",
    "df = df.groupby(\"image_id\").sum()"
   ]
  },
  {
   "cell_type": "code",
   "execution_count": 7,
   "metadata": {},
   "outputs": [],
   "source": [
    "img_df = pd.DataFrame()\n",
    "img_df['image_id'] = df.index\n",
    "img_df['female_indicator'] = np.where(df['female_indicator'] >= 3, 1, 0)\n",
    "img_df['male_indicator'] = np.where(df['male_indicator'] >= 3, 1, 0)\n",
    "img_df = img_df.sort_values('image_id')"
   ]
  },
  {
   "cell_type": "code",
   "execution_count": 8,
   "metadata": {},
   "outputs": [
    {
     "data": {
      "text/html": [
       "<div>\n",
       "<style scoped>\n",
       "    .dataframe tbody tr th:only-of-type {\n",
       "        vertical-align: middle;\n",
       "    }\n",
       "\n",
       "    .dataframe tbody tr th {\n",
       "        vertical-align: top;\n",
       "    }\n",
       "\n",
       "    .dataframe thead th {\n",
       "        text-align: right;\n",
       "    }\n",
       "</style>\n",
       "<table border=\"1\" class=\"dataframe\">\n",
       "  <thead>\n",
       "    <tr style=\"text-align: right;\">\n",
       "      <th></th>\n",
       "      <th>image_id</th>\n",
       "      <th>female_indicator</th>\n",
       "      <th>male_indicator</th>\n",
       "    </tr>\n",
       "  </thead>\n",
       "  <tbody>\n",
       "    <tr>\n",
       "      <th>0</th>\n",
       "      <td>139</td>\n",
       "      <td>1</td>\n",
       "      <td>0</td>\n",
       "    </tr>\n",
       "    <tr>\n",
       "      <th>1</th>\n",
       "      <td>785</td>\n",
       "      <td>1</td>\n",
       "      <td>0</td>\n",
       "    </tr>\n",
       "    <tr>\n",
       "      <th>2</th>\n",
       "      <td>872</td>\n",
       "      <td>0</td>\n",
       "      <td>0</td>\n",
       "    </tr>\n",
       "    <tr>\n",
       "      <th>3</th>\n",
       "      <td>885</td>\n",
       "      <td>0</td>\n",
       "      <td>1</td>\n",
       "    </tr>\n",
       "    <tr>\n",
       "      <th>4</th>\n",
       "      <td>1000</td>\n",
       "      <td>0</td>\n",
       "      <td>0</td>\n",
       "    </tr>\n",
       "    <tr>\n",
       "      <th>...</th>\n",
       "      <td>...</td>\n",
       "      <td>...</td>\n",
       "      <td>...</td>\n",
       "    </tr>\n",
       "    <tr>\n",
       "      <th>2688</th>\n",
       "      <td>580418</td>\n",
       "      <td>0</td>\n",
       "      <td>0</td>\n",
       "    </tr>\n",
       "    <tr>\n",
       "      <th>2689</th>\n",
       "      <td>581062</td>\n",
       "      <td>0</td>\n",
       "      <td>1</td>\n",
       "    </tr>\n",
       "    <tr>\n",
       "      <th>2690</th>\n",
       "      <td>581206</td>\n",
       "      <td>0</td>\n",
       "      <td>0</td>\n",
       "    </tr>\n",
       "    <tr>\n",
       "      <th>2691</th>\n",
       "      <td>581317</td>\n",
       "      <td>0</td>\n",
       "      <td>0</td>\n",
       "    </tr>\n",
       "    <tr>\n",
       "      <th>2692</th>\n",
       "      <td>581357</td>\n",
       "      <td>0</td>\n",
       "      <td>0</td>\n",
       "    </tr>\n",
       "  </tbody>\n",
       "</table>\n",
       "<p>2693 rows × 3 columns</p>\n",
       "</div>"
      ],
      "text/plain": [
       "      image_id  female_indicator  male_indicator\n",
       "0          139                 1               0\n",
       "1          785                 1               0\n",
       "2          872                 0               0\n",
       "3          885                 0               1\n",
       "4         1000                 0               0\n",
       "...        ...               ...             ...\n",
       "2688    580418                 0               0\n",
       "2689    581062                 0               1\n",
       "2690    581206                 0               0\n",
       "2691    581317                 0               0\n",
       "2692    581357                 0               0\n",
       "\n",
       "[2693 rows x 3 columns]"
      ]
     },
     "execution_count": 8,
     "metadata": {},
     "output_type": "execute_result"
    }
   ],
   "source": [
    "img_df"
   ]
  },
  {
   "cell_type": "code",
   "execution_count": 12,
   "metadata": {},
   "outputs": [],
   "source": [
    "categories = []\n",
    "for index, pplId in enumerate(pplIds):\n",
    "    ann = cocoInstances.getAnnIds(imgIds=pplId)\n",
    "    annotations = []\n",
    "    for a in ann:\n",
    "        ann_j = cocoInstances.loadAnns(ids=a)\n",
    "        annotations.append(ann_j[0]['category_id'])\n",
    "    cat_occurences = np.zeros(91)\n",
    "    for index, cat in enumerate(annotations):\n",
    "        cat_occurences[annotations[index]] += 1\n",
    "    categories.append(cat_occurences)\n",
    "dictionary = {}\n",
    "categories = np.array(categories)\n",
    "for i in range(1,91,1):\n",
    "    dictionary[i] = categories[:, i]"
   ]
  },
  {
   "cell_type": "code",
   "execution_count": 14,
   "metadata": {},
   "outputs": [],
   "source": [
    "df = pd.DataFrame(dictionary)\n",
    "df.insert(0, 'image_id', pplIds)\n",
    "df = df.sort_values('image_id')\n",
    "fem = img_df['female_indicator'].tolist()\n",
    "mal = img_df['male_indicator'].tolist()\n",
    "df.insert(1, 'female_indicator', fem)\n",
    "df.insert(2, 'male_indicator', mal)"
   ]
  },
  {
   "cell_type": "code",
   "execution_count": 148,
   "metadata": {},
   "outputs": [],
   "source": [
    "df.to_csv('genderCorr.csv', index = False)"
   ]
  },
  {
   "cell_type": "code",
   "execution_count": 15,
   "metadata": {},
   "outputs": [],
   "source": [
    "# find which categories co-occur most with certain genders / which are most gender neutral\n",
    "total = np.array(df.sum()[3:93])\n",
    "fem_df = df[df['female_indicator']==1]\n",
    "fem_count = np.array(fem_df.sum()[3:93])\n",
    "fem_cooccur = np.divide(fem_count, total, out=np.zeros_like(fem_count), where=total!=0)\n",
    "# count for men\n",
    "male_df = df[df['male_indicator']==1]\n",
    "male_count = np.array(male_df.sum()[3:93])\n",
    "male_cooccur = np.divide(male_count, total, out=np.zeros_like(male_count), where=total!=0)"
   ]
  },
  {
   "cell_type": "code",
   "execution_count": 16,
   "metadata": {},
   "outputs": [],
   "source": [
    "fem_cooccur = np.where(fem_cooccur > male_cooccur, fem_cooccur, 0)\n",
    "male_cooccur = np.where(male_cooccur > fem_cooccur, male_cooccur, 0)\n",
    "fem_cats = np.argsort(fem_cooccur)[::-1] + 1\n",
    "male_cats = np.argsort(male_cooccur)[::-1] + 1"
   ]
  },
  {
   "cell_type": "code",
   "execution_count": 25,
   "metadata": {},
   "outputs": [
    {
     "name": "stdout",
     "output_type": "stream",
     "text": [
      "[82 90 89 81 23 65 64 77 31 17 28 53 50 48 49 57 59 51 86 85 76 88 13  7\n",
      "  5 26  4 27 24 29 30 32 33 34 25 21  2 14  6  8  9 10 11 12 15 22 16 36\n",
      " 18 19 20  3 35 45 37 38 67 68 69 70 71 72 73 74 75 78 79 80 83 84 87 66\n",
      " 63 62 46 39 40 41 42 43 44 47 61 52 54 55 56 58 60  1]\n"
     ]
    },
    {
     "data": {
      "text/plain": [
       "[{'supercategory': 'outdoor', 'id': 14, 'name': 'parking meter'},\n",
       " {'supercategory': 'outdoor', 'id': 15, 'name': 'bench'},\n",
       " {'supercategory': 'animal', 'id': 16, 'name': 'bird'},\n",
       " {'supercategory': 'animal', 'id': 17, 'name': 'cat'},\n",
       " {'supercategory': 'animal', 'id': 18, 'name': 'dog'},\n",
       " {'supercategory': 'animal', 'id': 19, 'name': 'horse'},\n",
       " {'supercategory': 'animal', 'id': 20, 'name': 'sheep'},\n",
       " {'supercategory': 'animal', 'id': 21, 'name': 'cow'},\n",
       " {'supercategory': 'animal', 'id': 22, 'name': 'elephant'},\n",
       " {'supercategory': 'animal', 'id': 23, 'name': 'bear'},\n",
       " {'supercategory': 'animal', 'id': 24, 'name': 'zebra'},\n",
       " {'supercategory': 'animal', 'id': 25, 'name': 'giraffe'}]"
      ]
     },
     "execution_count": 25,
     "metadata": {},
     "output_type": "execute_result"
    }
   ],
   "source": [
    "print(fem_cats)\n",
    "cats = []\n",
    "for i in range(1, 91):\n",
    "    cats.append(i)\n",
    "cocoInstances.loadCats(ids=cats[13:25])"
   ]
  },
  {
   "cell_type": "code",
   "execution_count": 18,
   "metadata": {},
   "outputs": [
    {
     "data": {
      "text/plain": [
       "[{'supercategory': 'appliance', 'id': 80, 'name': 'toaster'},\n",
       " {'supercategory': 'accessory', 'id': 32, 'name': 'tie'},\n",
       " {'supercategory': 'sports', 'id': 41, 'name': 'skateboard'},\n",
       " {'supercategory': 'sports', 'id': 34, 'name': 'frisbee'},\n",
       " {'supercategory': 'animal', 'id': 16, 'name': 'bird'},\n",
       " {'supercategory': 'food', 'id': 56, 'name': 'broccoli'},\n",
       " {'supercategory': 'sports', 'id': 37, 'name': 'sports ball'},\n",
       " {'supercategory': 'sports', 'id': 43, 'name': 'tennis racket'},\n",
       " {'supercategory': 'electronic', 'id': 75, 'name': 'remote'},\n",
       " {'supercategory': 'furniture', 'id': 63, 'name': 'couch'},\n",
       " {'supercategory': 'sports', 'id': 42, 'name': 'surfboard'},\n",
       " {'supercategory': 'food', 'id': 58, 'name': 'hot dog'},\n",
       " {'supercategory': 'animal', 'id': 25, 'name': 'giraffe'},\n",
       " {'supercategory': 'appliance', 'id': 78, 'name': 'microwave'},\n",
       " {'supercategory': 'food', 'id': 55, 'name': 'orange'},\n",
       " {'supercategory': 'appliance', 'id': 79, 'name': 'oven'},\n",
       " {'supercategory': 'food', 'id': 54, 'name': 'sandwich'},\n",
       " {'supercategory': 'kitchen', 'id': 44, 'name': 'bottle'},\n",
       " {'supercategory': 'outdoor', 'id': 15, 'name': 'bench'},\n",
       " {'supercategory': 'electronic', 'id': 73, 'name': 'laptop'},\n",
       " {'supercategory': 'food', 'id': 52, 'name': 'banana'},\n",
       " {'supercategory': 'indoor', 'id': 84, 'name': 'book'},\n",
       " {'supercategory': 'animal', 'id': 18, 'name': 'dog'},\n",
       " {'supercategory': 'furniture', 'id': 62, 'name': 'chair'},\n",
       " {'supercategory': 'kitchen', 'id': 46, 'name': 'wine glass'}]"
      ]
     },
     "execution_count": 18,
     "metadata": {},
     "output_type": "execute_result"
    }
   ],
   "source": [
    "cocoInstances.loadCats(ids=male_cats[:25])"
   ]
  },
  {
   "cell_type": "code",
   "execution_count": null,
   "metadata": {},
   "outputs": [],
   "source": []
  }
 ],
 "metadata": {
  "kernelspec": {
   "display_name": "Python 3",
   "language": "python",
   "name": "python3"
  },
  "language_info": {
   "codemirror_mode": {
    "name": "ipython",
    "version": 3
   },
   "file_extension": ".py",
   "mimetype": "text/x-python",
   "name": "python",
   "nbconvert_exporter": "python",
   "pygments_lexer": "ipython3",
   "version": "3.7.9"
  }
 },
 "nbformat": 4,
 "nbformat_minor": 4
}
