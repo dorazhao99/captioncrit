{
 "cells": [
  {
   "cell_type": "code",
   "execution_count": 34,
   "metadata": {},
   "outputs": [],
   "source": [
    "from pycocotools.coco import COCO\n",
    "import matplotlib.pyplot as plt\n",
    "import csv\n",
    "import pandas as pd"
   ]
  },
  {
   "cell_type": "code",
   "execution_count": 7,
   "metadata": {},
   "outputs": [
    {
     "name": "stdout",
     "output_type": "stream",
     "text": [
      "loading annotations into memory...\n",
      "Done (t=0.56s)\n",
      "creating index...\n",
      "index created!\n",
      "loading annotations into memory...\n",
      "Done (t=0.04s)\n",
      "creating index...\n",
      "index created!\n"
     ]
    }
   ],
   "source": [
    "instancesFile = 'annotations/instances_val2017.json'\n",
    "annFile = 'annotations/captions_val2017.json'\n",
    "cocoInstances = COCO(instancesFile)\n",
    "cocoAnn = COCO(annFile)"
   ]
  },
  {
   "cell_type": "code",
   "execution_count": 21,
   "metadata": {},
   "outputs": [],
   "source": [
    "# get annotation id of those within the people subset\n",
    "catIds = cocoInstances.getCatIds(catNms=['person']) # category Id of people subset\n",
    "pplIds = cocoInstances.getImgIds(catIds=catIds) # image Ids containing people category\n",
    "annIds = cocoAnn.getAnnIds(imgIds=pplIds)"
   ]
  },
  {
   "cell_type": "code",
   "execution_count": 27,
   "metadata": {},
   "outputs": [
    {
     "name": "stdout",
     "output_type": "stream",
     "text": [
      "{'image_id': 532481, 'id': 547713, 'caption': 'A man is flying up in the air and having fun. '}\n"
     ]
    }
   ],
   "source": [
    "# get corresponding annotations\n",
    "anns = cocoAnn.loadAnns(annIds)\n",
    "print(anns[2])"
   ]
  },
  {
   "cell_type": "code",
   "execution_count": 51,
   "metadata": {},
   "outputs": [],
   "source": [
    "# get the annotations for each image and do cursory check for any gender specific language\n",
    "femaleIndicators = set(['woman', 'women', 'lady', 'girl', 'girls', 'female'])\n",
    "maleIndicators = set(['male', 'man', 'boy', 'boys', 'men', 'guy', 'dude'])\n",
    "with open('peopleAnnotations.csv', 'w') as f:\n",
    "    writer = csv.writer(f)\n",
    "    writer.writerow(['image_id', 'id', 'caption', 'female_indicator', 'male_indicator'])\n",
    "    for ann in anns:\n",
    "        caption = set(ann['caption'].split(' '))\n",
    "        female = male = 0\n",
    "        if len(set.intersection(femaleIndicators, caption)) > 0:\n",
    "            female = 1\n",
    "        if len(set.intersection(maleIndicators, caption)) > 0:\n",
    "            male = 1\n",
    "        writer.writerow([ann['image_id'], ann['id'], ann['caption'], female, male])"
   ]
  },
  {
   "cell_type": "code",
   "execution_count": null,
   "metadata": {},
   "outputs": [],
   "source": []
  }
 ],
 "metadata": {
  "kernelspec": {
   "display_name": "Python 3",
   "language": "python",
   "name": "python3"
  },
  "language_info": {
   "codemirror_mode": {
    "name": "ipython",
    "version": 3
   },
   "file_extension": ".py",
   "mimetype": "text/x-python",
   "name": "python",
   "nbconvert_exporter": "python",
   "pygments_lexer": "ipython3",
   "version": "3.7.9"
  }
 },
 "nbformat": 4,
 "nbformat_minor": 4
}
