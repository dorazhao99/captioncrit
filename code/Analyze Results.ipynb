{
 "cells": [
  {
   "cell_type": "markdown",
   "metadata": {},
   "source": [
    "# Analyze Results\n",
    "Processes the JSON file returned from the model and also runs evaluation code for different image captionign metrics"
   ]
  },
  {
   "cell_type": "code",
   "execution_count": 8,
   "metadata": {},
   "outputs": [],
   "source": [
    "import json\n",
    "import os\n",
    "import pandas as pd"
   ]
  },
  {
   "cell_type": "markdown",
   "metadata": {},
   "source": [
    "## Process JSON File"
   ]
  },
  {
   "cell_type": "code",
   "execution_count": 2,
   "metadata": {},
   "outputs": [],
   "source": [
    "FILE = 'blockMaleConf'\n",
    "FOLDER = 'gender neutral'"
   ]
  },
  {
   "cell_type": "code",
   "execution_count": 3,
   "metadata": {},
   "outputs": [],
   "source": [
    "filepath = '../results/{0}/{1}.json'.format(FOLDER, FILE)"
   ]
  },
  {
   "cell_type": "code",
   "execution_count": 4,
   "metadata": {},
   "outputs": [],
   "source": [
    "input_file = open(filepath)\n",
    "json_array = json.load(input_file)"
   ]
  },
  {
   "cell_type": "code",
   "execution_count": 5,
   "metadata": {},
   "outputs": [
    {
     "data": {
      "text/plain": [
       "'f_f_sports_515982_2.jpg'"
      ]
     },
     "execution_count": 5,
     "metadata": {},
     "output_type": "execute_result"
    }
   ],
   "source": [
    "os.path.basename(json_array[0]['filename'])"
   ]
  },
  {
   "cell_type": "code",
   "execution_count": 6,
   "metadata": {},
   "outputs": [
    {
     "name": "stdout",
     "output_type": "stream",
     "text": [
      "Caption: a baseball player sliding into home base. Gender: f Category: sports Source: COCO\n",
      "Caption: a black and white photo of a man in a suit and tie. Gender: f Category: tie Source: COCO\n",
      "Caption: a group of young men playing a game of frisbee. Gender: f Category: frisbee Source: COCO\n",
      "Caption: a person on a skateboard in a park. Gender: m Category: skateboard Source: COCO\n",
      "Caption: a person jumping a skate board in the air. Gender: m Category: skateboard Source: COCO\n",
      "Caption: a woman is eating a doughnut with sprinkles. Gender: f Category: toothbrush Source: COCO\n",
      "Caption: a young boy holding a hot dog in his hands. Gender: m Category: hairdrier Source: COCO\n",
      "Caption: a woman holding a tennis racquet on a tennis court. Gender: f Category: racket Source: COCO\n",
      "Caption: a woman is standing on a skateboard in the street. Gender: f Category: skateboard Source: COCO\n",
      "Caption: a close up of a person brushing his teeth. Gender: m Category: toothbrush Source: COCO\n",
      "Caption: a woman brushing her teeth in a bathroom. Gender: f Category: toothbrush Source: COCO\n",
      "Caption: a tennis player swinging a racket at a ball. Gender: m Category: racket Source: COCO\n",
      "Caption: a woman standing on a beach holding a surfboard. Gender: m Category: surfboard Source: COCO\n",
      "Caption: a man swinging a tennis racquet on a tennis court. Gender: m Category: sports Source: COCO\n",
      "Caption: a female tennis player in action on the court. Gender: f Category: racket Source: COCO\n",
      "Caption: a baseball player swinging a bat at a ball. Gender: m Category: sports Source: COCO\n",
      "Caption: a tennis player swinging a racket at a ball. Gender: f Category: racket Source: COCO\n",
      "Caption: a man in a tie is brushing his teeth. Gender: m Category: toothbrush Source: COCO\n",
      "Caption: a man is throwing a frisbee in a park. Gender: m Category: frisbee Source: COCO\n",
      "Caption: a group of young men playing a game of frisbee. Gender: m Category: frisbee Source: COCO\n",
      "Caption: a female tennis player in action on the court. Gender: f Category: racket Source: COCO\n",
      "Caption: a person riding a surf board on a body of water. Gender: m Category: surfboard Source: COCO\n",
      "Caption: a woman is holding a box of doughnuts. Gender: m Category: refrigerator Source: COCO\n",
      "Caption: a woman standing in front of a mirror taking a selfie. Gender: f Category: refrigerator Source: COCO\n",
      "Caption: a man holding a tennis racquet on a tennis court. Gender: m Category: racket Source: COCO\n",
      "Caption: a person on a skateboard on a ramp. Gender: m Category: skateboard Source: COCO\n",
      "Caption: a man in a suit and tie standing in the woods. Gender: m Category: tie Source: COCO\n",
      "Caption: a person on a skateboard doing a trick. Gender: f Category: skateboard Source: COCO\n",
      "Caption: a person on a surfboard riding a wave. Gender: m Category: surfboard Source: COCO\n",
      "Caption: a close up of a person wearing a shirt and tie. Gender: f Category: tie Source: COCO\n",
      "Caption: a group of young men playing a game of soccer. Gender: f Category: sports Source: COCO\n",
      "Caption: a man holding a wine glass in his hand. Gender: m Category: toothbrush Source: COCO\n",
      "Caption: a black and white photo of a person playing frisbee. Gender: f Category: frisbee Source: COCO\n",
      "Caption: a woman sitting on a bed holding a cell phone. Gender: f Category: hairdrier Source: COCO\n",
      "Caption: a man in a suit and tie sitting in a chair. Gender: m Category: tie Source: COCO\n",
      "Caption: a tennis player swinging a racket at a ball. Gender: f Category: racket Source: COCO\n",
      "Caption: a woman standing next to a luggage bag. Gender: f Category: handbag Source: COCO\n",
      "Caption: a person riding a surf board on a wave. Gender: f Category: surfboard Source: COCO\n",
      "Caption: a couple of men playing a game of frisbee. Gender: f Category: frisbee Source: COCO\n",
      "Caption: a young boy kicking a soccer ball on a field. Gender: m Category: sports Source: COCO\n",
      "Caption: a woman riding a wave on top of a surfboard. Gender: f Category: surfboard Source: COCO\n",
      "Caption: a woman holding a tennis racket in her hand. Gender: f Category: frisbee Source: COCO\n",
      "Caption: a man riding a skateboard down a street. Gender: m Category: skateboard Source: COCO\n",
      "Caption: a man on a court with a tennis racket. Gender: m Category: frisbee Source: COCO\n",
      "Caption: a woman standing in a kitchen with a refrigerator. Gender: m Category: refrigerator Source: COCO\n",
      "Caption: a person on a skateboard doing a trick. Gender: m Category: skateboard Source: COCO\n",
      "Caption: a woman riding a wave on top of a surfboard. Gender: m Category: surfboard Source: COCO\n",
      "Caption: a couple of men playing a game of frisbee. Gender: m Category: frisbee Source: COCO\n",
      "Caption: a woman standing in a kitchen preparing food. Gender: f Category: refrigerator Source: COCO\n",
      "Caption: a woman riding a wave on top of a surfboard. Gender: f Category: surfboard Source: COCO\n",
      "Caption: a young boy swinging a baseball bat at a ball. Gender: f Category: sports Source: COCO\n",
      "Caption: a man holding a tennis racquet on a tennis court. Gender: m Category: racket Source: COCO\n",
      "Caption: a young boy swinging a baseball bat at a ball. Gender: m Category: sports Source: COCO\n",
      "Caption: a tennis player in action on the court. Gender: m Category: racket Source: COCO\n",
      "Caption: a man is throwing a frisbee in the park. Gender: f Category: frisbee Source: COCO\n",
      "Caption: a person riding a surf board on a wave. Gender: m Category: surfboard Source: COCO\n",
      "Caption: a woman holding an umbrella in the rain. Gender: m Category: handbag Source: COCO\n",
      "Caption: a person riding a surf board on a wave. Gender: m Category: surfboard Source: COCO\n",
      "Caption: a person on a skateboard on a ramp. Gender: f Category: skateboard Source: COCO\n",
      "Caption: a woman standing in a kitchen preparing food. Gender: f Category: refrigerator Source: COCO\n",
      "Caption: a person jumping in the air to catch a frisbee. Gender: f Category: frisbee Source: COCO\n",
      "Caption: a man brushing his teeth with a tooth brush. Gender: f Category: toothbrush Source: COCO\n",
      "Caption: a man on a court with a tennis racket. Gender: m Category: racket Source: COCO\n",
      "Caption: a young boy swinging a baseball bat at a ball. Gender: f Category: sports Source: COCO\n",
      "Caption: a close up of a person wearing a suit and tie. Gender: m Category: tie Source: COCO\n",
      "Caption: a person on a skateboard on a ramp. Gender: m Category: skateboard Source: COCO\n",
      "Caption: a man brushing his teeth with a tooth brush. Gender: m Category: toothbrush Source: COCO\n",
      "Caption: a man holding a tennis racquet on a tennis court. Gender: m Category: frisbee Source: COCO\n",
      "Caption: a young boy swinging a baseball bat at a ball. Gender: m Category: sports Source: COCO\n",
      "Caption: a woman riding a wave on top of a surfboard. Gender: m Category: surfboard Source: COCO\n",
      "Caption: a woman riding a wave on top of a surfboard. Gender: f Category: surfboard Source: COCO\n",
      "Caption: a person holding a toothbrush in their hand. Gender: m Category: hairdrier Source: COCO\n",
      "Caption: a woman riding a wave on top of a surfboard. Gender: f Category: surfboard Source: COCO\n",
      "Caption: a woman riding a wave on top of a surfboard. Gender: f Category: surfboard Source: COCO\n",
      "Caption: a young boy wearing a suit and tie. Gender: f Category: tie Source: COCO\n",
      "Caption: a person on a skateboard on a ramp. Gender: f Category: skateboard Source: COCO\n",
      "Caption: a soccer player kicking a soccer ball on a field. Gender: f Category: sports Source: COCO\n",
      "Caption: a tennis player swinging a racket at a ball. Gender: f Category: racket Source: COCO\n",
      "Caption: a man brushing his teeth in a bathroom. Gender: f Category: toothbrush Source: COCO\n",
      "Caption: a woman holding a cell phone up to her ear. Gender: f Category: hairdrier Source: COCO\n",
      "Caption: a woman riding a wave on top of a surfboard. Gender: m Category: surfboard Source: COCO\n",
      "Caption: a group of young men playing a game of soccer. Gender: m Category: sports Source: COCO\n",
      "Caption: a woman standing on a beach holding a surfboard. Gender: f Category: surfboard Source: COCO\n",
      "Caption: a baseball player pitching a ball on top of a field. Gender: m Category: sports Source: COCO\n",
      "Caption: a man sitting at a table with a birthday cake. Gender: m Category: refrigerator Source: COCO\n",
      "Caption: a woman is holding an umbrella in the rain. Gender: f Category: handbag Source: COCO\n",
      "Caption: a woman standing next to a pile of luggage. Gender: m Category: handbag Source: COCO\n",
      "Caption: a woman riding a wave on top of a surfboard. Gender: m Category: surfboard Source: COCO\n",
      "Caption: a woman standing in a kitchen with a refrigerator. Gender: f Category: refrigerator Source: COCO\n",
      "Caption: a young man holding a tennis racquet on a tennis court. Gender: m Category: racket Source: COCO\n",
      "Caption: a man in a field throwing a frisbee. Gender: m Category: frisbee Source: COCO\n",
      "Caption: a man in a suit and tie is smiling. Gender: m Category: tie Source: COCO\n",
      "Caption: a man in a suit and tie standing in a room. Gender: f Category: tie Source: COCO\n",
      "Caption: a woman sitting at a table with a plate of food. Gender: f Category: refrigerator Source: COCO\n"
     ]
    }
   ],
   "source": [
    "parsed_results = []\n",
    "for img in json_array:\n",
    "    caption = img['caption']\n",
    "    file = os.path.basename(img['filename']).split('_')\n",
    "    file_num = file[3].split('.')[0]\n",
    "    gender = file[1]\n",
    "    category = file[2]\n",
    "    source = os.path.basename(img['filename'])\n",
    "    if source is 'f':\n",
    "        source = 'Flickr'\n",
    "    else:\n",
    "        source = 'COCO'\n",
    "    parsed_results.append([caption, file_num, gender, category, source, os.path.basename(img['filename'])])\n",
    "    print('Caption: {0} Gender: {1} Category: {2} Source: {3}'.format(caption, gender, category, source))"
   ]
  },
  {
   "cell_type": "code",
   "execution_count": 7,
   "metadata": {},
   "outputs": [],
   "source": [
    "# saves captions to csv\n",
    "import csv\n",
    "with open('../results/{0}/{1}.csv'.format(FOLDER, FILE), 'w') as f:\n",
    "    writer = csv.writer(f)\n",
    "    writer.writerow(['Caption', 'Filename', 'Gender', 'Category', 'Source', 'File'])\n",
    "    for i in parsed_results:\n",
    "        writer.writerow(i)"
   ]
  },
  {
   "cell_type": "markdown",
   "metadata": {},
   "source": [
    "## Process Captions"
   ]
  },
  {
   "cell_type": "code",
   "execution_count": 9,
   "metadata": {},
   "outputs": [],
   "source": [
    "# process result annotations\n",
    "filepath = '../results/{0}/{1}.json'.format(FOLDER, FILE)\n",
    "input_file = open(filepath)\n",
    "json_array = json.load(input_file)"
   ]
  },
  {
   "cell_type": "markdown",
   "metadata": {},
   "source": [
    "## Women Also Snowboard Metrics"
   ]
  },
  {
   "cell_type": "code",
   "execution_count": 13,
   "metadata": {},
   "outputs": [],
   "source": [
    "def snowboard_metrics(GT_Gender, df, filename):\n",
    "    gender_ratio = len(df[df['Gender_Predict'] == 'f']) / len(df[df['Gender_Predict'] == 'm'])\n",
    "    error_rate = len(df[df['Gender_Correct'] == 0]) / (len(df['Gender_Correct']))\n",
    "    print('Model Name: {2} | Ratio Delta: {0} | Error Rate: {1}'.format(round(GT_Gender - gender_ratio, 3), round(error_rate,3), filename))\n",
    "    print('Male: {0} Female: {1}'.format(len(df[df['Gender_Predict'] == 'm']), len(df[df['Gender_Predict'] == 'f'])))"
   ]
  },
  {
   "cell_type": "code",
   "execution_count": 17,
   "metadata": {},
   "outputs": [],
   "source": [
    "results = []\n",
    "filepath = \"../results/{0}\".format(FOLDER)\n",
    "for file in os.listdir(filepath):\n",
    "    if file.endswith(\".csv\"):\n",
    "        results.append(os.path.join(filepath, file))"
   ]
  },
  {
   "cell_type": "code",
   "execution_count": 18,
   "metadata": {},
   "outputs": [
    {
     "name": "stdout",
     "output_type": "stream",
     "text": [
      "Model Name: ../results/gender neutral/blockMale.csv | Ratio Delta: 0.481 | Error Rate: 0.223\n",
      "Male: 48 Female: 21\n",
      "Model Name: ../results/gender neutral/blockMaleConf.csv | Ratio Delta: 0.007 | Error Rate: 0.202\n",
      "Male: 34 Female: 31\n",
      "Model Name: ../results/gender neutral/blockNeutral.csv | Ratio Delta: 0.429 | Error Rate: 0.245\n",
      "Male: 45 Female: 22\n",
      "Model Name: ../results/gender neutral/blockNeutralConf.csv | Ratio Delta: -0.151 | Error Rate: 0.213\n",
      "Male: 29 Female: 31\n",
      "Model Name: ../results/gender neutral/blockNeutralConf_2.csv | Ratio Delta: 0.033 | Error Rate: 0.211\n",
      "Male: 35 Female: 31\n"
     ]
    }
   ],
   "source": [
    "for result in results:\n",
    "    df = pd.read_csv(result)\n",
    "    correct = []\n",
    "    gt_gender = list(df['Gender'])\n",
    "    pred_gender = list(df['Gender_Predict'])\n",
    "    for index, i in enumerate(pred_gender):\n",
    "        if i is 'n':\n",
    "            correct.append(2)\n",
    "        elif i is gt_gender[index]:\n",
    "            correct.append(1)\n",
    "        else:\n",
    "            correct.append(0)\n",
    "    df['Gender_Correct'] = correct\n",
    "    df.to_csv(result, index=False)\n",
    "    GT_Gender = len(df[df['Gender'] == 'f']) / len(df[df['Gender'] == 'm'])\n",
    "    snowboard_metrics(GT_Gender, df, result)"
   ]
  },
  {
   "cell_type": "markdown",
   "metadata": {},
   "source": [
    "## Format Captions"
   ]
  },
  {
   "cell_type": "code",
   "execution_count": 159,
   "metadata": {},
   "outputs": [],
   "source": [
    "FILE = 'blockMale'"
   ]
  },
  {
   "cell_type": "code",
   "execution_count": 21,
   "metadata": {},
   "outputs": [],
   "source": [
    "def formatResults(filename, save):\n",
    "    df = pd.read_csv(filename)\n",
    "    files = df['File'].tolist()\n",
    "    captions = df['Caption'].tolist()\n",
    "    result = []\n",
    "    for index, file in enumerate(files):\n",
    "        split = file.split('_')\n",
    "        if split[0] is 'm':\n",
    "            result.append({'image_id': split[3].split('.')[0], \"caption\": captions[index]})\n",
    "        else:\n",
    "            matches = json_array[file]\n",
    "            for match in matches:\n",
    "                match_split = match.split('_')\n",
    "                result.append(({'image_id': match_split[3].split('.')[0] + \"6\", \"caption\": captions[index]}))\n",
    "    with open('../results/res{0}.json'.format(save), 'w') as f:\n",
    "        json.dump(result, f)"
   ]
  },
  {
   "cell_type": "code",
   "execution_count": 22,
   "metadata": {},
   "outputs": [],
   "source": [
    "filepath = '../annotations/similarMatch.json'\n",
    "input_file = open(filepath)\n",
    "json_array = json.load(input_file)"
   ]
  },
  {
   "cell_type": "code",
   "execution_count": 23,
   "metadata": {},
   "outputs": [],
   "source": [
    "df = pd.read_csv('../results/{0}/{1}.csv'.format(FOLDER, FILE))\n",
    "files = df['File'].tolist()\n",
    "captions = df['Caption'].tolist()"
   ]
  },
  {
   "cell_type": "code",
   "execution_count": 25,
   "metadata": {},
   "outputs": [
    {
     "name": "stdout",
     "output_type": "stream",
     "text": [
      "blockMale.csv\n",
      "blockMaleConf.csv\n",
      "blockNeutral.csv\n",
      "blockNeutralConf.csv\n",
      "blockNeutralConf_2.csv\n"
     ]
    }
   ],
   "source": [
    "results = []\n",
    "for file in os.listdir(\"../results/{0}\".format(FOLDER)):\n",
    "    if file.endswith(\".csv\"):\n",
    "        print(file)\n",
    "        save = file.split('.')[0]\n",
    "        formatResults(os.path.join(\"../results/{0}/\".format(FOLDER), file), save)"
   ]
  },
  {
   "cell_type": "code",
   "execution_count": 34,
   "metadata": {},
   "outputs": [],
   "source": [
    "df = pd.read_csv(\"../annotations/gtValidation.csv\")\n",
    "df.head()\n",
    "image_id_f = [int(str(m) + '6') for m in df['image_id_m'].tolist()]\n",
    "df['image_id_f'] = image_id_f\n",
    "df.to_csv(\"../annotations/gtValidation.csv\", index=False)"
   ]
  },
  {
   "cell_type": "code",
   "execution_count": 26,
   "metadata": {},
   "outputs": [],
   "source": [
    "gt = {}\n",
    "male_ids = df['image_id_m'].tolist()\n",
    "coco_caption = df['coco_caption'].tolist()\n",
    "for index, m in enumerate(male_ids):\n",
    "    if m not in gt:\n",
    "        gt[m] = [{'image_id': m, 'caption': coco_caption[index]}]\n",
    "    else:\n",
    "        gt[m].append({'image_id': m, 'caption': coco_caption[index]})"
   ]
  },
  {
   "cell_type": "code",
   "execution_count": 27,
   "metadata": {},
   "outputs": [],
   "source": [
    "female_ids = df['image_id_f'].tolist()\n",
    "f_caption = df['sim_caption'].tolist()\n",
    "for index, m in enumerate(female_ids):\n",
    "    if m not in gt:\n",
    "        gt[m] = [{'image_id': m, 'caption': f_caption[index]}]\n",
    "    else:\n",
    "        gt[m].append({'image_id': m, 'caption': f_caption[index]})"
   ]
  },
  {
   "cell_type": "code",
   "execution_count": 28,
   "metadata": {},
   "outputs": [],
   "source": [
    "with open('../results/gtAnns.json', 'w') as f:\n",
    "    json.dump(gt, f)"
   ]
  }
 ],
 "metadata": {
  "kernelspec": {
   "display_name": "Python 3",
   "language": "python",
   "name": "python3"
  },
  "language_info": {
   "codemirror_mode": {
    "name": "ipython",
    "version": 3
   },
   "file_extension": ".py",
   "mimetype": "text/x-python",
   "name": "python",
   "nbconvert_exporter": "python",
   "pygments_lexer": "ipython3",
   "version": "3.7.9"
  }
 },
 "nbformat": 4,
 "nbformat_minor": 4
}
