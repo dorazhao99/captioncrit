{
 "cells": [
  {
   "cell_type": "code",
   "execution_count": 6,
   "metadata": {},
   "outputs": [],
   "source": [
    "import json\n",
    "import os"
   ]
  },
  {
   "cell_type": "code",
   "execution_count": 3,
   "metadata": {},
   "outputs": [],
   "source": [
    "filepath = '../results/{0}.json'.format('equalizer')"
   ]
  },
  {
   "cell_type": "code",
   "execution_count": 5,
   "metadata": {},
   "outputs": [],
   "source": [
    "input_file = open(filepath)\n",
    "json_array = json.load(input_file)"
   ]
  },
  {
   "cell_type": "code",
   "execution_count": 9,
   "metadata": {},
   "outputs": [
    {
     "data": {
      "text/plain": [
       "['f', 'f', 'sports', '515982', '2.jpg']"
      ]
     },
     "execution_count": 9,
     "metadata": {},
     "output_type": "execute_result"
    }
   ],
   "source": [
    "os.path.basename(json_array[0]['filename']).split('_')"
   ]
  },
  {
   "cell_type": "code",
   "execution_count": 24,
   "metadata": {},
   "outputs": [
    {
     "name": "stdout",
     "output_type": "stream",
     "text": [
      "Caption: a baseball player swinging a bat at a ball. Gender: f Category: sports Source: Flickr\n",
      "Caption: a black and white photo of a person wearing a suit and tie. Gender: f Category: tie Source: Flickr\n",
      "Caption: a group of young people playing a game of frisbee. Gender: f Category: frisbee Source: Flickr\n",
      "Caption: a man riding a skateboard up the side of a ramp. Gender: m Category: skateboard Source: COCO\n",
      "Caption: a person jumping a skate board in the air. Gender: m Category: skateboard Source: COCO\n",
      "Caption: a woman holding a baby in her arms. Gender: f Category: toothbrush Source: COCO\n",
      "Caption: a man holding a hot dog in his hands. Gender: m Category: hairdrier Source: Flickr\n",
      "Caption: a female tennis player in action on the court. Gender: f Category: racket Source: Flickr\n",
      "Caption: a woman walking down a street while talking on a cell phone. Gender: f Category: skateboard Source: Flickr\n",
      "Caption: a man brushing his teeth with a tooth brush. Gender: m Category: toothbrush Source: Flickr\n",
      "Caption: a woman holding a toothbrush in her hand. Gender: f Category: toothbrush Source: COCO\n",
      "Caption: a tennis player swinging a racket at a ball. Gender: m Category: racket Source: COCO\n",
      "Caption: a man standing on a beach holding a surfboard. Gender: m Category: surfboard Source: COCO\n",
      "Caption: a baseball player swinging a bat at a ball. Gender: m Category: sports Source: COCO\n",
      "Caption: a female tennis player in action on the court. Gender: f Category: racket Source: Flickr\n",
      "Caption: a baseball player swinging a bat at a ball. Gender: m Category: sports Source: COCO\n",
      "Caption: a female tennis player in action on the court. Gender: f Category: racket Source: Flickr\n",
      "Caption: a man taking a selfie in a bathroom mirror. Gender: m Category: toothbrush Source: Flickr\n",
      "Caption: a man is throwing a frisbee in a park. Gender: m Category: frisbee Source: COCO\n",
      "Caption: a young man holding a frisbee in a park. Gender: m Category: frisbee Source: COCO\n",
      "Caption: a female tennis player in action on the court. Gender: f Category: racket Source: Flickr\n",
      "Caption: a man riding a wave on top of a surfboard. Gender: m Category: surfboard Source: COCO\n",
      "Caption: a man is holding a box of doughnuts. Gender: m Category: refrigerator Source: Flickr\n",
      "Caption: a woman standing in a room holding a nintendo wii game controller. Gender: f Category: refrigerator Source: COCO\n",
      "Caption: a man holding a tennis racquet on a tennis court. Gender: m Category: racket Source: COCO\n",
      "Caption: a man riding a skateboard up the side of a ramp. Gender: m Category: skateboard Source: COCO\n",
      "Caption: a man in a suit and tie standing in the grass. Gender: m Category: tie Source: COCO\n",
      "Caption: a man riding a skateboard up the side of a ramp. Gender: f Category: skateboard Source: Flickr\n",
      "Caption: a man riding a wave on top of a surfboard. Gender: m Category: surfboard Source: COCO\n",
      "Caption: a young girl wearing a tie and smiling. Gender: f Category: tie Source: Flickr\n",
      "Caption: a soccer player kicking a soccer ball on a field. Gender: f Category: sports Source: Flickr\n",
      "Caption: a man holding a toothbrush in his hand. Gender: m Category: toothbrush Source: Flickr\n",
      "Caption: a group of young men playing a game of frisbee. Gender: f Category: frisbee Source: Flickr\n",
      "Caption: a woman sitting on a couch holding a cell phone. Gender: f Category: hairdrier Source: COCO\n",
      "Caption: a man in a suit and tie sitting in a chair. Gender: m Category: tie Source: COCO\n",
      "Caption: a female tennis player in action on the court. Gender: f Category: racket Source: Flickr\n",
      "Caption: a woman standing next to a luggage bag on the ground. Gender: f Category: handbag Source: COCO\n",
      "Caption: a man riding a wave on top of a surfboard. Gender: f Category: surfboard Source: Flickr\n",
      "Caption: a group of young men playing a game of frisbee. Gender: f Category: frisbee Source: Flickr\n",
      "Caption: a young boy kicking a soccer ball on a field. Gender: m Category: sports Source: COCO\n",
      "Caption: a person riding a surf board on a wave. Gender: f Category: surfboard Source: Flickr\n",
      "Caption: a woman holding a tennis racquet on a tennis court. Gender: f Category: frisbee Source: Flickr\n",
      "Caption: a man riding a skateboard down a street. Gender: m Category: skateboard Source: COCO\n",
      "Caption: a man on a field with a frisbee. Gender: m Category: frisbee Source: COCO\n",
      "Caption: a person standing in a kitchen next to a refrigerator. Gender: m Category: refrigerator Source: Flickr\n",
      "Caption: a man riding a skateboard up the side of a ramp. Gender: m Category: skateboard Source: COCO\n",
      "Caption: a man riding a wave on top of a surfboard. Gender: m Category: surfboard Source: COCO\n",
      "Caption: a group of young men playing a game of frisbee. Gender: m Category: frisbee Source: COCO\n",
      "Caption: a woman standing in a kitchen preparing food. Gender: f Category: refrigerator Source: COCO\n",
      "Caption: a person riding a surf board on a wave. Gender: f Category: surfboard Source: Flickr\n",
      "Caption: a baseball player swinging a bat at a ball. Gender: f Category: sports Source: Flickr\n",
      "Caption: a male tennis player in action on the court. Gender: m Category: racket Source: COCO\n",
      "Caption: a baseball player swinging a bat at a ball. Gender: m Category: sports Source: COCO\n",
      "Caption: a tennis player swinging a racket at a ball. Gender: m Category: racket Source: COCO\n",
      "Caption: a man in a white shirt is throwing a frisbee. Gender: f Category: frisbee Source: Flickr\n",
      "Caption: a man riding a wave on top of a surfboard. Gender: m Category: surfboard Source: COCO\n",
      "Caption: a person holding an umbrella in the rain. Gender: m Category: handbag Source: Flickr\n",
      "Caption: a man riding a wave on top of a surfboard. Gender: m Category: surfboard Source: COCO\n",
      "Caption: a person on a skateboard does a trick in the air. Gender: f Category: skateboard Source: Flickr\n",
      "Caption: a woman standing in a kitchen holding a pan. Gender: f Category: refrigerator Source: COCO\n",
      "Caption: a woman is playing tennis on a court. Gender: f Category: frisbee Source: Flickr\n",
      "Caption: a woman brushing her teeth with a tooth brush. Gender: f Category: toothbrush Source: COCO\n",
      "Caption: a male tennis player in action on the court. Gender: m Category: racket Source: COCO\n",
      "Caption: a young boy swinging a baseball bat at a ball. Gender: f Category: sports Source: Flickr\n",
      "Caption: a man in a suit and tie is smiling. Gender: m Category: tie Source: COCO\n",
      "Caption: a man riding a skateboard up the side of a ramp. Gender: m Category: skateboard Source: COCO\n",
      "Caption: a man brushing his teeth with a tooth brush. Gender: m Category: toothbrush Source: Flickr\n",
      "Caption: a woman is holding a frisbee in a park. Gender: m Category: frisbee Source: COCO\n",
      "Caption: a young boy swinging a baseball bat at a ball. Gender: m Category: sports Source: COCO\n",
      "Caption: a man riding a wave on top of a surfboard. Gender: m Category: surfboard Source: COCO\n",
      "Caption: a man riding a wave on top of a surfboard. Gender: f Category: surfboard Source: Flickr\n",
      "Caption: a man is holding a glass of wine. Gender: m Category: hairdrier Source: Flickr\n",
      "Caption: a woman on a surfboard riding a wave. Gender: f Category: surfboard Source: Flickr\n",
      "Caption: a man riding a wave on top of a surfboard. Gender: f Category: surfboard Source: Flickr\n",
      "Caption: a young girl wearing a dress shirt and tie. Gender: f Category: tie Source: Flickr\n",
      "Caption: a person riding a skate board at a skate park. Gender: f Category: skateboard Source: Flickr\n",
      "Caption: a young boy kicking a soccer ball on a field. Gender: f Category: sports Source: Flickr\n",
      "Caption: a female tennis player in action on the court. Gender: f Category: racket Source: Flickr\n",
      "Caption: a man brushing his teeth with a tooth brush. Gender: f Category: toothbrush Source: COCO\n",
      "Caption: a woman holding a nintendo wii game controller. Gender: f Category: hairdrier Source: COCO\n",
      "Caption: a man riding a wave on top of a surfboard. Gender: m Category: surfboard Source: COCO\n",
      "Caption: a soccer player kicking a soccer ball on a field. Gender: m Category: sports Source: COCO\n",
      "Caption: a woman standing on a beach holding a surfboard. Gender: f Category: surfboard Source: Flickr\n",
      "Caption: a baseball player throwing a baseball on a field. Gender: m Category: sports Source: COCO\n",
      "Caption: a woman sitting at a table with a cake. Gender: m Category: refrigerator Source: Flickr\n",
      "Caption: a woman holding an umbrella in the rain. Gender: f Category: handbag Source: COCO\n",
      "Caption: a man standing next to a pile of luggage. Gender: m Category: handbag Source: Flickr\n",
      "Caption: a person riding a surf board on a wave. Gender: m Category: surfboard Source: COCO\n",
      "Caption: a woman standing in a kitchen next to a refrigerator. Gender: f Category: refrigerator Source: COCO\n",
      "Caption: a male tennis player in action on the court. Gender: m Category: racket Source: COCO\n",
      "Caption: a man in a field throwing a frisbee. Gender: m Category: frisbee Source: COCO\n",
      "Caption: a man in a suit and tie standing in front of a window. Gender: m Category: tie Source: COCO\n",
      "Caption: a man in a suit and tie standing in a room. Gender: f Category: tie Source: Flickr\n",
      "Caption: a woman sitting at a table with a cake. Gender: f Category: refrigerator Source: COCO\n"
     ]
    }
   ],
   "source": [
    "parsed_results = []\n",
    "for img in json_array:\n",
    "    caption = img['caption']\n",
    "    file = os.path.basename(img['filename']).split('_')\n",
    "    file_num = file[3].split('.')[0]\n",
    "    gender = file[1]\n",
    "    category = file[2]\n",
    "    source = file[0]\n",
    "    if source is 'f':\n",
    "        source = 'Flickr'\n",
    "    else:\n",
    "        source = 'COCO'\n",
    "    parsed_results.append([caption, file_num, gender, category, source])\n",
    "    print('Caption: {0} Gender: {1} Category: {2} Source: {3}'.format(caption, gender, category, source))"
   ]
  },
  {
   "cell_type": "code",
   "execution_count": 25,
   "metadata": {},
   "outputs": [],
   "source": [
    "import csv\n",
    "with open('../results/{0}.csv'.format('equalizer'), 'w') as f:\n",
    "    writer = csv.writer(f)\n",
    "    writer.writerow(['Caption', 'Filename', 'Gender', 'Category', 'Source'])\n",
    "    for i in parsed_results:\n",
    "        writer.writerow(i)"
   ]
  },
  {
   "cell_type": "code",
   "execution_count": null,
   "metadata": {},
   "outputs": [],
   "source": []
  }
 ],
 "metadata": {
  "kernelspec": {
   "display_name": "Python 3",
   "language": "python",
   "name": "python3"
  },
  "language_info": {
   "codemirror_mode": {
    "name": "ipython",
    "version": 3
   },
   "file_extension": ".py",
   "mimetype": "text/x-python",
   "name": "python",
   "nbconvert_exporter": "python",
   "pygments_lexer": "ipython3",
   "version": "3.7.9"
  }
 },
 "nbformat": 4,
 "nbformat_minor": 4
}
