{
 "cells": [
  {
   "cell_type": "markdown",
   "metadata": {},
   "source": [
    "# Gender Categories"
   ]
  },
  {
   "cell_type": "code",
   "execution_count": 1,
   "metadata": {},
   "outputs": [],
   "source": [
    "from pycocotools.coco import COCO\n",
    "import matplotlib.pyplot as plt\n",
    "import csv\n",
    "import pandas as pd\n",
    "import numpy as np"
   ]
  },
  {
   "cell_type": "code",
   "execution_count": 5,
   "metadata": {},
   "outputs": [
    {
     "name": "stdout",
     "output_type": "stream",
     "text": [
      "loading annotations into memory...\n",
      "Done (t=0.83s)\n",
      "creating index...\n",
      "index created!\n",
      "loading annotations into memory...\n",
      "Done (t=0.21s)\n",
      "creating index...\n",
      "index created!\n"
     ]
    }
   ],
   "source": [
    "instancesFile = '../annotations/instances_val2017.json'\n",
    "annFile = '../annotations/captions_val2017.json'\n",
    "cocoInstances = COCO(instancesFile)\n",
    "cocoAnn = COCO(annFile)"
   ]
  },
  {
   "cell_type": "code",
   "execution_count": 8,
   "metadata": {},
   "outputs": [],
   "source": [
    "# get annotation id of those within the people subset\n",
    "catIds = cocoInstances.getCatIds(catNms=['person']) # category Id of people subset\n",
    "pplIds = cocoInstances.getImgIds(catIds=catIds) # image Ids containing people category\n",
    "annIds = cocoAnn.getAnnIds(imgIds=pplIds)\n",
    "anns = cocoAnn.loadAnns(annIds)"
   ]
  },
  {
   "cell_type": "code",
   "execution_count": 9,
   "metadata": {},
   "outputs": [],
   "source": [
    "# get the annotations for each image and do cursory check for any gender specific language\n",
    "femaleIndicators = set(['woman', 'women', 'lady', 'girl', 'girls', 'female'])\n",
    "maleIndicators = set(['male', 'man', 'boy', 'boys', 'men', 'guy', 'dude'])\n",
    "with open('peopleAnnotations.csv', 'w') as f:\n",
    "    writer = csv.writer(f)\n",
    "    writer.writerow(['image_id', 'id', 'caption', 'female_indicator', 'male_indicator'])\n",
    "    for ann in anns:\n",
    "        caption = set(ann['caption'].split(' '))\n",
    "        female = male = 0\n",
    "        if len(set.intersection(femaleIndicators, caption)) > 0:\n",
    "            female = 1\n",
    "        if len(set.intersection(maleIndicators, caption)) > 0:\n",
    "            male = 1\n",
    "        writer.writerow([ann['image_id'], ann['id'], ann['caption'], female, male])"
   ]
  },
  {
   "cell_type": "code",
   "execution_count": 10,
   "metadata": {},
   "outputs": [],
   "source": [
    "# code images as containing \"gendered\" or \"non-gendered\" captions\n",
    "df = pd.read_csv(\"../annotations/peopleAnnotations.csv\")\n",
    "df = df.groupby(\"image_id\").sum()"
   ]
  },
  {
   "cell_type": "code",
   "execution_count": 11,
   "metadata": {},
   "outputs": [],
   "source": [
    "img_df = pd.DataFrame()\n",
    "img_df['image_id'] = df.index\n",
    "img_df['female_indicator'] = np.where(df['female_indicator'] >= 3, 1, 0)\n",
    "img_df['male_indicator'] = np.where(df['male_indicator'] >= 3, 1, 0)\n",
    "img_df = img_df.sort_values('image_id')"
   ]
  },
  {
   "cell_type": "code",
   "execution_count": 12,
   "metadata": {},
   "outputs": [],
   "source": [
    "categories = []\n",
    "for index, pplId in enumerate(pplIds):\n",
    "    ann = cocoInstances.getAnnIds(imgIds=pplId)\n",
    "    annotations = []\n",
    "    for a in ann:\n",
    "        ann_j = cocoInstances.loadAnns(ids=a)\n",
    "        annotations.append(ann_j[0]['category_id'])\n",
    "    cat_occurences = np.zeros(91)\n",
    "    for index, cat in enumerate(annotations):\n",
    "        cat_occurences[annotations[index]] = 1\n",
    "    categories.append(cat_occurences)\n",
    "dictionary = {}\n",
    "categories = np.array(categories)\n",
    "for i in range(1,91,1):\n",
    "    dictionary[i] = categories[:, i]"
   ]
  },
  {
   "cell_type": "code",
   "execution_count": 13,
   "metadata": {},
   "outputs": [],
   "source": [
    "df = pd.DataFrame(dictionary)\n",
    "df.insert(0, 'image_id', pplIds)\n",
    "df = df.sort_values('image_id')\n",
    "fem = img_df['female_indicator'].tolist()\n",
    "mal = img_df['male_indicator'].tolist()\n",
    "df.insert(1, 'female_indicator', fem)\n",
    "df.insert(2, 'male_indicator', mal)"
   ]
  },
  {
   "cell_type": "code",
   "execution_count": 23,
   "metadata": {},
   "outputs": [],
   "source": [
    "# save the df to a .csv file\n",
    "df.to_csv('../annotations/genderCorr.csv', index = False)"
   ]
  },
  {
   "cell_type": "code",
   "execution_count": 14,
   "metadata": {},
   "outputs": [],
   "source": [
    "# find which categories co-occur most with certain genders / which are most gender neutral\n",
    "total = np.array(df.sum()[3:93])\n",
    "fem_df = df[df['female_indicator']==1]\n",
    "fem_count = np.array(fem_df.sum()[3:93])\n",
    "fem_cooccur = np.divide(fem_count, total, out=np.zeros_like(fem_count), where=total!=0)\n",
    "# count for men\n",
    "male_df = df[df['male_indicator']==1]\n",
    "male_count = np.array(male_df.sum()[3:93])\n",
    "male_cooccur = np.divide(male_count, total, out=np.zeros_like(male_count), where=total!=0)"
   ]
  },
  {
   "cell_type": "code",
   "execution_count": 27,
   "metadata": {},
   "outputs": [],
   "source": [
    "fem_cooccur = np.where(fem_cooccur > male_cooccur, fem_cooccur, 0)\n",
    "male_cooccur = np.where(male_cooccur > fem_cooccur, male_cooccur, 0)\n",
    "fem_cats = np.argsort(fem_cooccur)[::-1] + 1\n",
    "male_cats = np.argsort(male_cooccur)[::-1] + 1"
   ]
  },
  {
   "cell_type": "code",
   "execution_count": 28,
   "metadata": {},
   "outputs": [
    {
     "data": {
      "text/plain": [
       "[{'supercategory': 'indoor', 'id': 90, 'name': 'toothbrush'},\n",
       " {'supercategory': 'appliance', 'id': 82, 'name': 'refrigerator'},\n",
       " {'supercategory': 'indoor', 'id': 89, 'name': 'hair drier'},\n",
       " {'supercategory': 'appliance', 'id': 81, 'name': 'sink'},\n",
       " {'supercategory': 'animal', 'id': 23, 'name': 'bear'},\n",
       " {'supercategory': 'furniture', 'id': 64, 'name': 'potted plant'},\n",
       " {'supercategory': 'indoor', 'id': 88, 'name': 'teddy bear'},\n",
       " {'supercategory': 'electronic', 'id': 77, 'name': 'cell phone'},\n",
       " {'supercategory': 'food', 'id': 52, 'name': 'banana'},\n",
       " {'supercategory': 'accessory', 'id': 28, 'name': 'umbrella'},\n",
       " {'supercategory': 'accessory', 'id': 31, 'name': 'handbag'},\n",
       " {'supercategory': 'indoor', 'id': 86, 'name': 'vase'},\n",
       " {'supercategory': 'kitchen', 'id': 50, 'name': 'spoon'},\n",
       " {'supercategory': 'food', 'id': 57, 'name': 'carrot'},\n",
       " {'supercategory': 'indoor', 'id': 85, 'name': 'clock'},\n",
       " {'supercategory': 'animal', 'id': 17, 'name': 'cat'},\n",
       " {'supercategory': 'outdoor', 'id': 13, 'name': 'stop sign'},\n",
       " {'supercategory': 'vehicle', 'id': 5, 'name': 'airplane'}]"
      ]
     },
     "execution_count": 28,
     "metadata": {},
     "output_type": "execute_result"
    }
   ],
   "source": [
    "cocoInstances.loadCats(ids=fem_cats[:18])"
   ]
  },
  {
   "cell_type": "code",
   "execution_count": 29,
   "metadata": {},
   "outputs": [
    {
     "data": {
      "text/plain": [
       "[{'supercategory': 'appliance', 'id': 80, 'name': 'toaster'},\n",
       " {'supercategory': 'accessory', 'id': 32, 'name': 'tie'},\n",
       " {'supercategory': 'sports', 'id': 41, 'name': 'skateboard'},\n",
       " {'supercategory': 'sports', 'id': 34, 'name': 'frisbee'},\n",
       " {'supercategory': 'animal', 'id': 24, 'name': 'zebra'},\n",
       " {'supercategory': 'sports', 'id': 42, 'name': 'surfboard'},\n",
       " {'supercategory': 'sports', 'id': 43, 'name': 'tennis racket'},\n",
       " {'supercategory': 'electronic', 'id': 73, 'name': 'laptop'},\n",
       " {'supercategory': 'sports', 'id': 37, 'name': 'sports ball'},\n",
       " {'supercategory': 'furniture', 'id': 63, 'name': 'couch'},\n",
       " {'supercategory': 'food', 'id': 54, 'name': 'sandwich'},\n",
       " {'supercategory': 'electronic', 'id': 75, 'name': 'remote'},\n",
       " {'supercategory': 'appliance', 'id': 79, 'name': 'oven'},\n",
       " {'supercategory': 'appliance', 'id': 78, 'name': 'microwave'},\n",
       " {'supercategory': 'furniture', 'id': 65, 'name': 'bed'},\n",
       " {'supercategory': 'indoor', 'id': 84, 'name': 'book'},\n",
       " {'supercategory': 'kitchen', 'id': 44, 'name': 'bottle'},\n",
       " {'supercategory': 'animal', 'id': 25, 'name': 'giraffe'},\n",
       " {'supercategory': 'sports', 'id': 38, 'name': 'kite'},\n",
       " {'supercategory': 'outdoor', 'id': 15, 'name': 'bench'}]"
      ]
     },
     "execution_count": 29,
     "metadata": {},
     "output_type": "execute_result"
    }
   ],
   "source": [
    "cocoInstances.loadCats(ids=male_cats[:20])"
   ]
  }
 ],
 "metadata": {
  "kernelspec": {
   "display_name": "Python 3",
   "language": "python",
   "name": "python3"
  },
  "language_info": {
   "codemirror_mode": {
    "name": "ipython",
    "version": 3
   },
   "file_extension": ".py",
   "mimetype": "text/x-python",
   "name": "python",
   "nbconvert_exporter": "python",
   "pygments_lexer": "ipython3",
   "version": "3.7.9"
  }
 },
 "nbformat": 4,
 "nbformat_minor": 4
}
