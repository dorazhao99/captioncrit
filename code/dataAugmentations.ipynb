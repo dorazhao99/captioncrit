{
 "cells": [
  {
   "cell_type": "code",
   "execution_count": 29,
   "metadata": {},
   "outputs": [],
   "source": [
    "import cv2\n",
    "import os\n",
    "import random"
   ]
  },
  {
   "cell_type": "code",
   "execution_count": 30,
   "metadata": {},
   "outputs": [],
   "source": [
    "def flip(img):\n",
    "    # flipcode = -1 means flip horizontally and vertically\n",
    "    # flipcode = 0 means flip vertically\n",
    "    # flipcode = 1 means flip horizontally\n",
    "    flipcode = random.randint(-1, 1) \n",
    "    return cv2.flip(img, flipcode)"
   ]
  },
  {
   "cell_type": "code",
   "execution_count": 31,
   "metadata": {},
   "outputs": [],
   "source": [
    "# scale by 150%\n",
    "def scale(img):\n",
    "    return cv2.resize(img, None, fx=1.5, fy=1.5)"
   ]
  },
  {
   "cell_type": "code",
   "execution_count": 43,
   "metadata": {},
   "outputs": [],
   "source": [
    "image_dir = '../images/other/'\n",
    "save_dir = '../images/data augmentations/scaled'\n",
    "directory = os.fsencode(image_dir)\n",
    "\n",
    "for image in os.listdir(directory):\n",
    "    img = os.fsdecode(image)\n",
    "    if img != '.DS_Store':\n",
    "        img_arr = cv2.imread(image_dir + img)\n",
    "        file_name = os.path.splitext(os.path.basename(img))[0]\n",
    "        save_file = '%s/%s_%s.png' %(save_dir, file_name, 'scaled')\n",
    "        cv2.imwrite(save_file, scale(img_arr))"
   ]
  },
  {
   "cell_type": "code",
   "execution_count": null,
   "metadata": {},
   "outputs": [],
   "source": []
  }
 ],
 "metadata": {
  "kernelspec": {
   "display_name": "Python 3",
   "language": "python",
   "name": "python3"
  },
  "language_info": {
   "codemirror_mode": {
    "name": "ipython",
    "version": 3
   },
   "file_extension": ".py",
   "mimetype": "text/x-python",
   "name": "python",
   "nbconvert_exporter": "python",
   "pygments_lexer": "ipython3",
   "version": "3.7.7"
  }
 },
 "nbformat": 4,
 "nbformat_minor": 4
}
