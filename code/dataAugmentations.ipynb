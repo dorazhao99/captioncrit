{
 "cells": [
  {
   "cell_type": "code",
   "execution_count": 47,
   "metadata": {},
   "outputs": [],
   "source": [
    "import cv2\n",
    "import os\n",
    "import random\n",
    "import numpy as np"
   ]
  },
  {
   "cell_type": "code",
   "execution_count": 30,
   "metadata": {},
   "outputs": [],
   "source": [
    "def flip(img):\n",
    "    # flipcode = -1 means flip horizontally and vertically\n",
    "    # flipcode = 0 means flip vertically\n",
    "    # flipcode = 1 means flip horizontally\n",
    "    flipcode = random.randint(-1, 1) \n",
    "    return cv2.flip(img, flipcode)"
   ]
  },
  {
   "cell_type": "code",
   "execution_count": 31,
   "metadata": {},
   "outputs": [],
   "source": [
    "# scale by 150%\n",
    "def scale(img):\n",
    "    return cv2.resize(img, None, fx=1.5, fy=1.5)"
   ]
  },
  {
   "cell_type": "code",
   "execution_count": 44,
   "metadata": {},
   "outputs": [],
   "source": [
    "def shear(img):\n",
    "    W = img.shape[1]\n",
    "    H = img.shape[0]\n",
    "    shear_x = random.uniform(-0.3, 0.3)\n",
    "    shear_y = random.uniform(-0.3, 0.3)\n",
    "    matrix = np.float32([[1, shear_y, 0], [shear_x, 1, 0]])\n",
    "    matrix[0,2] = -matrix[0,1] * W/2\n",
    "    matrix[1,2] = -matrix[1,0] * H/2\n",
    "    return cv2.warpAffine(img, matrix, (W, H))"
   ]
  },
  {
   "cell_type": "code",
   "execution_count": 50,
   "metadata": {},
   "outputs": [],
   "source": [
    "image_dir = '../images/other/'\n",
    "save_dir = '../images/data augmentations/cropped'\n",
    "directory = os.fsencode(image_dir)\n",
    "\n",
    "for image in os.listdir(directory):\n",
    "    img = os.fsdecode(image)\n",
    "    if img != '.DS_Store':\n",
    "        img_arr = cv2.imread(image_dir + img)\n",
    "        file_name = os.path.splitext(os.path.basename(img))[0]\n",
    "        save_file = '%s/%s_%s.png' %(save_dir, file_name, 'cropped')\n",
    "        cv2.imwrite(save_file, img_arr)"
   ]
  },
  {
   "cell_type": "code",
   "execution_count": null,
   "metadata": {},
   "outputs": [],
   "source": []
  }
 ],
 "metadata": {
  "kernelspec": {
   "display_name": "Python 3",
   "language": "python",
   "name": "python3"
  },
  "language_info": {
   "codemirror_mode": {
    "name": "ipython",
    "version": 3
   },
   "file_extension": ".py",
   "mimetype": "text/x-python",
   "name": "python",
   "nbconvert_exporter": "python",
   "pygments_lexer": "ipython3",
   "version": "3.7.7"
  }
 },
 "nbformat": 4,
 "nbformat_minor": 4
}
