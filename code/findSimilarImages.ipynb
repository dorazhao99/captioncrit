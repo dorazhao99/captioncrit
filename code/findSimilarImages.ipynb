{
 "cells": [
  {
   "cell_type": "code",
   "execution_count": 1,
   "metadata": {},
   "outputs": [
    {
     "name": "stderr",
     "output_type": "stream",
     "text": [
      "/Users/dorazhao/miniconda3/envs/thesis/lib/python3.7/site-packages/tensorflow/python/framework/dtypes.py:516: FutureWarning: Passing (type, 1) or '1type' as a synonym of type is deprecated; in a future version of numpy, it will be understood as (type, (1,)) / '(1,)type'.\n",
      "  _np_qint8 = np.dtype([(\"qint8\", np.int8, 1)])\n",
      "/Users/dorazhao/miniconda3/envs/thesis/lib/python3.7/site-packages/tensorflow/python/framework/dtypes.py:517: FutureWarning: Passing (type, 1) or '1type' as a synonym of type is deprecated; in a future version of numpy, it will be understood as (type, (1,)) / '(1,)type'.\n",
      "  _np_quint8 = np.dtype([(\"quint8\", np.uint8, 1)])\n",
      "/Users/dorazhao/miniconda3/envs/thesis/lib/python3.7/site-packages/tensorflow/python/framework/dtypes.py:518: FutureWarning: Passing (type, 1) or '1type' as a synonym of type is deprecated; in a future version of numpy, it will be understood as (type, (1,)) / '(1,)type'.\n",
      "  _np_qint16 = np.dtype([(\"qint16\", np.int16, 1)])\n",
      "/Users/dorazhao/miniconda3/envs/thesis/lib/python3.7/site-packages/tensorflow/python/framework/dtypes.py:519: FutureWarning: Passing (type, 1) or '1type' as a synonym of type is deprecated; in a future version of numpy, it will be understood as (type, (1,)) / '(1,)type'.\n",
      "  _np_quint16 = np.dtype([(\"quint16\", np.uint16, 1)])\n",
      "/Users/dorazhao/miniconda3/envs/thesis/lib/python3.7/site-packages/tensorflow/python/framework/dtypes.py:520: FutureWarning: Passing (type, 1) or '1type' as a synonym of type is deprecated; in a future version of numpy, it will be understood as (type, (1,)) / '(1,)type'.\n",
      "  _np_qint32 = np.dtype([(\"qint32\", np.int32, 1)])\n",
      "/Users/dorazhao/miniconda3/envs/thesis/lib/python3.7/site-packages/tensorflow/python/framework/dtypes.py:525: FutureWarning: Passing (type, 1) or '1type' as a synonym of type is deprecated; in a future version of numpy, it will be understood as (type, (1,)) / '(1,)type'.\n",
      "  np_resource = np.dtype([(\"resource\", np.ubyte, 1)])\n",
      "/Users/dorazhao/miniconda3/envs/thesis/lib/python3.7/site-packages/tensorboard/compat/tensorflow_stub/dtypes.py:541: FutureWarning: Passing (type, 1) or '1type' as a synonym of type is deprecated; in a future version of numpy, it will be understood as (type, (1,)) / '(1,)type'.\n",
      "  _np_qint8 = np.dtype([(\"qint8\", np.int8, 1)])\n",
      "/Users/dorazhao/miniconda3/envs/thesis/lib/python3.7/site-packages/tensorboard/compat/tensorflow_stub/dtypes.py:542: FutureWarning: Passing (type, 1) or '1type' as a synonym of type is deprecated; in a future version of numpy, it will be understood as (type, (1,)) / '(1,)type'.\n",
      "  _np_quint8 = np.dtype([(\"quint8\", np.uint8, 1)])\n",
      "/Users/dorazhao/miniconda3/envs/thesis/lib/python3.7/site-packages/tensorboard/compat/tensorflow_stub/dtypes.py:543: FutureWarning: Passing (type, 1) or '1type' as a synonym of type is deprecated; in a future version of numpy, it will be understood as (type, (1,)) / '(1,)type'.\n",
      "  _np_qint16 = np.dtype([(\"qint16\", np.int16, 1)])\n",
      "/Users/dorazhao/miniconda3/envs/thesis/lib/python3.7/site-packages/tensorboard/compat/tensorflow_stub/dtypes.py:544: FutureWarning: Passing (type, 1) or '1type' as a synonym of type is deprecated; in a future version of numpy, it will be understood as (type, (1,)) / '(1,)type'.\n",
      "  _np_quint16 = np.dtype([(\"quint16\", np.uint16, 1)])\n",
      "/Users/dorazhao/miniconda3/envs/thesis/lib/python3.7/site-packages/tensorboard/compat/tensorflow_stub/dtypes.py:545: FutureWarning: Passing (type, 1) or '1type' as a synonym of type is deprecated; in a future version of numpy, it will be understood as (type, (1,)) / '(1,)type'.\n",
      "  _np_qint32 = np.dtype([(\"qint32\", np.int32, 1)])\n",
      "/Users/dorazhao/miniconda3/envs/thesis/lib/python3.7/site-packages/tensorboard/compat/tensorflow_stub/dtypes.py:550: FutureWarning: Passing (type, 1) or '1type' as a synonym of type is deprecated; in a future version of numpy, it will be understood as (type, (1,)) / '(1,)type'.\n",
      "  np_resource = np.dtype([(\"resource\", np.ubyte, 1)])\n"
     ]
    }
   ],
   "source": [
    "import numpy as np\n",
    "import numpy.linalg as linalg\n",
    "import pickle, os, time\n",
    "from tensorflow.keras.preprocessing import image\n",
    "from tensorflow.keras.applications.resnet50 import ResNet50, preprocess_input"
   ]
  },
  {
   "cell_type": "code",
   "execution_count": 2,
   "metadata": {},
   "outputs": [
    {
     "name": "stderr",
     "output_type": "stream",
     "text": [
      "/Users/dorazhao/miniconda3/envs/thesis/lib/python3.7/site-packages/keras_applications/resnet50.py:265: UserWarning: The output shape of `ResNet50(include_top=False)` has been changed since Keras 2.2.0.\n",
      "  warnings.warn('The output shape of `ResNet50(include_top=False)` '\n"
     ]
    }
   ],
   "source": [
    "model = ResNet50(weights='imagenet', include_top=False,\n",
    "                 input_shape=(224, 224, 3))"
   ]
  },
  {
   "cell_type": "code",
   "execution_count": 3,
   "metadata": {},
   "outputs": [
    {
     "name": "stdout",
     "output_type": "stream",
     "text": [
      "(1, 7, 7, 2048)\n"
     ]
    }
   ],
   "source": [
    "img_path = 'testImage.jpg'\n",
    "img = image.load_img(img_path, target_size=(224, 224))\n",
    "img_data = image.img_to_array(img)\n",
    "img_data = np.expand_dims(img_data, axis=0)\n",
    "img_data = preprocess_input(img_data)\n",
    "features = model.predict(img_data)\n",
    "print(features.shape)"
   ]
  },
  {
   "cell_type": "code",
   "execution_count": 4,
   "metadata": {},
   "outputs": [],
   "source": [
    "# function that gets features from resnet\n",
    "def get_features(model, img_path):\n",
    "    img = image.load_img(img_path, target_size=(224, 224))\n",
    "    img_data = image.img_to_array(img)\n",
    "    img_data = np.expand_dims(img_data, axis=0)\n",
    "    img_data = preprocess_input(img_data)\n",
    "    features = model.predict(img_data).flatten()\n",
    "    features = features / linalg.norm(features)\n",
    "    return features "
   ]
  },
  {
   "cell_type": "code",
   "execution_count": 50,
   "metadata": {},
   "outputs": [],
   "source": [
    "# gets the euclidean distance and cosine loss between a pair of feature representation\n",
    "def get_difference(feature1, feature2):\n",
    "    euclidean_loss = np.power(feature1 - feature2, 2)\n",
    "    euclidean_loss = np.sqrt(np.sum(euclidean_loss))\n",
    "#     cosine_loss = (feature1.T @ feature2)\n",
    "    return euclidean_loss"
   ]
  },
  {
   "cell_type": "code",
   "execution_count": 58,
   "metadata": {},
   "outputs": [],
   "source": [
    "mypath = '/Users/dorazhao/Desktop/images/'\n",
    "files_path = [mypath + x for x in os.listdir(mypath) if not x.startswith('.')]"
   ]
  },
  {
   "cell_type": "code",
   "execution_count": 126,
   "metadata": {},
   "outputs": [],
   "source": [
    "coco_m, coco_f, sim_m, sim_f, coco_m_files, coco_f_files, sim_m_files, sim_f_files = ([] for i in range(8))\n",
    "\n",
    "for file in files_path:\n",
    "    base = os.path.basename(file).split('_')\n",
    "    features = get_features(model, file)\n",
    "    if base[0] is 'f' and base[1] is 'f':\n",
    "        sim_f.append(features)\n",
    "        sim_f_files.append(file)\n",
    "    elif base[0] is 'f' and base[1] is 'm':\n",
    "        sim_m.append(features)\n",
    "        sim_m_files.append(file)\n",
    "    elif base[0] is 'm' and base[1] is 'm':\n",
    "        coco_m.append(features)\n",
    "        coco_m_files.append(file)\n",
    "    else: \n",
    "        coco_f.append(features)\n",
    "        coco_f_files.append(file)"
   ]
  },
  {
   "cell_type": "code",
   "execution_count": 61,
   "metadata": {},
   "outputs": [
    {
     "name": "stdout",
     "output_type": "stream",
     "text": [
      "COCO File: m_m_frisbee_227482.jpg, Similar Match: f_f_sports_135604_4.jpg, Euclidean Loss: 1.1695038080215454\n",
      "COCO File: m_m_frisbee_88485.jpg, Similar Match: f_f_frisbee_88485_2.jpg, Euclidean Loss: 1.1360191106796265\n",
      "COCO File: m_m_tie_152214.jpg, Similar Match: f_f_tie_131444_1.jpg, Euclidean Loss: 1.1849696636199951\n",
      "COCO File: m_m_surfboard_115898.jpg, Similar Match: f_f_surfboard_115898_1.jpg, Euclidean Loss: 0.9874610900878906\n",
      "COCO File: m_m_frisbee_328238.jpg, Similar Match: f_f_sports_135604_4.jpg, Euclidean Loss: 1.1178133487701416\n",
      "COCO File: m_m_sports_135604.jpg, Similar Match: f_f_sports_371552_4.jpg, Euclidean Loss: 1.1168785095214844\n",
      "COCO File: m_m_tie_170099.jpg, Similar Match: f_f_frisbee_325991_1.jpg, Euclidean Loss: 1.2257771492004395\n",
      "COCO File: m_m_racket_88970.jpg, Similar Match: f_f_sports_429690_1.jpg, Euclidean Loss: 1.1238709688186646\n",
      "COCO File: m_m_tie_21604.jpg, Similar Match: f_f_tie_21604_1.jpg, Euclidean Loss: 1.1359667778015137\n",
      "COCO File: m_m_surfboard_32570.jpg, Similar Match: f_f_surfboard_7278_3.jpg, Euclidean Loss: 1.0985536575317383\n",
      "COCO File: m_m_skateboard_13201.jpg, Similar Match: f_f_skateboard_13201_4.jpg, Euclidean Loss: 1.1604409217834473\n",
      "COCO File: m_m_sports_429690.jpg, Similar Match: f_f_sports_429690_1.jpg, Euclidean Loss: 1.0708869695663452\n",
      "COCO File: m_m_skateboard_125472.jpg, Similar Match: f_f_skateboard_13201_4.jpg, Euclidean Loss: 1.1681889295578003\n",
      "COCO File: m_m_frisbee_127263.jpg, Similar Match: f_f_sports_135604_4.jpg, Euclidean Loss: 1.0684254169464111\n",
      "COCO File: m_m_frisbee_291619.jpg, Similar Match: f_f_frisbee_291619_2.jpg, Euclidean Loss: 1.0963425636291504\n",
      "COCO File: m_m_racket_85772.jpg, Similar Match: f_f_racket_88970_5.jpg, Euclidean Loss: 1.1302834749221802\n",
      "COCO File: m_m_racket_127530.jpg, Similar Match: f_f_racket_64718_1.jpg, Euclidean Loss: 1.102043867111206\n",
      "COCO File: m_m_surfboard_190007.jpg, Similar Match: f_f_surfboard_32570_2.jpg, Euclidean Loss: 1.009473443031311\n",
      "COCO File: m_m_sports_33759.jpg, Similar Match: f_f_sports_89296_4.jpg, Euclidean Loss: 1.076217770576477\n",
      "COCO File: m_m_surfboard_51314.jpg, Similar Match: f_f_surfboard_32570_4.jpg, Euclidean Loss: 1.066798210144043\n",
      "COCO File: m_m_tie_163682.jpg, Similar Match: f_f_tie_163682_1.jpg, Euclidean Loss: 1.1437509059906006\n",
      "COCO File: m_m_skateboard_157365.jpg, Similar Match: f_f_skateboard_157365_3.jpg, Euclidean Loss: 1.1047018766403198\n",
      "COCO File: m_m_sports_515982.jpg, Similar Match: f_f_sports_515982_2.jpg, Euclidean Loss: 1.217971920967102\n",
      "COCO File: m_m_racket_19432.jpg, Similar Match: f_f_racket_19432_2.jpg, Euclidean Loss: 1.2175593376159668\n",
      "COCO File: m_m_tie_131444.jpg, Similar Match: f_f_tie_152214_1.jpg, Euclidean Loss: 1.1939586400985718\n",
      "COCO File: m_m_skateboard_31093.jpg, Similar Match: f_f_skateboard_31093_5.jpg, Euclidean Loss: 1.1582025289535522\n",
      "COCO File: m_m_racket_55950.jpg, Similar Match: f_f_racket_55950_3.jpg, Euclidean Loss: 1.109898567199707\n",
      "COCO File: m_m_frisbee_325991.jpg, Similar Match: f_f_sports_135604_4.jpg, Euclidean Loss: 1.0964782238006592\n",
      "COCO File: m_m_surfboard_187362.jpg, Similar Match: f_f_surfboard_187362_4.jpg, Euclidean Loss: 0.8625734448432922\n",
      "COCO File: m_m_racket_64718.jpg, Similar Match: f_f_racket_88970_5.jpg, Euclidean Loss: 1.1582833528518677\n",
      "COCO File: m_m_surfboard_177357.jpg, Similar Match: f_f_surfboard_32570_2.jpg, Euclidean Loss: 1.0999031066894531\n",
      "COCO File: m_m_surfboard_7278.jpg, Similar Match: f_f_surfboard_177357_5.jpg, Euclidean Loss: 1.0727086067199707\n",
      "COCO File: m_m_surfboard_4765.jpg, Similar Match: f_f_surfboard_32570_3.jpg, Euclidean Loss: 0.9951800107955933\n",
      "COCO File: m_m_skateboard_128699.jpg, Similar Match: f_f_skateboard_13201_4.jpg, Euclidean Loss: 1.1780173778533936\n",
      "COCO File: m_m_sports_89296.jpg, Similar Match: f_f_sports_429690_1.jpg, Euclidean Loss: 1.1149052381515503\n",
      "COCO File: m_m_surfboard_54164.jpg, Similar Match: f_f_surfboard_32570_4.jpg, Euclidean Loss: 1.0008107423782349\n",
      "COCO File: m_m_sports_371552.jpg, Similar Match: f_f_sports_135604_4.jpg, Euclidean Loss: 1.0485420227050781\n",
      "COCO File: m_m_sports_192670.jpg, Similar Match: f_f_sports_429690_1.jpg, Euclidean Loss: 1.0815473794937134\n",
      "COCO File: m_m_skateboard_72281.jpg, Similar Match: f_f_skateboard_13201_4.jpg, Euclidean Loss: 1.1677275896072388\n"
     ]
    }
   ],
   "source": [
    "import csv\n",
    "with open('similarMatch.csv', 'w') as f:\n",
    "    writer = csv.writer(f)\n",
    "    writer.writerow(['COCO Image', 'Match Image', 'Euclidean Loss'])\n",
    "    for i, male in enumerate(coco_m):\n",
    "        diffs = []\n",
    "        for j, female in enumerate(sim_f):\n",
    "            euc = get_difference(male, female)\n",
    "            diffs.append(euc)\n",
    "        best_i = np.argsort(diffs)[0]\n",
    "        coco_file = os.path.basename(coco_m_files[i])\n",
    "        sim_f_file = os.path.basename(sim_f_files[best_i])\n",
    "        print('COCO File: {0}, Similar Match: {1}, Euclidean Loss: {2}'.format(coco_file, sim_f_file, diffs[best_i]))\n",
    "        writer.writerow([coco_file, sim_f_file, diffs[best_i]])"
   ]
  },
  {
   "cell_type": "code",
   "execution_count": 62,
   "metadata": {},
   "outputs": [
    {
     "name": "stdout",
     "output_type": "stream",
     "text": [
      "COCO File: m_f_handbag_81594.jpg, Similar Match: f_m_handbag_81594_3.jpg, Euclidean Loss: 1.198861002922058\n",
      "COCO File: m_f_toothbrush_445999.jpg, Similar Match: f_m_toothbrush_445999_2.jpg, Euclidean Loss: 1.1346672773361206\n",
      "COCO File: m_f_refrigerator_22705.jpg, Similar Match: f_m_refrigerator_456662_1.jpg, Euclidean Loss: 1.1000168323516846\n",
      "COCO File: m_f_hairdrier_350002_2.jpg, Similar Match: f_m_hairdrier_350002_5.jpg, Euclidean Loss: 1.1814556121826172\n",
      "COCO File: m_f_refrigerator_280930.jpg, Similar Match: f_m_refrigerator_150417_1.jpg, Euclidean Loss: 1.2233757972717285\n",
      "COCO File: m_f_refrigerator_280918.jpg, Similar Match: f_m_refrigerator_280930_1.jpg, Euclidean Loss: 1.212421178817749\n",
      "COCO File: m_f_toothbrush_465179.jpg, Similar Match: f_m_toothbrush_465179_1.jpg, Euclidean Loss: 1.215056300163269\n",
      "COCO File: m_f_refrigerator_150417.jpg, Similar Match: f_m_refrigerator_150417_1.jpg, Euclidean Loss: 1.138541579246521\n",
      "COCO File: m_f_toothbrush_324614.jpg, Similar Match: f_m_toothbrush_445999_1.jpg, Euclidean Loss: 1.2175958156585693\n",
      "COCO File: m_f_refrigerator_456662.jpg, Similar Match: f_m_refrigerator_456662_1.jpg, Euclidean Loss: 1.1473337411880493\n",
      "COCO File: m_f_handbag_153529.jpg, Similar Match: f_m_handbag_153529_4.jpg, Euclidean Loss: 1.1791201829910278\n",
      "COCO File: m_f_hairdrier_384136.jpg, Similar Match: f_m_toothbrush_507473_4.jpg, Euclidean Loss: 1.1428070068359375\n",
      "COCO File: m_f_hairdrier_350002.jpg, Similar Match: f_m_toothbrush_445999_5.jpg, Euclidean Loss: 1.1951920986175537\n"
     ]
    }
   ],
   "source": [
    "with open('similarMatch.csv', 'a') as f:\n",
    "    writer = csv.writer(f)\n",
    "    for i, female in enumerate(coco_f):\n",
    "        diffs = []\n",
    "        for j, male in enumerate(sim_m):\n",
    "            euc = get_difference(female, male)\n",
    "            diffs.append(euc)\n",
    "        best_i = np.argsort(diffs)[0]\n",
    "        coco_file = os.path.basename(coco_f_files[i])\n",
    "        sim_m_file = os.path.basename(sim_m_files[best_i])\n",
    "        print('COCO File: {0}, Similar Match: {1}, Euclidean Loss: {2}'.format(coco_file, sim_m_file, diffs[best_i]))\n",
    "        writer.writerow([coco_file, sim_m_file, diffs[best_i]])"
   ]
  },
  {
   "cell_type": "code",
   "execution_count": 66,
   "metadata": {},
   "outputs": [
    {
     "data": {
      "text/plain": [
       "1.1951921"
      ]
     },
     "execution_count": 66,
     "metadata": {},
     "output_type": "execute_result"
    }
   ],
   "source": [
    "min(diffs)"
   ]
  },
  {
   "cell_type": "code",
   "execution_count": 161,
   "metadata": {},
   "outputs": [],
   "source": [
    "mypath = '/Users/dorazhao/Desktop/images/'\n",
    "basepath = 'm_m_skateboard_128699.jpg'\n",
    "file = mypath + basepath\n",
    "male = get_features(model, file)\n",
    "diffs = []\n",
    "for j, female in enumerate(sim_f):\n",
    "    euc = get_difference(male, female)\n",
    "    diffs.append(euc)"
   ]
  },
  {
   "cell_type": "code",
   "execution_count": 162,
   "metadata": {},
   "outputs": [
    {
     "name": "stdout",
     "output_type": "stream",
     "text": [
      "Filename: /Users/dorazhao/Desktop/images/f_f_skateboard_13201_4.jpg Loss: 1.1780173778533936\n",
      "Filename: /Users/dorazhao/Desktop/images/f_f_skateboard_125472_2.jpg Loss: 1.2045457363128662\n",
      "Filename: /Users/dorazhao/Desktop/images/f_f_skateboard_125472_5.jpg Loss: 1.2322584390640259\n",
      "Filename: /Users/dorazhao/Desktop/images/f_f_surfboard_4765_2.jpg Loss: 1.2343543767929077\n",
      "Filename: /Users/dorazhao/Desktop/images/f_f_frisbee_227482_4.jpg Loss: 1.2432812452316284\n",
      "Filename: /Users/dorazhao/Desktop/images/f_f_skateboard_157365_5.jpg Loss: 1.2471376657485962\n",
      "Filename: /Users/dorazhao/Desktop/images/f_f_surfboard_7278_4.jpg Loss: 1.2497766017913818\n",
      "Filename: /Users/dorazhao/Desktop/images/f_f_racket_55950_4.jpg Loss: 1.2517733573913574\n",
      "Filename: /Users/dorazhao/Desktop/images/f_f_skateboard_128699_4.jpg Loss: 1.2519739866256714\n",
      "Filename: /Users/dorazhao/Desktop/images/f_f_racket_64718_4.jpg Loss: 1.252707600593567\n",
      "Filename: /Users/dorazhao/Desktop/images/f_f_skateboard_13201_1.jpg Loss: 1.2528703212738037\n",
      "Filename: /Users/dorazhao/Desktop/images/f_f_frisbee_328238_3.jpg Loss: 1.253253698348999\n",
      "Filename: /Users/dorazhao/Desktop/images/f_f_surfboard_115898_5.jpg Loss: 1.2534517049789429\n",
      "Filename: /Users/dorazhao/Desktop/images/f_f_skateboard_157365_3.jpg Loss: 1.2537063360214233\n",
      "Filename: /Users/dorazhao/Desktop/images/f_f_surfboard_115898_1.jpg Loss: 1.2539105415344238\n",
      "Filename: /Users/dorazhao/Desktop/images/f_f_frisbee_328238_5.jpg Loss: 1.2555623054504395\n",
      "Filename: /Users/dorazhao/Desktop/images/f_f_frisbee_127263_3.jpg Loss: 1.257038950920105\n",
      "Filename: /Users/dorazhao/Desktop/images/f_f_skateboard_13201_3.jpg Loss: 1.2627975940704346\n",
      "Filename: /Users/dorazhao/Desktop/images/f_f_skateboard_125472_3.jpg Loss: 1.2628523111343384\n",
      "Filename: /Users/dorazhao/Desktop/images/f_f_skateboard_128699_1.jpg Loss: 1.266074776649475\n",
      "Filename: /Users/dorazhao/Desktop/images/f_f_surfboard_190007_5.jpg Loss: 1.2671453952789307\n",
      "Filename: /Users/dorazhao/Desktop/images/f_f_surfboard_32570_4.jpg Loss: 1.2700356245040894\n",
      "Filename: /Users/dorazhao/Desktop/images/f_f_surfboard_190007_2.jpg Loss: 1.2749931812286377\n",
      "Filename: /Users/dorazhao/Desktop/images/f_f_surfboard_54164_5.jpg Loss: 1.2750142812728882\n",
      "Filename: /Users/dorazhao/Desktop/images/f_f_surfboard_177357_5.jpg Loss: 1.2767349481582642\n",
      "Filename: /Users/dorazhao/Desktop/images/f_f_surfboard_187362_1.jpg Loss: 1.2774631977081299\n",
      "Filename: /Users/dorazhao/Desktop/images/f_f_frisbee_88485_3.jpg Loss: 1.278183102607727\n",
      "Filename: /Users/dorazhao/Desktop/images/f_f_skateboard_72281_5.jpg Loss: 1.2805122137069702\n",
      "Filename: /Users/dorazhao/Desktop/images/f_f_surfboard_32570_3.jpg Loss: 1.2816184759140015\n",
      "Filename: /Users/dorazhao/Desktop/images/f_f_skateboard_13201_2.jpg Loss: 1.2829322814941406\n",
      "Filename: /Users/dorazhao/Desktop/images/f_f_surfboard_177357_4.jpg Loss: 1.2832456827163696\n",
      "Filename: /Users/dorazhao/Desktop/images/f_f_surfboard_7278_5.jpg Loss: 1.2834757566452026\n",
      "Filename: /Users/dorazhao/Desktop/images/f_f_skateboard_31093_1.jpg Loss: 1.283877968788147\n",
      "Filename: /Users/dorazhao/Desktop/images/f_f_skateboard_31093_5.jpg Loss: 1.2839210033416748\n",
      "Filename: /Users/dorazhao/Desktop/images/f_f_surfboard_32570_5.jpg Loss: 1.2853113412857056\n",
      "Filename: /Users/dorazhao/Desktop/images/f_f_frisbee_328238_4.jpg Loss: 1.2862136363983154\n",
      "Filename: /Users/dorazhao/Desktop/images/f_f_skateboard_157365_2.jpg Loss: 1.2868905067443848\n",
      "Filename: /Users/dorazhao/Desktop/images/f_f_racket_88970_5.jpg Loss: 1.2875728607177734\n",
      "Filename: /Users/dorazhao/Desktop/images/f_f_surfboard_187362_3.jpg Loss: 1.288394570350647\n",
      "Filename: /Users/dorazhao/Desktop/images/f_f_frisbee_325991_5.jpg Loss: 1.2888108491897583\n",
      "Filename: /Users/dorazhao/Desktop/images/f_f_sports_33759_5.jpg Loss: 1.2891522645950317\n",
      "Filename: /Users/dorazhao/Desktop/images/f_f_sports_89296_1.jpg Loss: 1.2897502183914185\n",
      "Filename: /Users/dorazhao/Desktop/images/f_f_racket_88970_4.jpg Loss: 1.2901910543441772\n",
      "Filename: /Users/dorazhao/Desktop/images/f_f_frisbee_127263_4.jpg Loss: 1.2910950183868408\n",
      "Filename: /Users/dorazhao/Desktop/images/f_f_sports_135604_4.jpg Loss: 1.2914714813232422\n",
      "Filename: /Users/dorazhao/Desktop/images/f_f_surfboard_32570_2.jpg Loss: 1.2917301654815674\n",
      "Filename: /Users/dorazhao/Desktop/images/f_f_racket_64718_3.jpg Loss: 1.2923418283462524\n",
      "Filename: /Users/dorazhao/Desktop/images/f_f_skateboard_157365_4.jpg Loss: 1.2925713062286377\n",
      "Filename: /Users/dorazhao/Desktop/images/f_f_sports_33759_4.jpg Loss: 1.2925913333892822\n",
      "Filename: /Users/dorazhao/Desktop/images/f_f_surfboard_51314_1.jpg Loss: 1.2940188646316528\n",
      "Filename: /Users/dorazhao/Desktop/images/f_f_frisbee_127263_2.jpg Loss: 1.294402003288269\n",
      "Filename: /Users/dorazhao/Desktop/images/f_f_skateboard_72281_2.jpg Loss: 1.2946606874465942\n",
      "Filename: /Users/dorazhao/Desktop/images/f_f_racket_64718_5.jpg Loss: 1.2950539588928223\n",
      "Filename: /Users/dorazhao/Desktop/images/f_f_skateboard_31093_3.jpg Loss: 1.2952021360397339\n",
      "Filename: /Users/dorazhao/Desktop/images/f_f_frisbee_328238_1.jpg Loss: 1.2952470779418945\n",
      "Filename: /Users/dorazhao/Desktop/images/f_f_frisbee_291619_4.jpg Loss: 1.295310616493225\n",
      "Filename: /Users/dorazhao/Desktop/images/f_f_surfboard_32570_1.jpg Loss: 1.295983910560608\n",
      "Filename: /Users/dorazhao/Desktop/images/f_f_surfboard_187362_5.jpg Loss: 1.2960734367370605\n",
      "Filename: /Users/dorazhao/Desktop/images/f_f_surfboard_115898_2.jpg Loss: 1.2964212894439697\n",
      "Filename: /Users/dorazhao/Desktop/images/f_f_sports_135604_5.jpg Loss: 1.2967818975448608\n",
      "Filename: /Users/dorazhao/Desktop/images/f_f_sports_192670_5.jpg Loss: 1.2979601621627808\n",
      "Filename: /Users/dorazhao/Desktop/images/f_f_tie_21604_5.jpg Loss: 1.298449993133545\n",
      "Filename: /Users/dorazhao/Desktop/images/f_f_skateboard_72281_3.jpg Loss: 1.2989684343338013\n",
      "Filename: /Users/dorazhao/Desktop/images/f_f_surfboard_190007_1.jpg Loss: 1.2991043329238892\n",
      "Filename: /Users/dorazhao/Desktop/images/f_f_skateboard_31093_2.jpg Loss: 1.2998658418655396\n",
      "Filename: /Users/dorazhao/Desktop/images/f_f_skateboard_128699_3.jpg Loss: 1.3007642030715942\n",
      "Filename: /Users/dorazhao/Desktop/images/f_f_surfboard_51314_4.jpg Loss: 1.3009432554244995\n",
      "Filename: /Users/dorazhao/Desktop/images/f_f_sports_429690_4.jpg Loss: 1.3016358613967896\n",
      "Filename: /Users/dorazhao/Desktop/images/f_f_frisbee_127263_5.jpg Loss: 1.3020604848861694\n",
      "Filename: /Users/dorazhao/Desktop/images/f_f_tie_131444_6.jpg Loss: 1.3030357360839844\n",
      "Filename: /Users/dorazhao/Desktop/images/f_f_skateboard_125472_1.jpg Loss: 1.30348801612854\n",
      "Filename: /Users/dorazhao/Desktop/images/f_f_sports_89296_4.jpg Loss: 1.3044068813323975\n",
      "Filename: /Users/dorazhao/Desktop/images/f_f_surfboard_115898_3.jpg Loss: 1.3045284748077393\n",
      "Filename: /Users/dorazhao/Desktop/images/f_f_surfboard_54164_4.jpg Loss: 1.3045284748077393\n",
      "Filename: /Users/dorazhao/Desktop/images/f_f_sports_515982_3.jpg Loss: 1.3047412633895874\n",
      "Filename: /Users/dorazhao/Desktop/images/f_f_frisbee_88485_4.jpg Loss: 1.3047899007797241\n",
      "Filename: /Users/dorazhao/Desktop/images/f_f_surfboard_177357_1.jpg Loss: 1.3057762384414673\n",
      "Filename: /Users/dorazhao/Desktop/images/f_f_skateboard_72281_4.jpg Loss: 1.306381344795227\n",
      "Filename: /Users/dorazhao/Desktop/images/f_f_sports_33759_3.jpg Loss: 1.3064770698547363\n",
      "Filename: /Users/dorazhao/Desktop/images/f_f_surfboard_187362_2.jpg Loss: 1.3066729307174683\n",
      "Filename: /Users/dorazhao/Desktop/images/f_f_sports_135604_2.jpg Loss: 1.3099830150604248\n",
      "Filename: /Users/dorazhao/Desktop/images/f_f_surfboard_190007_4.jpg Loss: 1.310335397720337\n",
      "Filename: /Users/dorazhao/Desktop/images/f_f_surfboard_190007_3.jpg Loss: 1.310335397720337\n",
      "Filename: /Users/dorazhao/Desktop/images/f_f_sports_135604_1.jpg Loss: 1.3109091520309448\n",
      "Filename: /Users/dorazhao/Desktop/images/f_f_racket_55950_1.jpg Loss: 1.3111680746078491\n",
      "Filename: /Users/dorazhao/Desktop/images/f_f_sports_515982_4.jpg Loss: 1.312051773071289\n",
      "Filename: /Users/dorazhao/Desktop/images/f_f_skateboard_128699_2.jpg Loss: 1.312060832977295\n",
      "Filename: /Users/dorazhao/Desktop/images/f_f_surfboard_51314_3.jpg Loss: 1.312624454498291\n",
      "Filename: /Users/dorazhao/Desktop/images/f_f_frisbee_227482_3.jpg Loss: 1.3130896091461182\n",
      "Filename: /Users/dorazhao/Desktop/images/f_f_frisbee_227482_5.jpg Loss: 1.3131123781204224\n",
      "Filename: /Users/dorazhao/Desktop/images/f_f_racket_55950_3.jpg Loss: 1.3142014741897583\n",
      "Filename: /Users/dorazhao/Desktop/images/f_f_surfboard_54164_3.jpg Loss: 1.314424991607666\n",
      "Filename: /Users/dorazhao/Desktop/images/f_f_skateboard_72281_1.jpg Loss: 1.3148107528686523\n",
      "Filename: /Users/dorazhao/Desktop/images/f_f_skateboard_31093_4.jpg Loss: 1.3150742053985596\n",
      "Filename: /Users/dorazhao/Desktop/images/f_f_racket_19432_2.jpg Loss: 1.315327763557434\n",
      "Filename: /Users/dorazhao/Desktop/images/f_f_frisbee_328238_2.jpg Loss: 1.316273808479309\n",
      "Filename: /Users/dorazhao/Desktop/images/f_f_racket_85772_1.jpg Loss: 1.3166152238845825\n",
      "Filename: /Users/dorazhao/Desktop/images/f_f_skateboard_125472_4.jpg Loss: 1.3166723251342773\n",
      "Filename: /Users/dorazhao/Desktop/images/f_f_surfboard_51314_2.jpg Loss: 1.316857099533081\n",
      "Filename: /Users/dorazhao/Desktop/images/f_f_sports_135604_3.jpg Loss: 1.3187865018844604\n",
      "Filename: /Users/dorazhao/Desktop/images/f_f_racket_55950_2.jpg Loss: 1.3197362422943115\n",
      "Filename: /Users/dorazhao/Desktop/images/f_f_surfboard_177357_3.jpg Loss: 1.3200428485870361\n",
      "Filename: /Users/dorazhao/Desktop/images/f_f_surfboard_4765_4.jpg Loss: 1.3200428485870361\n",
      "Filename: /Users/dorazhao/Desktop/images/f_f_surfboard_4765_1.jpg Loss: 1.320472240447998\n",
      "Filename: /Users/dorazhao/Desktop/images/f_f_skateboard_128699_5.jpg Loss: 1.320578694343567\n",
      "Filename: /Users/dorazhao/Desktop/images/f_f_tie_21604_4.jpg Loss: 1.320630669593811\n",
      "Filename: /Users/dorazhao/Desktop/images/f_f_sports_371552_3.jpg Loss: 1.3210071325302124\n",
      "Filename: /Users/dorazhao/Desktop/images/f_f_tie_21604_2.jpg Loss: 1.3211625814437866\n",
      "Filename: /Users/dorazhao/Desktop/images/f_f_sports_429690_3.jpg Loss: 1.3215608596801758\n",
      "Filename: /Users/dorazhao/Desktop/images/f_f_surfboard_177357_2.jpg Loss: 1.3216952085494995\n",
      "Filename: /Users/dorazhao/Desktop/images/f_f_sports_192670_3.jpg Loss: 1.321871042251587\n",
      "Filename: /Users/dorazhao/Desktop/images/f_f_racket_64718_2.jpg Loss: 1.3226839303970337\n",
      "Filename: /Users/dorazhao/Desktop/images/f_f_surfboard_54164_1.jpg Loss: 1.3227461576461792\n",
      "Filename: /Users/dorazhao/Desktop/images/f_f_racket_64718_1.jpg Loss: 1.323305606842041\n",
      "Filename: /Users/dorazhao/Desktop/images/f_f_racket_55950_5.jpg Loss: 1.323535680770874\n",
      "Filename: /Users/dorazhao/Desktop/images/f_f_racket_127530_1.jpg Loss: 1.323569893836975\n",
      "Filename: /Users/dorazhao/Desktop/images/f_f_sports_515982_1.jpg Loss: 1.3238749504089355\n",
      "Filename: /Users/dorazhao/Desktop/images/f_f_surfboard_7278_2.jpg Loss: 1.3241468667984009\n",
      "Filename: /Users/dorazhao/Desktop/images/f_f_sports_515982_2.jpg Loss: 1.3243448734283447\n",
      "Filename: /Users/dorazhao/Desktop/images/f_f_racket_19432_4.jpg Loss: 1.3248475790023804\n",
      "Filename: /Users/dorazhao/Desktop/images/f_f_frisbee_325991_4.jpg Loss: 1.3250075578689575\n",
      "Filename: /Users/dorazhao/Desktop/images/f_f_sports_429690_1.jpg Loss: 1.3261258602142334\n",
      "Filename: /Users/dorazhao/Desktop/images/f_f_sports_429690_5.jpg Loss: 1.3264130353927612\n",
      "Filename: /Users/dorazhao/Desktop/images/f_f_surfboard_54164_2.jpg Loss: 1.3265889883041382\n",
      "Filename: /Users/dorazhao/Desktop/images/f_f_skateboard_13201_5.jpg Loss: 1.3279080390930176\n",
      "Filename: /Users/dorazhao/Desktop/images/f_f_sports_429690_2.jpg Loss: 1.328048825263977\n",
      "Filename: /Users/dorazhao/Desktop/images/f_f_frisbee_127263_1.jpg Loss: 1.3283145427703857\n",
      "Filename: /Users/dorazhao/Desktop/images/f_f_tie_21604_1.jpg Loss: 1.3286000490188599\n",
      "Filename: /Users/dorazhao/Desktop/images/f_f_sports_371552_4.jpg Loss: 1.3286563158035278\n",
      "Filename: /Users/dorazhao/Desktop/images/f_f_tie_163682_2.jpg Loss: 1.3288217782974243\n",
      "Filename: /Users/dorazhao/Desktop/images/f_f_sports_89296_3.jpg Loss: 1.3289321660995483\n",
      "Filename: /Users/dorazhao/Desktop/images/f_f_racket_19432_1.jpg Loss: 1.329049825668335\n",
      "Filename: /Users/dorazhao/Desktop/images/f_f_tie_131444_2.jpg Loss: 1.3291734457015991\n",
      "Filename: /Users/dorazhao/Desktop/images/f_f_frisbee_88485_2.jpg Loss: 1.329247236251831\n",
      "Filename: /Users/dorazhao/Desktop/images/f_f_surfboard_187362_6.jpg Loss: 1.3293917179107666\n",
      "Filename: /Users/dorazhao/Desktop/images/f_f_racket_19432_5.jpg Loss: 1.329463005065918\n",
      "Filename: /Users/dorazhao/Desktop/images/f_f_frisbee_227482_1.jpg Loss: 1.3297755718231201\n",
      "Filename: /Users/dorazhao/Desktop/images/f_f_racket_127530_2.jpg Loss: 1.329885482788086\n",
      "Filename: /Users/dorazhao/Desktop/images/f_f_racket_19432_3.jpg Loss: 1.330297827720642\n",
      "Filename: /Users/dorazhao/Desktop/images/f_f_frisbee_325991_2.jpg Loss: 1.3304073810577393\n",
      "Filename: /Users/dorazhao/Desktop/images/f_f_racket_85772_2.jpg Loss: 1.3312852382659912\n",
      "Filename: /Users/dorazhao/Desktop/images/f_f_sports_515982_5.jpg Loss: 1.3322091102600098\n",
      "Filename: /Users/dorazhao/Desktop/images/f_f_frisbee_88485_1.jpg Loss: 1.332720160484314\n",
      "Filename: /Users/dorazhao/Desktop/images/f_f_surfboard_115898_4.jpg Loss: 1.3329057693481445\n",
      "Filename: /Users/dorazhao/Desktop/images/f_f_sports_33759_1.jpg Loss: 1.333031415939331\n",
      "Filename: /Users/dorazhao/Desktop/images/f_f_frisbee_291619_2.jpg Loss: 1.3335949182510376\n",
      "Filename: /Users/dorazhao/Desktop/images/f_f_frisbee_291619_1.jpg Loss: 1.3335949182510376\n",
      "Filename: /Users/dorazhao/Desktop/images/f_f_sports_371552_1.jpg Loss: 1.3337156772613525\n",
      "Filename: /Users/dorazhao/Desktop/images/f_f_frisbee_227482_2.jpg Loss: 1.3339498043060303\n",
      "Filename: /Users/dorazhao/Desktop/images/f_f_racket_85772_4.jpg Loss: 1.3340715169906616\n",
      "Filename: /Users/dorazhao/Desktop/images/f_f_racket_88970_2.jpg Loss: 1.3341296911239624\n",
      "Filename: /Users/dorazhao/Desktop/images/f_f_frisbee_325991_3.jpg Loss: 1.3358709812164307\n",
      "Filename: /Users/dorazhao/Desktop/images/f_f_frisbee_88485_5.jpg Loss: 1.3359839916229248\n",
      "Filename: /Users/dorazhao/Desktop/images/f_f_sports_192670_2.jpg Loss: 1.336302399635315\n",
      "Filename: /Users/dorazhao/Desktop/images/f_f_surfboard_4765_3.jpg Loss: 1.336879849433899\n",
      "Filename: /Users/dorazhao/Desktop/images/f_f_frisbee_291619_5.jpg Loss: 1.3374515771865845\n",
      "Filename: /Users/dorazhao/Desktop/images/f_f_sports_89296_2.jpg Loss: 1.3375908136367798\n",
      "Filename: /Users/dorazhao/Desktop/images/f_f_racket_127530_4.jpg Loss: 1.3375946283340454\n",
      "Filename: /Users/dorazhao/Desktop/images/f_f_surfboard_51314_5.jpg Loss: 1.338141679763794\n",
      "Filename: /Users/dorazhao/Desktop/images/f_f_sports_192670_1.jpg Loss: 1.3384829759597778\n",
      "Filename: /Users/dorazhao/Desktop/images/f_f_racket_88970_1.jpg Loss: 1.3385510444641113\n",
      "Filename: /Users/dorazhao/Desktop/images/f_f_tie_131444_4.jpg Loss: 1.3387507200241089\n",
      "Filename: /Users/dorazhao/Desktop/images/f_f_surfboard_7278_1.jpg Loss: 1.3396762609481812\n",
      "Filename: /Users/dorazhao/Desktop/images/f_f_racket_127530_3.jpg Loss: 1.340364694595337\n",
      "Filename: /Users/dorazhao/Desktop/images/f_f_racket_85772_5.jpg Loss: 1.3404431343078613\n",
      "Filename: /Users/dorazhao/Desktop/images/f_f_sports_371552_5.jpg Loss: 1.3406612873077393\n",
      "Filename: /Users/dorazhao/Desktop/images/f_f_racket_85772_3.jpg Loss: 1.3420065641403198\n",
      "Filename: /Users/dorazhao/Desktop/images/f_f_sports_33759_2.jpg Loss: 1.3425503969192505\n",
      "Filename: /Users/dorazhao/Desktop/images/f_f_surfboard_4765_5.jpg Loss: 1.3441660404205322\n",
      "Filename: /Users/dorazhao/Desktop/images/f_f_surfboard_7278_3.jpg Loss: 1.3442702293395996\n",
      "Filename: /Users/dorazhao/Desktop/images/f_f_tie_21604_3.jpg Loss: 1.3445625305175781\n",
      "Filename: /Users/dorazhao/Desktop/images/f_f_racket_88970_3.jpg Loss: 1.3452584743499756\n",
      "Filename: /Users/dorazhao/Desktop/images/f_f_frisbee_325991_1.jpg Loss: 1.3462270498275757\n",
      "Filename: /Users/dorazhao/Desktop/images/f_f_frisbee_291619_3.jpg Loss: 1.3473658561706543\n",
      "Filename: /Users/dorazhao/Desktop/images/f_f_sports_371552_2.jpg Loss: 1.347778081893921\n",
      "Filename: /Users/dorazhao/Desktop/images/f_f_surfboard_187362_4.jpg Loss: 1.348212480545044\n",
      "Filename: /Users/dorazhao/Desktop/images/f_f_sports_89296_5.jpg Loss: 1.3484418392181396\n",
      "Filename: /Users/dorazhao/Desktop/images/f_f_sports_192670_4.jpg Loss: 1.348708987236023\n",
      "Filename: /Users/dorazhao/Desktop/images/f_f_tie_152214_1.jpg Loss: 1.3503469228744507\n",
      "Filename: /Users/dorazhao/Desktop/images/f_f_skateboard_157365_1.jpg Loss: 1.351340651512146\n",
      "Filename: /Users/dorazhao/Desktop/images/f_f_racket_127530_5.jpg Loss: 1.3515996932983398\n",
      "Filename: /Users/dorazhao/Desktop/images/f_f_tie_131444_5.jpg Loss: 1.3561418056488037\n",
      "Filename: /Users/dorazhao/Desktop/images/f_f_tie_131444_1.jpg Loss: 1.3578869104385376\n",
      "Filename: /Users/dorazhao/Desktop/images/f_f_tie_163682_1.jpg Loss: 1.3579859733581543\n",
      "Filename: /Users/dorazhao/Desktop/images/f_f_tie_131444_3.jpg Loss: 1.3678088188171387\n"
     ]
    }
   ],
   "source": [
    "indices = np.argsort(diffs)\n",
    "for i in indices:\n",
    "    print('Filename: {0} Loss: {1}'.format(sim_f_files[i], diffs[i]))\n"
   ]
  },
  {
   "cell_type": "code",
   "execution_count": null,
   "metadata": {},
   "outputs": [],
   "source": []
  }
 ],
 "metadata": {
  "kernelspec": {
   "display_name": "Python 3",
   "language": "python",
   "name": "python3"
  },
  "language_info": {
   "codemirror_mode": {
    "name": "ipython",
    "version": 3
   },
   "file_extension": ".py",
   "mimetype": "text/x-python",
   "name": "python",
   "nbconvert_exporter": "python",
   "pygments_lexer": "ipython3",
   "version": "3.7.9"
  }
 },
 "nbformat": 4,
 "nbformat_minor": 4
}
