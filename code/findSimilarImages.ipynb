{
 "cells": [
  {
   "cell_type": "code",
   "execution_count": 1,
   "metadata": {},
   "outputs": [
    {
     "name": "stderr",
     "output_type": "stream",
     "text": [
      "/Users/dorazhao/miniconda3/envs/thesis/lib/python3.7/site-packages/tensorflow/python/framework/dtypes.py:516: FutureWarning: Passing (type, 1) or '1type' as a synonym of type is deprecated; in a future version of numpy, it will be understood as (type, (1,)) / '(1,)type'.\n",
      "  _np_qint8 = np.dtype([(\"qint8\", np.int8, 1)])\n",
      "/Users/dorazhao/miniconda3/envs/thesis/lib/python3.7/site-packages/tensorflow/python/framework/dtypes.py:517: FutureWarning: Passing (type, 1) or '1type' as a synonym of type is deprecated; in a future version of numpy, it will be understood as (type, (1,)) / '(1,)type'.\n",
      "  _np_quint8 = np.dtype([(\"quint8\", np.uint8, 1)])\n",
      "/Users/dorazhao/miniconda3/envs/thesis/lib/python3.7/site-packages/tensorflow/python/framework/dtypes.py:518: FutureWarning: Passing (type, 1) or '1type' as a synonym of type is deprecated; in a future version of numpy, it will be understood as (type, (1,)) / '(1,)type'.\n",
      "  _np_qint16 = np.dtype([(\"qint16\", np.int16, 1)])\n",
      "/Users/dorazhao/miniconda3/envs/thesis/lib/python3.7/site-packages/tensorflow/python/framework/dtypes.py:519: FutureWarning: Passing (type, 1) or '1type' as a synonym of type is deprecated; in a future version of numpy, it will be understood as (type, (1,)) / '(1,)type'.\n",
      "  _np_quint16 = np.dtype([(\"quint16\", np.uint16, 1)])\n",
      "/Users/dorazhao/miniconda3/envs/thesis/lib/python3.7/site-packages/tensorflow/python/framework/dtypes.py:520: FutureWarning: Passing (type, 1) or '1type' as a synonym of type is deprecated; in a future version of numpy, it will be understood as (type, (1,)) / '(1,)type'.\n",
      "  _np_qint32 = np.dtype([(\"qint32\", np.int32, 1)])\n",
      "/Users/dorazhao/miniconda3/envs/thesis/lib/python3.7/site-packages/tensorflow/python/framework/dtypes.py:525: FutureWarning: Passing (type, 1) or '1type' as a synonym of type is deprecated; in a future version of numpy, it will be understood as (type, (1,)) / '(1,)type'.\n",
      "  np_resource = np.dtype([(\"resource\", np.ubyte, 1)])\n",
      "/Users/dorazhao/miniconda3/envs/thesis/lib/python3.7/site-packages/tensorboard/compat/tensorflow_stub/dtypes.py:541: FutureWarning: Passing (type, 1) or '1type' as a synonym of type is deprecated; in a future version of numpy, it will be understood as (type, (1,)) / '(1,)type'.\n",
      "  _np_qint8 = np.dtype([(\"qint8\", np.int8, 1)])\n",
      "/Users/dorazhao/miniconda3/envs/thesis/lib/python3.7/site-packages/tensorboard/compat/tensorflow_stub/dtypes.py:542: FutureWarning: Passing (type, 1) or '1type' as a synonym of type is deprecated; in a future version of numpy, it will be understood as (type, (1,)) / '(1,)type'.\n",
      "  _np_quint8 = np.dtype([(\"quint8\", np.uint8, 1)])\n",
      "/Users/dorazhao/miniconda3/envs/thesis/lib/python3.7/site-packages/tensorboard/compat/tensorflow_stub/dtypes.py:543: FutureWarning: Passing (type, 1) or '1type' as a synonym of type is deprecated; in a future version of numpy, it will be understood as (type, (1,)) / '(1,)type'.\n",
      "  _np_qint16 = np.dtype([(\"qint16\", np.int16, 1)])\n",
      "/Users/dorazhao/miniconda3/envs/thesis/lib/python3.7/site-packages/tensorboard/compat/tensorflow_stub/dtypes.py:544: FutureWarning: Passing (type, 1) or '1type' as a synonym of type is deprecated; in a future version of numpy, it will be understood as (type, (1,)) / '(1,)type'.\n",
      "  _np_quint16 = np.dtype([(\"quint16\", np.uint16, 1)])\n",
      "/Users/dorazhao/miniconda3/envs/thesis/lib/python3.7/site-packages/tensorboard/compat/tensorflow_stub/dtypes.py:545: FutureWarning: Passing (type, 1) or '1type' as a synonym of type is deprecated; in a future version of numpy, it will be understood as (type, (1,)) / '(1,)type'.\n",
      "  _np_qint32 = np.dtype([(\"qint32\", np.int32, 1)])\n",
      "/Users/dorazhao/miniconda3/envs/thesis/lib/python3.7/site-packages/tensorboard/compat/tensorflow_stub/dtypes.py:550: FutureWarning: Passing (type, 1) or '1type' as a synonym of type is deprecated; in a future version of numpy, it will be understood as (type, (1,)) / '(1,)type'.\n",
      "  np_resource = np.dtype([(\"resource\", np.ubyte, 1)])\n"
     ]
    }
   ],
   "source": [
    "import numpy as np\n",
    "import numpy.linalg as linalg\n",
    "import pickle, os, time\n",
    "from tensorflow.keras.preprocessing import image\n",
    "from tensorflow.keras.applications.resnet50 import ResNet50, preprocess_input"
   ]
  },
  {
   "cell_type": "code",
   "execution_count": 2,
   "metadata": {},
   "outputs": [
    {
     "name": "stderr",
     "output_type": "stream",
     "text": [
      "/Users/dorazhao/miniconda3/envs/thesis/lib/python3.7/site-packages/keras_applications/resnet50.py:265: UserWarning: The output shape of `ResNet50(include_top=False)` has been changed since Keras 2.2.0.\n",
      "  warnings.warn('The output shape of `ResNet50(include_top=False)` '\n"
     ]
    }
   ],
   "source": [
    "model = ResNet50(weights='imagenet', include_top=False,\n",
    "                 input_shape=(224, 224, 3))"
   ]
  },
  {
   "cell_type": "code",
   "execution_count": 3,
   "metadata": {},
   "outputs": [
    {
     "name": "stdout",
     "output_type": "stream",
     "text": [
      "(1, 7, 7, 2048)\n"
     ]
    }
   ],
   "source": [
    "img_path = 'testImage.jpg'\n",
    "img = image.load_img(img_path, target_size=(224, 224))\n",
    "img_data = image.img_to_array(img)\n",
    "img_data = np.expand_dims(img_data, axis=0)\n",
    "img_data = preprocess_input(img_data)\n",
    "features = model.predict(img_data)\n",
    "print(features.shape)"
   ]
  },
  {
   "cell_type": "code",
   "execution_count": 4,
   "metadata": {},
   "outputs": [],
   "source": [
    "# function that gets features from resnet\n",
    "def get_features(model, img_path):\n",
    "    img = image.load_img(img_path, target_size=(224, 224))\n",
    "    img_data = image.img_to_array(img)\n",
    "    img_data = np.expand_dims(img_data, axis=0)\n",
    "    img_data = preprocess_input(img_data)\n",
    "    features = model.predict(img_data).flatten()\n",
    "    features = features / linalg.norm(features)\n",
    "    return features "
   ]
  },
  {
   "cell_type": "code",
   "execution_count": 50,
   "metadata": {},
   "outputs": [],
   "source": [
    "# gets the euclidean distance and cosine loss between a pair of feature representation\n",
    "def get_difference(feature1, feature2):\n",
    "    euclidean_loss = np.power(feature1 - feature2, 2)\n",
    "    euclidean_loss = np.sqrt(np.sum(euclidean_loss))\n",
    "#     cosine_loss = (feature1.T @ feature2)\n",
    "    return euclidean_loss"
   ]
  },
  {
   "cell_type": "code",
   "execution_count": 58,
   "metadata": {},
   "outputs": [],
   "source": [
    "mypath = '/Users/dorazhao/Desktop/images/'\n",
    "files_path = [mypath + x for x in os.listdir(mypath) if not x.startswith('.')]"
   ]
  },
  {
   "cell_type": "code",
   "execution_count": 126,
   "metadata": {},
   "outputs": [],
   "source": [
    "coco_m, coco_f, sim_m, sim_f, coco_m_files, coco_f_files, sim_m_files, sim_f_files = ([] for i in range(8))\n",
    "\n",
    "for file in files_path:\n",
    "    base = os.path.basename(file).split('_')\n",
    "    features = get_features(model, file)\n",
    "    if base[0] is 'f' and base[1] is 'f':\n",
    "        sim_f.append(features)\n",
    "        sim_f_files.append(file)\n",
    "    elif base[0] is 'f' and base[1] is 'm':\n",
    "        sim_m.append(features)\n",
    "        sim_m_files.append(file)\n",
    "    elif base[0] is 'm' and base[1] is 'm':\n",
    "        coco_m.append(features)\n",
    "        coco_m_files.append(file)\n",
    "    else: \n",
    "        coco_f.append(features)\n",
    "        coco_f_files.append(file)"
   ]
  },
  {
   "cell_type": "code",
   "execution_count": 61,
   "metadata": {},
   "outputs": [
    {
     "name": "stdout",
     "output_type": "stream",
     "text": [
      "COCO File: m_m_frisbee_227482.jpg, Similar Match: f_f_sports_135604_4.jpg, Euclidean Loss: 1.1695038080215454\n",
      "COCO File: m_m_frisbee_88485.jpg, Similar Match: f_f_frisbee_88485_2.jpg, Euclidean Loss: 1.1360191106796265\n",
      "COCO File: m_m_tie_152214.jpg, Similar Match: f_f_tie_131444_1.jpg, Euclidean Loss: 1.1849696636199951\n",
      "COCO File: m_m_surfboard_115898.jpg, Similar Match: f_f_surfboard_115898_1.jpg, Euclidean Loss: 0.9874610900878906\n",
      "COCO File: m_m_frisbee_328238.jpg, Similar Match: f_f_sports_135604_4.jpg, Euclidean Loss: 1.1178133487701416\n",
      "COCO File: m_m_sports_135604.jpg, Similar Match: f_f_sports_371552_4.jpg, Euclidean Loss: 1.1168785095214844\n",
      "COCO File: m_m_tie_170099.jpg, Similar Match: f_f_frisbee_325991_1.jpg, Euclidean Loss: 1.2257771492004395\n",
      "COCO File: m_m_racket_88970.jpg, Similar Match: f_f_sports_429690_1.jpg, Euclidean Loss: 1.1238709688186646\n",
      "COCO File: m_m_tie_21604.jpg, Similar Match: f_f_tie_21604_1.jpg, Euclidean Loss: 1.1359667778015137\n",
      "COCO File: m_m_surfboard_32570.jpg, Similar Match: f_f_surfboard_7278_3.jpg, Euclidean Loss: 1.0985536575317383\n",
      "COCO File: m_m_skateboard_13201.jpg, Similar Match: f_f_skateboard_13201_4.jpg, Euclidean Loss: 1.1604409217834473\n",
      "COCO File: m_m_sports_429690.jpg, Similar Match: f_f_sports_429690_1.jpg, Euclidean Loss: 1.0708869695663452\n",
      "COCO File: m_m_skateboard_125472.jpg, Similar Match: f_f_skateboard_13201_4.jpg, Euclidean Loss: 1.1681889295578003\n",
      "COCO File: m_m_frisbee_127263.jpg, Similar Match: f_f_sports_135604_4.jpg, Euclidean Loss: 1.0684254169464111\n",
      "COCO File: m_m_frisbee_291619.jpg, Similar Match: f_f_frisbee_291619_2.jpg, Euclidean Loss: 1.0963425636291504\n",
      "COCO File: m_m_racket_85772.jpg, Similar Match: f_f_racket_88970_5.jpg, Euclidean Loss: 1.1302834749221802\n",
      "COCO File: m_m_racket_127530.jpg, Similar Match: f_f_racket_64718_1.jpg, Euclidean Loss: 1.102043867111206\n",
      "COCO File: m_m_surfboard_190007.jpg, Similar Match: f_f_surfboard_32570_2.jpg, Euclidean Loss: 1.009473443031311\n",
      "COCO File: m_m_sports_33759.jpg, Similar Match: f_f_sports_89296_4.jpg, Euclidean Loss: 1.076217770576477\n",
      "COCO File: m_m_surfboard_51314.jpg, Similar Match: f_f_surfboard_32570_4.jpg, Euclidean Loss: 1.066798210144043\n",
      "COCO File: m_m_tie_163682.jpg, Similar Match: f_f_tie_163682_1.jpg, Euclidean Loss: 1.1437509059906006\n",
      "COCO File: m_m_skateboard_157365.jpg, Similar Match: f_f_skateboard_157365_3.jpg, Euclidean Loss: 1.1047018766403198\n",
      "COCO File: m_m_sports_515982.jpg, Similar Match: f_f_sports_515982_2.jpg, Euclidean Loss: 1.217971920967102\n",
      "COCO File: m_m_racket_19432.jpg, Similar Match: f_f_racket_19432_2.jpg, Euclidean Loss: 1.2175593376159668\n",
      "COCO File: m_m_tie_131444.jpg, Similar Match: f_f_tie_152214_1.jpg, Euclidean Loss: 1.1939586400985718\n",
      "COCO File: m_m_skateboard_31093.jpg, Similar Match: f_f_skateboard_31093_5.jpg, Euclidean Loss: 1.1582025289535522\n",
      "COCO File: m_m_racket_55950.jpg, Similar Match: f_f_racket_55950_3.jpg, Euclidean Loss: 1.109898567199707\n",
      "COCO File: m_m_frisbee_325991.jpg, Similar Match: f_f_sports_135604_4.jpg, Euclidean Loss: 1.0964782238006592\n",
      "COCO File: m_m_surfboard_187362.jpg, Similar Match: f_f_surfboard_187362_4.jpg, Euclidean Loss: 0.8625734448432922\n",
      "COCO File: m_m_racket_64718.jpg, Similar Match: f_f_racket_88970_5.jpg, Euclidean Loss: 1.1582833528518677\n",
      "COCO File: m_m_surfboard_177357.jpg, Similar Match: f_f_surfboard_32570_2.jpg, Euclidean Loss: 1.0999031066894531\n",
      "COCO File: m_m_surfboard_7278.jpg, Similar Match: f_f_surfboard_177357_5.jpg, Euclidean Loss: 1.0727086067199707\n",
      "COCO File: m_m_surfboard_4765.jpg, Similar Match: f_f_surfboard_32570_3.jpg, Euclidean Loss: 0.9951800107955933\n",
      "COCO File: m_m_skateboard_128699.jpg, Similar Match: f_f_skateboard_13201_4.jpg, Euclidean Loss: 1.1780173778533936\n",
      "COCO File: m_m_sports_89296.jpg, Similar Match: f_f_sports_429690_1.jpg, Euclidean Loss: 1.1149052381515503\n",
      "COCO File: m_m_surfboard_54164.jpg, Similar Match: f_f_surfboard_32570_4.jpg, Euclidean Loss: 1.0008107423782349\n",
      "COCO File: m_m_sports_371552.jpg, Similar Match: f_f_sports_135604_4.jpg, Euclidean Loss: 1.0485420227050781\n",
      "COCO File: m_m_sports_192670.jpg, Similar Match: f_f_sports_429690_1.jpg, Euclidean Loss: 1.0815473794937134\n",
      "COCO File: m_m_skateboard_72281.jpg, Similar Match: f_f_skateboard_13201_4.jpg, Euclidean Loss: 1.1677275896072388\n"
     ]
    }
   ],
   "source": [
    "import csv\n",
    "with open('similarMatch.csv', 'w') as f:\n",
    "    writer = csv.writer(f)\n",
    "    writer.writerow(['COCO Image', 'Match Image', 'Euclidean Loss'])\n",
    "    for i, male in enumerate(coco_m):\n",
    "        diffs = []\n",
    "        for j, female in enumerate(sim_f):\n",
    "            euc = get_difference(male, female)\n",
    "            diffs.append(euc)\n",
    "        best_i = np.argsort(diffs)[0]\n",
    "        coco_file = os.path.basename(coco_m_files[i])\n",
    "        sim_f_file = os.path.basename(sim_f_files[best_i])\n",
    "        print('COCO File: {0}, Similar Match: {1}, Euclidean Loss: {2}'.format(coco_file, sim_f_file, diffs[best_i]))\n",
    "        writer.writerow([coco_file, sim_f_file, diffs[best_i]])"
   ]
  },
  {
   "cell_type": "code",
   "execution_count": 62,
   "metadata": {},
   "outputs": [
    {
     "name": "stdout",
     "output_type": "stream",
     "text": [
      "COCO File: m_f_handbag_81594.jpg, Similar Match: f_m_handbag_81594_3.jpg, Euclidean Loss: 1.198861002922058\n",
      "COCO File: m_f_toothbrush_445999.jpg, Similar Match: f_m_toothbrush_445999_2.jpg, Euclidean Loss: 1.1346672773361206\n",
      "COCO File: m_f_refrigerator_22705.jpg, Similar Match: f_m_refrigerator_456662_1.jpg, Euclidean Loss: 1.1000168323516846\n",
      "COCO File: m_f_hairdrier_350002_2.jpg, Similar Match: f_m_hairdrier_350002_5.jpg, Euclidean Loss: 1.1814556121826172\n",
      "COCO File: m_f_refrigerator_280930.jpg, Similar Match: f_m_refrigerator_150417_1.jpg, Euclidean Loss: 1.2233757972717285\n",
      "COCO File: m_f_refrigerator_280918.jpg, Similar Match: f_m_refrigerator_280930_1.jpg, Euclidean Loss: 1.212421178817749\n",
      "COCO File: m_f_toothbrush_465179.jpg, Similar Match: f_m_toothbrush_465179_1.jpg, Euclidean Loss: 1.215056300163269\n",
      "COCO File: m_f_refrigerator_150417.jpg, Similar Match: f_m_refrigerator_150417_1.jpg, Euclidean Loss: 1.138541579246521\n",
      "COCO File: m_f_toothbrush_324614.jpg, Similar Match: f_m_toothbrush_445999_1.jpg, Euclidean Loss: 1.2175958156585693\n",
      "COCO File: m_f_refrigerator_456662.jpg, Similar Match: f_m_refrigerator_456662_1.jpg, Euclidean Loss: 1.1473337411880493\n",
      "COCO File: m_f_handbag_153529.jpg, Similar Match: f_m_handbag_153529_4.jpg, Euclidean Loss: 1.1791201829910278\n",
      "COCO File: m_f_hairdrier_384136.jpg, Similar Match: f_m_toothbrush_507473_4.jpg, Euclidean Loss: 1.1428070068359375\n",
      "COCO File: m_f_hairdrier_350002.jpg, Similar Match: f_m_toothbrush_445999_5.jpg, Euclidean Loss: 1.1951920986175537\n"
     ]
    }
   ],
   "source": [
    "with open('similarMatch.csv', 'a') as f:\n",
    "    writer = csv.writer(f)\n",
    "    for i, female in enumerate(coco_f):\n",
    "        diffs = []\n",
    "        for j, male in enumerate(sim_m):\n",
    "            euc = get_difference(female, male)\n",
    "            diffs.append(euc)\n",
    "        best_i = np.argsort(diffs)[0]\n",
    "        coco_file = os.path.basename(coco_f_files[i])\n",
    "        sim_m_file = os.path.basename(sim_m_files[best_i])\n",
    "        print('COCO File: {0}, Similar Match: {1}, Euclidean Loss: {2}'.format(coco_file, sim_m_file, diffs[best_i]))\n",
    "        writer.writerow([coco_file, sim_m_file, diffs[best_i]])"
   ]
  },
  {
   "cell_type": "code",
   "execution_count": 66,
   "metadata": {},
   "outputs": [
    {
     "data": {
      "text/plain": [
       "1.1951921"
      ]
     },
     "execution_count": 66,
     "metadata": {},
     "output_type": "execute_result"
    }
   ],
   "source": [
    "min(diffs)"
   ]
  },
  {
   "cell_type": "code",
   "execution_count": 149,
   "metadata": {},
   "outputs": [],
   "source": [
    "mypath = '/Users/dorazhao/Desktop/images/'\n",
    "basepath = 'm_m_frisbee_325991.jpg'\n",
    "file = mypath + basepath\n",
    "male = get_features(model, file)\n",
    "diffs = []\n",
    "for j, female in enumerate(sim_f):\n",
    "    euc = get_difference(male, female)\n",
    "    diffs.append(euc)"
   ]
  },
  {
   "cell_type": "code",
   "execution_count": 150,
   "metadata": {},
   "outputs": [
    {
     "name": "stdout",
     "output_type": "stream",
     "text": [
      "Filename: /Users/dorazhao/Desktop/images/f_f_sports_135604_4.jpg Loss: 1.0964782238006592\n",
      "Filename: /Users/dorazhao/Desktop/images/f_f_sports_135604_2.jpg Loss: 1.1045372486114502\n",
      "Filename: /Users/dorazhao/Desktop/images/f_f_frisbee_88485_1.jpg Loss: 1.1382874250411987\n",
      "Filename: /Users/dorazhao/Desktop/images/f_f_frisbee_325991_3.jpg Loss: 1.1405829191207886\n",
      "Filename: /Users/dorazhao/Desktop/images/f_f_frisbee_328238_2.jpg Loss: 1.163712501525879\n",
      "Filename: /Users/dorazhao/Desktop/images/f_f_frisbee_325991_4.jpg Loss: 1.1668339967727661\n",
      "Filename: /Users/dorazhao/Desktop/images/f_f_sports_371552_1.jpg Loss: 1.1674771308898926\n",
      "Filename: /Users/dorazhao/Desktop/images/f_f_frisbee_127263_5.jpg Loss: 1.167634129524231\n",
      "Filename: /Users/dorazhao/Desktop/images/f_f_racket_55950_2.jpg Loss: 1.1678144931793213\n",
      "Filename: /Users/dorazhao/Desktop/images/f_f_racket_19432_3.jpg Loss: 1.1685481071472168\n",
      "Filename: /Users/dorazhao/Desktop/images/f_f_sports_192670_4.jpg Loss: 1.171953558921814\n",
      "Filename: /Users/dorazhao/Desktop/images/f_f_frisbee_127263_1.jpg Loss: 1.1750078201293945\n",
      "Filename: /Users/dorazhao/Desktop/images/f_f_tie_21604_2.jpg Loss: 1.175240397453308\n",
      "Filename: /Users/dorazhao/Desktop/images/f_f_sports_371552_3.jpg Loss: 1.1770435571670532\n",
      "Filename: /Users/dorazhao/Desktop/images/f_f_frisbee_88485_2.jpg Loss: 1.177538275718689\n",
      "Filename: /Users/dorazhao/Desktop/images/f_f_sports_89296_4.jpg Loss: 1.181396722793579\n",
      "Filename: /Users/dorazhao/Desktop/images/f_f_sports_135604_5.jpg Loss: 1.1827640533447266\n",
      "Filename: /Users/dorazhao/Desktop/images/f_f_racket_64718_1.jpg Loss: 1.1867783069610596\n",
      "Filename: /Users/dorazhao/Desktop/images/f_f_skateboard_13201_5.jpg Loss: 1.1871404647827148\n",
      "Filename: /Users/dorazhao/Desktop/images/f_f_sports_33759_1.jpg Loss: 1.1885172128677368\n",
      "Filename: /Users/dorazhao/Desktop/images/f_f_frisbee_328238_3.jpg Loss: 1.188732624053955\n",
      "Filename: /Users/dorazhao/Desktop/images/f_f_frisbee_227482_3.jpg Loss: 1.1897339820861816\n",
      "Filename: /Users/dorazhao/Desktop/images/f_f_racket_85772_4.jpg Loss: 1.191559076309204\n",
      "Filename: /Users/dorazhao/Desktop/images/f_f_sports_429690_1.jpg Loss: 1.1922810077667236\n",
      "Filename: /Users/dorazhao/Desktop/images/f_f_frisbee_227482_5.jpg Loss: 1.1953412294387817\n",
      "Filename: /Users/dorazhao/Desktop/images/f_f_racket_19432_4.jpg Loss: 1.195467472076416\n",
      "Filename: /Users/dorazhao/Desktop/images/f_f_sports_89296_2.jpg Loss: 1.1955260038375854\n",
      "Filename: /Users/dorazhao/Desktop/images/f_f_frisbee_88485_4.jpg Loss: 1.1971592903137207\n",
      "Filename: /Users/dorazhao/Desktop/images/f_f_racket_85772_3.jpg Loss: 1.1981523036956787\n",
      "Filename: /Users/dorazhao/Desktop/images/f_f_sports_429690_2.jpg Loss: 1.1994247436523438\n",
      "Filename: /Users/dorazhao/Desktop/images/f_f_racket_88970_2.jpg Loss: 1.2007184028625488\n",
      "Filename: /Users/dorazhao/Desktop/images/f_f_racket_85772_1.jpg Loss: 1.2039976119995117\n",
      "Filename: /Users/dorazhao/Desktop/images/f_f_frisbee_227482_4.jpg Loss: 1.2040375471115112\n",
      "Filename: /Users/dorazhao/Desktop/images/f_f_frisbee_291619_5.jpg Loss: 1.204054594039917\n",
      "Filename: /Users/dorazhao/Desktop/images/f_f_surfboard_190007_1.jpg Loss: 1.206055760383606\n",
      "Filename: /Users/dorazhao/Desktop/images/f_f_racket_55950_5.jpg Loss: 1.2067232131958008\n",
      "Filename: /Users/dorazhao/Desktop/images/f_f_sports_371552_5.jpg Loss: 1.2079728841781616\n",
      "Filename: /Users/dorazhao/Desktop/images/f_f_skateboard_128699_2.jpg Loss: 1.210131049156189\n",
      "Filename: /Users/dorazhao/Desktop/images/f_f_sports_89296_1.jpg Loss: 1.2106205224990845\n",
      "Filename: /Users/dorazhao/Desktop/images/f_f_sports_33759_4.jpg Loss: 1.2107245922088623\n",
      "Filename: /Users/dorazhao/Desktop/images/f_f_skateboard_125472_1.jpg Loss: 1.2124583721160889\n",
      "Filename: /Users/dorazhao/Desktop/images/f_f_sports_429690_4.jpg Loss: 1.2130413055419922\n",
      "Filename: /Users/dorazhao/Desktop/images/f_f_racket_127530_3.jpg Loss: 1.2132554054260254\n",
      "Filename: /Users/dorazhao/Desktop/images/f_f_sports_429690_3.jpg Loss: 1.2138549089431763\n",
      "Filename: /Users/dorazhao/Desktop/images/f_f_sports_33759_3.jpg Loss: 1.2138735055923462\n",
      "Filename: /Users/dorazhao/Desktop/images/f_f_frisbee_291619_4.jpg Loss: 1.2140482664108276\n",
      "Filename: /Users/dorazhao/Desktop/images/f_f_racket_127530_1.jpg Loss: 1.2149680852890015\n",
      "Filename: /Users/dorazhao/Desktop/images/f_f_sports_135604_3.jpg Loss: 1.217226266860962\n",
      "Filename: /Users/dorazhao/Desktop/images/f_f_sports_192670_3.jpg Loss: 1.2177894115447998\n",
      "Filename: /Users/dorazhao/Desktop/images/f_f_tie_21604_1.jpg Loss: 1.2177989482879639\n",
      "Filename: /Users/dorazhao/Desktop/images/f_f_frisbee_127263_4.jpg Loss: 1.218310832977295\n",
      "Filename: /Users/dorazhao/Desktop/images/f_f_skateboard_157365_5.jpg Loss: 1.218875765800476\n",
      "Filename: /Users/dorazhao/Desktop/images/f_f_frisbee_88485_3.jpg Loss: 1.2201000452041626\n",
      "Filename: /Users/dorazhao/Desktop/images/f_f_racket_64718_2.jpg Loss: 1.220729947090149\n",
      "Filename: /Users/dorazhao/Desktop/images/f_f_racket_55950_3.jpg Loss: 1.2208417654037476\n",
      "Filename: /Users/dorazhao/Desktop/images/f_f_sports_135604_1.jpg Loss: 1.2211638689041138\n",
      "Filename: /Users/dorazhao/Desktop/images/f_f_racket_85772_2.jpg Loss: 1.2223854064941406\n",
      "Filename: /Users/dorazhao/Desktop/images/f_f_sports_515982_3.jpg Loss: 1.225396752357483\n",
      "Filename: /Users/dorazhao/Desktop/images/f_f_sports_371552_2.jpg Loss: 1.2255793809890747\n",
      "Filename: /Users/dorazhao/Desktop/images/f_f_frisbee_291619_1.jpg Loss: 1.2268949747085571\n",
      "Filename: /Users/dorazhao/Desktop/images/f_f_frisbee_291619_2.jpg Loss: 1.2268949747085571\n",
      "Filename: /Users/dorazhao/Desktop/images/f_f_skateboard_157365_3.jpg Loss: 1.22835111618042\n",
      "Filename: /Users/dorazhao/Desktop/images/f_f_racket_19432_5.jpg Loss: 1.2296926975250244\n",
      "Filename: /Users/dorazhao/Desktop/images/f_f_skateboard_128699_1.jpg Loss: 1.2319813966751099\n",
      "Filename: /Users/dorazhao/Desktop/images/f_f_surfboard_187362_2.jpg Loss: 1.2320475578308105\n",
      "Filename: /Users/dorazhao/Desktop/images/f_f_racket_88970_5.jpg Loss: 1.233455777168274\n",
      "Filename: /Users/dorazhao/Desktop/images/f_f_sports_371552_4.jpg Loss: 1.2335007190704346\n",
      "Filename: /Users/dorazhao/Desktop/images/f_f_sports_89296_3.jpg Loss: 1.2348061800003052\n",
      "Filename: /Users/dorazhao/Desktop/images/f_f_frisbee_127263_2.jpg Loss: 1.2353678941726685\n",
      "Filename: /Users/dorazhao/Desktop/images/f_f_skateboard_72281_4.jpg Loss: 1.2357008457183838\n",
      "Filename: /Users/dorazhao/Desktop/images/f_f_skateboard_72281_3.jpg Loss: 1.2358845472335815\n",
      "Filename: /Users/dorazhao/Desktop/images/f_f_surfboard_187362_4.jpg Loss: 1.2360260486602783\n",
      "Filename: /Users/dorazhao/Desktop/images/f_f_surfboard_115898_2.jpg Loss: 1.2383568286895752\n",
      "Filename: /Users/dorazhao/Desktop/images/f_f_frisbee_325991_5.jpg Loss: 1.239067554473877\n",
      "Filename: /Users/dorazhao/Desktop/images/f_f_surfboard_32570_5.jpg Loss: 1.2412898540496826\n",
      "Filename: /Users/dorazhao/Desktop/images/f_f_racket_64718_4.jpg Loss: 1.241615653038025\n",
      "Filename: /Users/dorazhao/Desktop/images/f_f_racket_55950_4.jpg Loss: 1.2416187524795532\n",
      "Filename: /Users/dorazhao/Desktop/images/f_f_racket_64718_5.jpg Loss: 1.2416273355484009\n",
      "Filename: /Users/dorazhao/Desktop/images/f_f_sports_192670_2.jpg Loss: 1.2424730062484741\n",
      "Filename: /Users/dorazhao/Desktop/images/f_f_racket_127530_5.jpg Loss: 1.2424969673156738\n",
      "Filename: /Users/dorazhao/Desktop/images/f_f_frisbee_328238_5.jpg Loss: 1.2438210248947144\n",
      "Filename: /Users/dorazhao/Desktop/images/f_f_frisbee_227482_1.jpg Loss: 1.2446892261505127\n",
      "Filename: /Users/dorazhao/Desktop/images/f_f_surfboard_187362_3.jpg Loss: 1.2450212240219116\n",
      "Filename: /Users/dorazhao/Desktop/images/f_f_frisbee_328238_1.jpg Loss: 1.2468467950820923\n",
      "Filename: /Users/dorazhao/Desktop/images/f_f_skateboard_72281_1.jpg Loss: 1.2477489709854126\n",
      "Filename: /Users/dorazhao/Desktop/images/f_f_frisbee_127263_3.jpg Loss: 1.2481684684753418\n",
      "Filename: /Users/dorazhao/Desktop/images/f_f_surfboard_177357_2.jpg Loss: 1.2485228776931763\n",
      "Filename: /Users/dorazhao/Desktop/images/f_f_sports_515982_4.jpg Loss: 1.2516049146652222\n",
      "Filename: /Users/dorazhao/Desktop/images/f_f_sports_89296_5.jpg Loss: 1.2528306245803833\n",
      "Filename: /Users/dorazhao/Desktop/images/f_f_surfboard_32570_1.jpg Loss: 1.253179669380188\n",
      "Filename: /Users/dorazhao/Desktop/images/f_f_tie_21604_3.jpg Loss: 1.2533928155899048\n",
      "Filename: /Users/dorazhao/Desktop/images/f_f_racket_19432_1.jpg Loss: 1.2541085481643677\n",
      "Filename: /Users/dorazhao/Desktop/images/f_f_skateboard_31093_4.jpg Loss: 1.257869005203247\n",
      "Filename: /Users/dorazhao/Desktop/images/f_f_frisbee_227482_2.jpg Loss: 1.258594036102295\n",
      "Filename: /Users/dorazhao/Desktop/images/f_f_tie_163682_2.jpg Loss: 1.2589138746261597\n",
      "Filename: /Users/dorazhao/Desktop/images/f_f_sports_33759_5.jpg Loss: 1.261122226715088\n",
      "Filename: /Users/dorazhao/Desktop/images/f_f_surfboard_187362_6.jpg Loss: 1.2612569332122803\n",
      "Filename: /Users/dorazhao/Desktop/images/f_f_surfboard_4765_5.jpg Loss: 1.2626304626464844\n",
      "Filename: /Users/dorazhao/Desktop/images/f_f_racket_85772_5.jpg Loss: 1.2629566192626953\n",
      "Filename: /Users/dorazhao/Desktop/images/f_f_surfboard_187362_1.jpg Loss: 1.2634140253067017\n",
      "Filename: /Users/dorazhao/Desktop/images/f_f_frisbee_325991_2.jpg Loss: 1.2637238502502441\n",
      "Filename: /Users/dorazhao/Desktop/images/f_f_frisbee_291619_3.jpg Loss: 1.2637830972671509\n",
      "Filename: /Users/dorazhao/Desktop/images/f_f_skateboard_157365_2.jpg Loss: 1.2641407251358032\n",
      "Filename: /Users/dorazhao/Desktop/images/f_f_skateboard_125472_2.jpg Loss: 1.264263391494751\n",
      "Filename: /Users/dorazhao/Desktop/images/f_f_tie_163682_1.jpg Loss: 1.2643358707427979\n",
      "Filename: /Users/dorazhao/Desktop/images/f_f_skateboard_157365_4.jpg Loss: 1.2643816471099854\n",
      "Filename: /Users/dorazhao/Desktop/images/f_f_skateboard_13201_2.jpg Loss: 1.2654809951782227\n",
      "Filename: /Users/dorazhao/Desktop/images/f_f_racket_88970_3.jpg Loss: 1.2665317058563232\n",
      "Filename: /Users/dorazhao/Desktop/images/f_f_skateboard_72281_2.jpg Loss: 1.2667714357376099\n",
      "Filename: /Users/dorazhao/Desktop/images/f_f_frisbee_88485_5.jpg Loss: 1.2668026685714722\n",
      "Filename: /Users/dorazhao/Desktop/images/f_f_racket_127530_2.jpg Loss: 1.2672593593597412\n",
      "Filename: /Users/dorazhao/Desktop/images/f_f_racket_19432_2.jpg Loss: 1.2674206495285034\n",
      "Filename: /Users/dorazhao/Desktop/images/f_f_skateboard_31093_3.jpg Loss: 1.268883466720581\n",
      "Filename: /Users/dorazhao/Desktop/images/f_f_surfboard_54164_3.jpg Loss: 1.269477367401123\n",
      "Filename: /Users/dorazhao/Desktop/images/f_f_skateboard_128699_3.jpg Loss: 1.269926905632019\n",
      "Filename: /Users/dorazhao/Desktop/images/f_f_tie_21604_4.jpg Loss: 1.2705676555633545\n",
      "Filename: /Users/dorazhao/Desktop/images/f_f_tie_131444_5.jpg Loss: 1.2721143960952759\n",
      "Filename: /Users/dorazhao/Desktop/images/f_f_surfboard_54164_4.jpg Loss: 1.2725387811660767\n",
      "Filename: /Users/dorazhao/Desktop/images/f_f_surfboard_115898_3.jpg Loss: 1.2725387811660767\n",
      "Filename: /Users/dorazhao/Desktop/images/f_f_skateboard_72281_5.jpg Loss: 1.2737324237823486\n",
      "Filename: /Users/dorazhao/Desktop/images/f_f_sports_429690_5.jpg Loss: 1.2739442586898804\n",
      "Filename: /Users/dorazhao/Desktop/images/f_f_sports_192670_5.jpg Loss: 1.2746490240097046\n",
      "Filename: /Users/dorazhao/Desktop/images/f_f_surfboard_51314_3.jpg Loss: 1.2753357887268066\n",
      "Filename: /Users/dorazhao/Desktop/images/f_f_skateboard_13201_3.jpg Loss: 1.2756593227386475\n",
      "Filename: /Users/dorazhao/Desktop/images/f_f_surfboard_115898_4.jpg Loss: 1.2762768268585205\n",
      "Filename: /Users/dorazhao/Desktop/images/f_f_frisbee_328238_4.jpg Loss: 1.2769228219985962\n",
      "Filename: /Users/dorazhao/Desktop/images/f_f_sports_33759_2.jpg Loss: 1.27767813205719\n",
      "Filename: /Users/dorazhao/Desktop/images/f_f_surfboard_4765_3.jpg Loss: 1.2780070304870605\n",
      "Filename: /Users/dorazhao/Desktop/images/f_f_surfboard_51314_4.jpg Loss: 1.2797892093658447\n",
      "Filename: /Users/dorazhao/Desktop/images/f_f_tie_152214_1.jpg Loss: 1.279910683631897\n",
      "Filename: /Users/dorazhao/Desktop/images/f_f_skateboard_125472_5.jpg Loss: 1.280114769935608\n",
      "Filename: /Users/dorazhao/Desktop/images/f_f_surfboard_187362_5.jpg Loss: 1.2803751230239868\n",
      "Filename: /Users/dorazhao/Desktop/images/f_f_tie_21604_5.jpg Loss: 1.2812856435775757\n",
      "Filename: /Users/dorazhao/Desktop/images/f_f_surfboard_115898_1.jpg Loss: 1.2826404571533203\n",
      "Filename: /Users/dorazhao/Desktop/images/f_f_surfboard_190007_2.jpg Loss: 1.2827370166778564\n",
      "Filename: /Users/dorazhao/Desktop/images/f_f_frisbee_325991_1.jpg Loss: 1.2834041118621826\n",
      "Filename: /Users/dorazhao/Desktop/images/f_f_racket_127530_4.jpg Loss: 1.285496711730957\n",
      "Filename: /Users/dorazhao/Desktop/images/f_f_racket_88970_1.jpg Loss: 1.2856497764587402\n",
      "Filename: /Users/dorazhao/Desktop/images/f_f_racket_64718_3.jpg Loss: 1.2874220609664917\n",
      "Filename: /Users/dorazhao/Desktop/images/f_f_skateboard_31093_5.jpg Loss: 1.2878599166870117\n",
      "Filename: /Users/dorazhao/Desktop/images/f_f_sports_192670_1.jpg Loss: 1.2881050109863281\n",
      "Filename: /Users/dorazhao/Desktop/images/f_f_surfboard_51314_2.jpg Loss: 1.2884684801101685\n",
      "Filename: /Users/dorazhao/Desktop/images/f_f_skateboard_125472_3.jpg Loss: 1.2892528772354126\n",
      "Filename: /Users/dorazhao/Desktop/images/f_f_skateboard_13201_4.jpg Loss: 1.291624903678894\n",
      "Filename: /Users/dorazhao/Desktop/images/f_f_sports_515982_5.jpg Loss: 1.2917485237121582\n",
      "Filename: /Users/dorazhao/Desktop/images/f_f_surfboard_54164_2.jpg Loss: 1.2926526069641113\n",
      "Filename: /Users/dorazhao/Desktop/images/f_f_surfboard_7278_1.jpg Loss: 1.2935333251953125\n",
      "Filename: /Users/dorazhao/Desktop/images/f_f_surfboard_4765_2.jpg Loss: 1.296285629272461\n",
      "Filename: /Users/dorazhao/Desktop/images/f_f_surfboard_32570_4.jpg Loss: 1.2963629961013794\n",
      "Filename: /Users/dorazhao/Desktop/images/f_f_skateboard_31093_2.jpg Loss: 1.296943187713623\n",
      "Filename: /Users/dorazhao/Desktop/images/f_f_surfboard_32570_3.jpg Loss: 1.2978547811508179\n",
      "Filename: /Users/dorazhao/Desktop/images/f_f_sports_515982_2.jpg Loss: 1.2986280918121338\n",
      "Filename: /Users/dorazhao/Desktop/images/f_f_sports_515982_1.jpg Loss: 1.2988402843475342\n",
      "Filename: /Users/dorazhao/Desktop/images/f_f_skateboard_125472_4.jpg Loss: 1.2988677024841309\n",
      "Filename: /Users/dorazhao/Desktop/images/f_f_surfboard_54164_1.jpg Loss: 1.3001341819763184\n",
      "Filename: /Users/dorazhao/Desktop/images/f_f_skateboard_31093_1.jpg Loss: 1.3012809753417969\n",
      "Filename: /Users/dorazhao/Desktop/images/f_f_tie_131444_6.jpg Loss: 1.3014003038406372\n",
      "Filename: /Users/dorazhao/Desktop/images/f_f_surfboard_4765_4.jpg Loss: 1.3015034198760986\n",
      "Filename: /Users/dorazhao/Desktop/images/f_f_surfboard_177357_3.jpg Loss: 1.3015034198760986\n",
      "Filename: /Users/dorazhao/Desktop/images/f_f_tie_131444_1.jpg Loss: 1.3023931980133057\n",
      "Filename: /Users/dorazhao/Desktop/images/f_f_racket_88970_4.jpg Loss: 1.3026678562164307\n",
      "Filename: /Users/dorazhao/Desktop/images/f_f_racket_55950_1.jpg Loss: 1.3027055263519287\n",
      "Filename: /Users/dorazhao/Desktop/images/f_f_surfboard_177357_4.jpg Loss: 1.3029448986053467\n",
      "Filename: /Users/dorazhao/Desktop/images/f_f_surfboard_51314_5.jpg Loss: 1.3033771514892578\n",
      "Filename: /Users/dorazhao/Desktop/images/f_f_skateboard_157365_1.jpg Loss: 1.3043649196624756\n",
      "Filename: /Users/dorazhao/Desktop/images/f_f_surfboard_32570_2.jpg Loss: 1.3045181035995483\n",
      "Filename: /Users/dorazhao/Desktop/images/f_f_surfboard_190007_4.jpg Loss: 1.3058757781982422\n",
      "Filename: /Users/dorazhao/Desktop/images/f_f_surfboard_190007_3.jpg Loss: 1.3058757781982422\n",
      "Filename: /Users/dorazhao/Desktop/images/f_f_surfboard_4765_1.jpg Loss: 1.3061672449111938\n",
      "Filename: /Users/dorazhao/Desktop/images/f_f_surfboard_7278_4.jpg Loss: 1.3074878454208374\n",
      "Filename: /Users/dorazhao/Desktop/images/f_f_surfboard_7278_5.jpg Loss: 1.3075740337371826\n",
      "Filename: /Users/dorazhao/Desktop/images/f_f_surfboard_190007_5.jpg Loss: 1.3082772493362427\n",
      "Filename: /Users/dorazhao/Desktop/images/f_f_surfboard_177357_5.jpg Loss: 1.308634638786316\n",
      "Filename: /Users/dorazhao/Desktop/images/f_f_tie_131444_2.jpg Loss: 1.309550404548645\n",
      "Filename: /Users/dorazhao/Desktop/images/f_f_skateboard_128699_5.jpg Loss: 1.3117326498031616\n",
      "Filename: /Users/dorazhao/Desktop/images/f_f_skateboard_128699_4.jpg Loss: 1.3157734870910645\n",
      "Filename: /Users/dorazhao/Desktop/images/f_f_surfboard_7278_3.jpg Loss: 1.3158310651779175\n",
      "Filename: /Users/dorazhao/Desktop/images/f_f_surfboard_7278_2.jpg Loss: 1.3168286085128784\n",
      "Filename: /Users/dorazhao/Desktop/images/f_f_surfboard_54164_5.jpg Loss: 1.3185021877288818\n",
      "Filename: /Users/dorazhao/Desktop/images/f_f_surfboard_51314_1.jpg Loss: 1.319350004196167\n",
      "Filename: /Users/dorazhao/Desktop/images/f_f_tie_131444_4.jpg Loss: 1.3194541931152344\n",
      "Filename: /Users/dorazhao/Desktop/images/f_f_surfboard_177357_1.jpg Loss: 1.3292367458343506\n",
      "Filename: /Users/dorazhao/Desktop/images/f_f_surfboard_115898_5.jpg Loss: 1.3362243175506592\n",
      "Filename: /Users/dorazhao/Desktop/images/f_f_skateboard_13201_1.jpg Loss: 1.3385636806488037\n",
      "Filename: /Users/dorazhao/Desktop/images/f_f_tie_131444_3.jpg Loss: 1.3560341596603394\n"
     ]
    }
   ],
   "source": [
    "indices = np.argsort(diffs)\n",
    "for i in indices:\n",
    "    print('Filename: {0} Loss: {1}'.format(sim_f_files[i], diffs[i]))\n"
   ]
  },
  {
   "cell_type": "code",
   "execution_count": null,
   "metadata": {},
   "outputs": [],
   "source": []
  }
 ],
 "metadata": {
  "kernelspec": {
   "display_name": "Python 3",
   "language": "python",
   "name": "python3"
  },
  "language_info": {
   "codemirror_mode": {
    "name": "ipython",
    "version": 3
   },
   "file_extension": ".py",
   "mimetype": "text/x-python",
   "name": "python",
   "nbconvert_exporter": "python",
   "pygments_lexer": "ipython3",
   "version": "3.7.9"
  }
 },
 "nbformat": 4,
 "nbformat_minor": 4
}
