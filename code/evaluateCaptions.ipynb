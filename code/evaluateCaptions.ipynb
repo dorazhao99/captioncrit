{
 "cells": [
  {
   "cell_type": "code",
   "execution_count": 1,
   "metadata": {},
   "outputs": [],
   "source": [
    "from eval import COCOEvalCap\n",
    "from pycocotools.coco import COCO\n",
    "import matplotlib.pyplot as plt\n",
    "\n",
    "import json\n",
    "from json import encoder\n",
    "encoder.FLOAT_REPR = lambda o: format(o, '.3f')"
   ]
  },
  {
   "cell_type": "code",
   "execution_count": 2,
   "metadata": {},
   "outputs": [
    {
     "name": "stdout",
     "output_type": "stream",
     "text": [
      "loading annotations into memory...\n",
      "Done (t=0.06s)\n",
      "creating index...\n",
      "index created!\n",
      "Loading and preparing results...\n",
      "DONE (t=0.01s)\n",
      "creating index...\n",
      "index created!\n"
     ]
    }
   ],
   "source": [
    "# create coco object and cocoRes object\n",
    "annFile = 'captions_val2017.json'\n",
    "resFile = './results/captions_val2017_res.json'\n",
    "coco = COCO(annFile)\n",
    "cocoRes = coco.loadRes(resFile)"
   ]
  },
  {
   "cell_type": "code",
   "execution_count": 3,
   "metadata": {},
   "outputs": [],
   "source": [
    "# create cocoEval object by taking coco and cocoRes\n",
    "cocoEval = COCOEvalCap(coco, cocoRes)\n",
    "\n",
    "# evaluate on a subset of images by setting\n",
    "# cocoEval.params['image_id'] = cocoRes.getImgIds()\n",
    "# please remove this line when evaluating the full validation set\n",
    "cocoEval.params['image_id'] = cocoRes.getImgIds()"
   ]
  },
  {
   "cell_type": "code",
   "execution_count": 4,
   "metadata": {},
   "outputs": [
    {
     "name": "stdout",
     "output_type": "stream",
     "text": [
      "tokenization...\n",
      "setting up scorers...\n",
      "computing Bleu score...\n",
      "{'testlen': 47662, 'reflen': 47449, 'guess': [47662, 42662, 37662, 32662], 'correct': [34803, 18274, 8493, 3899]}\n",
      "ratio: 1.0044890303272778\n",
      "Bleu_1: 0.730\n",
      "Bleu_2: 0.559\n",
      "Bleu_3: 0.413\n",
      "Bleu_4: 0.303\n",
      "computing METEOR score...\n",
      "METEOR: 0.251\n",
      "computing Rouge score...\n",
      "ROUGE_L: 0.535\n",
      "computing CIDEr score...\n",
      "CIDEr: 0.975\n",
      "computing SPICE score...\n",
      "SPICE: 0.182\n"
     ]
    }
   ],
   "source": [
    "# evaluate results\n",
    "# SPICE will take a few minutes the first time, but speeds up due to caching\n",
    "cocoEval.evaluate()"
   ]
  },
  {
   "cell_type": "code",
   "execution_count": 5,
   "metadata": {},
   "outputs": [
    {
     "name": "stdout",
     "output_type": "stream",
     "text": [
      "Bleu_1: 0.730\n",
      "Bleu_2: 0.559\n",
      "Bleu_3: 0.413\n",
      "Bleu_4: 0.303\n",
      "METEOR: 0.251\n",
      "ROUGE_L: 0.535\n",
      "CIDEr: 0.975\n",
      "SPICE: 0.182\n"
     ]
    }
   ],
   "source": [
    "# print output evaluation scores\n",
    "for metric, score in cocoEval.eval.items():\n",
    "    print('%s: %.3f'%(metric, score))"
   ]
  },
  {
   "cell_type": "code",
   "execution_count": 6,
   "metadata": {},
   "outputs": [
    {
     "name": "stdout",
     "output_type": "stream",
     "text": [
      "ground truth captions\n",
      "A man is in a kitchen making pizzas.\n",
      "Man in apron standing on front of oven with pans and bakeware\n",
      "A baker is working in the kitchen rolling dough.\n",
      "A person standing by a stove in a kitchen.\n",
      "A table with pies being made and a person standing near a wall with pots and pans hanging on the wall.\n",
      "\n",
      "\n",
      "generated caption (CIDEr score 0.6)\n",
      "a man standing in a kitchen preparing food\n"
     ]
    }
   ],
   "source": [
    "import cv2\n",
    "\n",
    "# demo how to use evalImgs to retrieve low score result\n",
    "evals = [eva for eva in cocoEval.evalImgs if eva['CIDEr']<30]\n",
    "print('ground truth captions')\n",
    "imgId = evals[0]['image_id']\n",
    "annIds = coco.getAnnIds(imgIds=imgId)\n",
    "anns = coco.loadAnns(annIds)\n",
    "coco.showAnns(anns)\n",
    "\n",
    "print('\\n')\n",
    "print('generated caption (CIDEr score %0.1f)'%(evals[0]['CIDEr']))\n",
    "annIds = cocoRes.getAnnIds(imgIds=imgId)\n",
    "anns = cocoRes.loadAnns(annIds)\n",
    "coco.showAnns(anns)"
   ]
  },
  {
   "cell_type": "markdown",
   "metadata": {},
   "source": [
    "### SPICE Evaluation"
   ]
  },
  {
   "cell_type": "code",
   "execution_count": 152,
   "metadata": {},
   "outputs": [
    {
     "data": {
      "image/png": "[encoded data removed]",
      "text/plain": [
       "<Figure size 432x288 with 1 Axes>"
      ]
     },
     "metadata": {
      "needs_background": "light"
     },
     "output_type": "display_data"
    }
   ],
   "source": [
    "# get FP histogram for SPICE\n",
    "fp = [eva['SPICE']['All']['fp'] for eva in cocoEval.evalImgs]\n",
    "plt.hist(fp)\n",
    "plt.title('Distribution of False Postives', fontsize=20)\n",
    "plt.xlabel('SPICE FPs', fontsize=10)\n",
    "plt.ylabel('result counts', fontsize=10)\n",
    "plt.show()"
   ]
  },
  {
   "cell_type": "code",
   "execution_count": 62,
   "metadata": {},
   "outputs": [],
   "source": [
    "evals = [eva for eva in cocoEval.evalImgs if eva['SPICE']['All']['fp'] > 6]"
   ]
  },
  {
   "cell_type": "code",
   "execution_count": 113,
   "metadata": {},
   "outputs": [
    {
     "name": "stdout",
     "output_type": "stream",
     "text": [
      "ground truth captions\n",
      "\n",
      "\n",
      "generated caption (SPICE False Positive score 7.0)\n",
      "a train is traveling down the tracks in the country\n"
     ]
    }
   ],
   "source": [
    "print('ground truth captions')\n",
    "imgId = evals[i]['image_id']\n",
    "annIds = coco.getAnnIds(imgIds=imgId)\n",
    "anns = coco.loadAnns(annIds)\n",
    "coco.showAnns(anns)\n",
    "\n",
    "print('\\n')\n",
    "print('generated caption (SPICE False Positive score %0.1f)'%(evals[i]['SPICE']['All']['fp']))\n",
    "annIds = cocoRes.getAnnIds(imgIds=imgId)\n",
    "anns = cocoRes.loadAnns(annIds)\n",
    "coco.showAnns(anns)"
   ]
  },
  {
   "cell_type": "code",
   "execution_count": 64,
   "metadata": {},
   "outputs": [
    {
     "name": "stdout",
     "output_type": "stream",
     "text": [
      "loading annotations into memory...\n",
      "Done (t=0.81s)\n",
      "creating index...\n",
      "index created!\n"
     ]
    }
   ],
   "source": [
    "valFile = 'instances_val2017.json'\n",
    "coco_inst = COCO(valFile)\n",
    "catIds = coco_inst.getCatIds(catNms=['person']) # category Id of people subset\n",
    "imgIds = coco_inst.getImgIds(catIds=catIds) # image Ids containing people category"
   ]
  },
  {
   "cell_type": "code",
   "execution_count": 65,
   "metadata": {},
   "outputs": [],
   "source": [
    "spice_ppl = [eva for eva in cocoEval.evalImgs if eva['image_id'] in imgIds]"
   ]
  },
  {
   "cell_type": "code",
   "execution_count": 154,
   "metadata": {},
   "outputs": [
    {
     "data": {
      "image/png": "[encoded data removed]",
      "text/plain": [
       "<Figure size 432x288 with 1 Axes>"
      ]
     },
     "metadata": {
      "needs_background": "light"
     },
     "output_type": "display_data"
    }
   ],
   "source": [
    "# get only people FP histogram\n",
    "fp = [eva['SPICE']['All']['fp'] for eva in spice_ppl]\n",
    "plt.hist(fp)\n",
    "plt.title('Distribution of False Postives', fontsize=20)\n",
    "plt.xlabel('SPICE FPs', fontsize=10)\n",
    "plt.ylabel('result counts', fontsize=10)\n",
    "plt.show()"
   ]
  },
  {
   "cell_type": "code",
   "execution_count": 145,
   "metadata": {},
   "outputs": [
    {
     "data": {
      "image/png": "[encoded data removed]",
      "text/plain": [
       "<Figure size 432x288 with 1 Axes>"
      ]
     },
     "metadata": {
      "needs_background": "light"
     },
     "output_type": "display_data"
    }
   ],
   "source": [
    "# get only people FP histogram\n",
    "fn = [eva['SPICE']['All']['fn'] for eva in spice_ppl]\n",
    "plt.hist(fp)\n",
    "plt.title('Distribution of False Negatives', fontsize=20)\n",
    "plt.xlabel('SPICE FNs', fontsize=10)\n",
    "plt.ylabel('result counts', fontsize=10)\n",
    "plt.show()"
   ]
  },
  {
   "cell_type": "code",
   "execution_count": 60,
   "metadata": {},
   "outputs": [],
   "source": [
    "import io, requests, cv2\n",
    "import numpy as np\n",
    "import pandas as pd"
   ]
  },
  {
   "cell_type": "code",
   "execution_count": 61,
   "metadata": {},
   "outputs": [
    {
     "ename": "NameError",
     "evalue": "name 'spice_ppl' is not defined",
     "output_type": "error",
     "traceback": [
      "\u001b[0;31m---------------------------------------------------------------------------\u001b[0m",
      "\u001b[0;31mNameError\u001b[0m                                 Traceback (most recent call last)",
      "\u001b[0;32m<ipython-input-61-2337cb677067>\u001b[0m in \u001b[0;36m<module>\u001b[0;34m\u001b[0m\n\u001b[1;32m      1\u001b[0m \u001b[0;31m# instances with SPICE scores above 6 in the people subset\u001b[0m\u001b[0;34m\u001b[0m\u001b[0;34m\u001b[0m\u001b[0;34m\u001b[0m\u001b[0m\n\u001b[0;32m----> 2\u001b[0;31m \u001b[0mppl_hi\u001b[0m \u001b[0;34m=\u001b[0m \u001b[0;34m[\u001b[0m\u001b[0meva\u001b[0m \u001b[0;32mfor\u001b[0m \u001b[0meva\u001b[0m \u001b[0;32min\u001b[0m \u001b[0mspice_ppl\u001b[0m \u001b[0;32mif\u001b[0m \u001b[0meva\u001b[0m\u001b[0;34m[\u001b[0m\u001b[0;34m'SPICE'\u001b[0m\u001b[0;34m]\u001b[0m\u001b[0;34m[\u001b[0m\u001b[0;34m'All'\u001b[0m\u001b[0;34m]\u001b[0m\u001b[0;34m[\u001b[0m\u001b[0;34m'fp'\u001b[0m\u001b[0;34m]\u001b[0m \u001b[0;34m>\u001b[0m \u001b[0;36m6\u001b[0m\u001b[0;34m]\u001b[0m\u001b[0;34m\u001b[0m\u001b[0;34m\u001b[0m\u001b[0m\n\u001b[0m\u001b[1;32m      3\u001b[0m \u001b[0mi\u001b[0m \u001b[0;34m=\u001b[0m \u001b[0;36m0\u001b[0m\u001b[0;34m\u001b[0m\u001b[0;34m\u001b[0m\u001b[0m\n\u001b[1;32m      4\u001b[0m \u001b[0mimgId\u001b[0m \u001b[0;34m=\u001b[0m \u001b[0mppl_hi\u001b[0m\u001b[0;34m[\u001b[0m\u001b[0mi\u001b[0m\u001b[0;34m]\u001b[0m\u001b[0;34m[\u001b[0m\u001b[0;34m'image_id'\u001b[0m\u001b[0;34m]\u001b[0m\u001b[0;34m\u001b[0m\u001b[0;34m\u001b[0m\u001b[0m\n\u001b[1;32m      5\u001b[0m \u001b[0mannIds\u001b[0m \u001b[0;34m=\u001b[0m \u001b[0mcoco\u001b[0m\u001b[0;34m.\u001b[0m\u001b[0mgetAnnIds\u001b[0m\u001b[0;34m(\u001b[0m\u001b[0mimgIds\u001b[0m\u001b[0;34m=\u001b[0m\u001b[0mimgId\u001b[0m\u001b[0;34m)\u001b[0m\u001b[0;34m\u001b[0m\u001b[0;34m\u001b[0m\u001b[0m\n",
      "\u001b[0;31mNameError\u001b[0m: name 'spice_ppl' is not defined"
     ]
    }
   ],
   "source": [
    "# instances with SPICE scores above 6 in the people subset\n",
    "ppl_hi = [eva for eva in spice_ppl if eva['SPICE']['All']['fp'] > 6]\n",
    "i = 0\n",
    "imgId = ppl_hi[i]['image_id']\n",
    "annIds = coco.getAnnIds(imgIds=imgId)\n",
    "anns = coco.loadAnns(annIds)\n",
    "coco.showAnns(anns)\n",
    "\n",
    "print('\\n')\n",
    "print('generated caption (SPICE False Positive score %0.1f)'%(ppl_hi[i]['SPICE']['All']['fp']))\n",
    "annIds = cocoRes.getAnnIds(imgIds=imgId)\n",
    "anns = cocoRes.loadAnns(annIds)\n",
    "coco.showAnns(anns)\n",
    "\n",
    "img = coco_inst.loadImgs(imgId)[0]\n",
    "img_data = io.BytesIO(requests.get(img['coco_url']).content)\n",
    "img = cv2.imdecode(np.frombuffer(img_data.read(), np.uint8), 1)[...,::-1]\n",
    "plt.imshow(img)"
   ]
  },
  {
   "cell_type": "markdown",
   "metadata": {},
   "source": [
    "### Looking at annotated images with darker-skinned individuals"
   ]
  },
  {
   "cell_type": "code",
   "execution_count": 66,
   "metadata": {},
   "outputs": [],
   "source": [
    "imgIds = [82085, 114907, 319534, 377239, 434459,524456, 8532, 57597,73946,319534,336053,385029,426241,532493,549055,213255,319534,344268,377113,\n",
    "418062,442456,491867]\n",
    "d_evals = [eva for eva in cocoEval.evalImgs if eva['image_id'] in imgIds]"
   ]
  },
  {
   "cell_type": "code",
   "execution_count": 131,
   "metadata": {},
   "outputs": [
    {
     "name": "stdout",
     "output_type": "stream",
     "text": [
      "A man standing in front of a stove cooking.\n",
      "A man cooking some vegetables on a stovetop\n",
      "a man standing over a stove wearing an apron  over some pots\n",
      "a man cooking food on a giant stove \n",
      "A gook preparing food on an old gas stove.\n",
      "\n",
      "\n",
      "generated caption (SPICE False Positive score 2.0)\n",
      "\n",
      "\n",
      "{'image_id': 57597, 'Bleu_1': 0.8888888886913584, 'Bleu_2': 0.8164965807406125, 'Bleu_3': 0.7249202484964744, 'Bleu_4': 0.596949179054208, 'METEOR': 0.394776492341633, 'ROUGE_L': 0.7858293075684382, 'CIDEr': 1.8959291821547641, 'SPICE': {'All': {'pr': 0.6, 're': 0.11538461538461539, 'f': 0.1935483870967742, 'fn': 23.0, 'numImages': 1.0, 'fp': 2.0, 'tp': 3.0}, 'Relation': {'pr': 0.0, 're': 0.0, 'f': 0.0, 'fn': 10.0, 'numImages': 1.0, 'fp': 2.0, 'tp': 0.0}, 'Cardinality': {'pr': nan, 're': nan, 'f': nan, 'fn': 0.0, 'numImages': 1.0, 'fp': 0.0, 'tp': 0.0}, 'Attribute': {'pr': 0.0, 're': 0.0, 'f': 0.0, 'fn': 6.0, 'numImages': 1.0, 'fp': 0.0, 'tp': 0.0}, 'Size': {'pr': 0.0, 're': 0.0, 'f': 0.0, 'fn': 1.0, 'numImages': 1.0, 'fp': 0.0, 'tp': 0.0}, 'Color': {'pr': 0.0, 're': 0.0, 'f': 0.0, 'fn': 1.0, 'numImages': 1.0, 'fp': 0.0, 'tp': 0.0}, 'Object': {'pr': 1.0, 're': 0.3, 'f': 0.4615384615384615, 'fn': 7.0, 'numImages': 1.0, 'fp': 0.0, 'tp': 3.0}}}\n"
     ]
    },
    {
     "data": {
      "text/plain": [
       "<matplotlib.image.AxesImage at 0x188850690>"
      ]
     },
     "execution_count": 131,
     "metadata": {},
     "output_type": "execute_result"
    },
    {
     "data": {
      "image/png": "[encoded data removed]",
      "text/plain": [
       "<Figure size 432x288 with 1 Axes>"
      ]
     },
     "metadata": {
      "needs_background": "light"
     },
     "output_type": "display_data"
    }
   ],
   "source": [
    "i = 0\n",
    "imgId = 250990\n",
    "annIds = coco.getAnnIds(imgIds=imgId)\n",
    "anns = coco.loadAnns(annIds)\n",
    "coco.showAnns(anns)\n",
    "\n",
    "print('\\n')\n",
    "print('generated caption (SPICE False Positive score %0.1f)'%(d_evals[i]['SPICE']['All']['fp']))\n",
    "annIds = cocoRes.getAnnIds(imgIds=imgId)\n",
    "anns = cocoRes.loadAnns(annIds)\n",
    "coco.showAnns(anns)\n",
    "\n",
    "print('\\n')\n",
    "print(d_evals[i])\n",
    "img = coco_inst.loadImgs(imgId)[0]\n",
    "img_data = io.BytesIO(requests.get(img['coco_url']).content)\n",
    "img = cv2.imdecode(np.frombuffer(img_data.read(), np.uint8), 1)[...,::-1]\n",
    "plt.imshow(img)"
   ]
  },
  {
   "cell_type": "code",
   "execution_count": 49,
   "metadata": {},
   "outputs": [],
   "source": [
    "# Compute score but skin type\n",
    "df = pd.read_csv('results_agg.csv')\n",
    "df = df[df['skin'] != 'Unsure']\n",
    "df = df.dropna()\n",
    "df['skin'] = df['skin'].astype(int)\n",
    "light = df.loc[df['skin'] <= 2]['filename']\n",
    "dark = df.loc[df['skin'] >= 5]['filename']\n",
    "mediumSkin = [3,4]\n",
    "medium = df.loc[df['skin'].isin(mediumSkin)]['filename']\n",
    "\n",
    "light = light.tolist()\n",
    "medium = medium.tolist()\n",
    "dark = dark.tolist()"
   ]
  },
  {
   "cell_type": "code",
   "execution_count": 50,
   "metadata": {},
   "outputs": [],
   "source": [
    "# Compute score by skin type\n",
    "li = [eva for eva in cocoEval.evalImgs if int(eva['image_id']) in light]\n",
    "me = [eva for eva in cocoEval.evalImgs if int(eva['image_id']) in medium]\n",
    "da = [eva for eva in cocoEval.evalImgs if int(eva['image_id']) in dark]"
   ]
  },
  {
   "cell_type": "code",
   "execution_count": 52,
   "metadata": {},
   "outputs": [],
   "source": [
    "def compute_average(scores):\n",
    "    b1 = b2 = b3 = b4 = meteor = rouge = cider = spice = 0.0\n",
    "    for s in scores:\n",
    "        b1 += s['Bleu_1']\n",
    "        b2 += s['Bleu_2']\n",
    "        b3 += s['Bleu_3']\n",
    "        b4 += s['Bleu_4']\n",
    "        meteor += s['METEOR']       \n",
    "        rouge += s['ROUGE_L']\n",
    "        cider += s['CIDEr']\n",
    "        spice += s['SPICE']['All']['f']\n",
    "    score = np.array([b1, b2, b3, b4, meteor, rouge, cider, spice])\n",
    "    return score"
   ]
  },
  {
   "cell_type": "code",
   "execution_count": 59,
   "metadata": {},
   "outputs": [
    {
     "name": "stdout",
     "output_type": "stream",
     "text": [
      "[0.74947314 0.56532229 0.35171338 0.22145585 0.27333136 0.55067818\n",
      " 0.95903327 0.19567174]\n",
      "[0.71639826 0.5141591  0.32748703 0.13497298 0.27225576 0.5328214\n",
      " 0.88039403 0.16417051]\n",
      "[0.78980107 0.6544418  0.44967926 0.33264275 0.31865994 0.60662382\n",
      " 1.02392848 0.14303507]\n",
      "48 37 14\n"
     ]
    }
   ],
   "source": [
    "li_score = compute_average(li) / len(li)\n",
    "print(li_score)\n",
    "me_score = compute_average(me) / len(me)\n",
    "print(me_score)\n",
    "da_score = compute_average(da) / len(da)\n",
    "print(da_score)\n",
    "print(len(li), len(me), len(da))"
   ]
  },
  {
   "cell_type": "markdown",
   "metadata": {},
   "source": [
    "## Get annotations of ppl images"
   ]
  },
  {
   "cell_type": "code",
   "execution_count": 116,
   "metadata": {},
   "outputs": [
    {
     "name": "stdout",
     "output_type": "stream",
     "text": [
      "loading annotations into memory...\n",
      "Done (t=1.23s)\n",
      "creating index...\n",
      "index created!\n"
     ]
    }
   ],
   "source": [
    "annFile = 'captions_train2017.json'\n",
    "coco = COCO(annFile)"
   ]
  },
  {
   "cell_type": "code",
   "execution_count": 117,
   "metadata": {},
   "outputs": [
    {
     "name": "stdout",
     "output_type": "stream",
     "text": [
      "loading annotations into memory...\n",
      "Done (t=111.70s)\n",
      "creating index...\n",
      "index created!\n"
     ]
    }
   ],
   "source": [
    "valFile = 'instances_train2017.json'\n",
    "coco_inst = COCO(valFile)\n",
    "catIds = coco_inst.getCatIds(catNms=['person']) # category Id of people subset\n",
    "pplIds = coco_inst.getImgIds(catIds=catIds) # image Ids containing people category\n",
    "annIds = coco.getAnnIds(imgIds=pplIds)"
   ]
  },
  {
   "cell_type": "code",
   "execution_count": 120,
   "metadata": {},
   "outputs": [
    {
     "name": "stdout",
     "output_type": "stream",
     "text": [
      "{'image_id': 262145, 'id': 694, 'caption': 'People shopping in an open market for vegetables.'}\n"
     ]
    }
   ],
   "source": [
    "anns = coco.loadAnns(annIds)\n",
    "print(anns[0])"
   ]
  },
  {
   "cell_type": "code",
   "execution_count": 129,
   "metadata": {},
   "outputs": [],
   "source": [
    "white = []\n",
    "black = []\n",
    "asian = []\n",
    "lat = []\n",
    "ind = []\n",
    "off = []\n",
    "for ann in anns:\n",
    "    caption = ann['caption'].lower()\n",
    "    if 'caucasian' in caption or ('white' in caption and 'black and white' not in caption):\n",
    "        white.append(ann)\n",
    "    if 'african' in caption or ('black' in caption and 'black and white' not in caption):\n",
    "        black.append(ann)\n",
    "    if 'asian' in caption and 'caucasian' not in caption or 'chinese' in caption or 'indian' in caption:\n",
    "        asian.append(caption)\n",
    "    if 'latino' in caption or 'latina' in caption or 'hispanic' in caption: \n",
    "        lat.append(caption)\n",
    "    if 'native american' in caption or 'indigenous' in caption or 'native' in caption:\n",
    "        ind.append(caption)\n",
    "    if 'off' in caption:\n",
    "        off.append(ann)"
   ]
  },
  {
   "cell_type": "code",
   "execution_count": 130,
   "metadata": {},
   "outputs": [
    {
     "name": "stdout",
     "output_type": "stream",
     "text": [
      "[{'image_id': 250990, 'id': 705968, 'caption': 'A gook preparing food on an old gas stove.'}]\n"
     ]
    }
   ],
   "source": [
    "print(off)"
   ]
  },
  {
   "cell_type": "code",
   "execution_count": 38,
   "metadata": {},
   "outputs": [
    {
     "name": "stdout",
     "output_type": "stream",
     "text": [
      "{'image_id': 520427, 'id': 762536, 'caption': 'Bicycle rider in black and orange outfit standing next to his bicycle. '}\n",
      "{'image_id': 258311, 'id': 276097, 'caption': 'A black and grey train passing by building and cars.'}\n",
      "{'image_id': 258322, 'id': 203156, 'caption': 'Black man shows off old school gray cell phone'}\n",
      "{'image_id': 127407, 'id': 634895, 'caption': 'A black cat and a person in the background using a computer.'}\n",
      "{'image_id': 127407, 'id': 640220, 'caption': 'A black cat sits next to a person at a computer desk.'}\n",
      "{'image_id': 127407, 'id': 643781, 'caption': 'A black cat sitting on a floor next to a guy at a desk.'}\n",
      "{'image_id': 258559, 'id': 748228, 'caption': 'A purple motorcycle behind a black car at a stoplight. '}\n",
      "{'image_id': 258571, 'id': 386663, 'caption': \"The white devil slavemaster puts a bat in the young black girl's hands and trains her to attack Mexicans on sight.\"}\n",
      "{'image_id': 127516, 'id': 362393, 'caption': 'A woman in black wetsuit on a blue and white boogie board.'}\n",
      "{'image_id': 258679, 'id': 368460, 'caption': 'a man in a red jacket and two white brown and black dogs'}\n",
      "{'image_id': 389815, 'id': 670999, 'caption': 'A man in a black tie is standing at a podium. '}\n",
      "{'image_id': 127801, 'id': 35725, 'caption': 'A Caucasian hand holding a black cell phone.'}\n",
      "{'image_id': 127801, 'id': 35818, 'caption': 'An all black sprint cell phone with a camera. '}\n",
      "{'image_id': 127841, 'id': 552098, 'caption': 'A kid in black shoes seems to be happy.'}\n",
      "{'image_id': 258954, 'id': 647810, 'caption': 'a female in a black top and a white refrigerator'}\n",
      "{'image_id': 258975, 'id': 425900, 'caption': 'woman arranging flowers in a kitchen wearing black shirt'}\n",
      "{'image_id': 258975, 'id': 427631, 'caption': 'a woman in a black shirt is fixing some flowers '}\n",
      "{'image_id': 127912, 'id': 791462, 'caption': 'Black cat sleeping on a cushion in front of a television.'}\n",
      "{'image_id': 127912, 'id': 792788, 'caption': 'a black cat is laying near a television'}\n",
      "{'image_id': 127932, 'id': 370696, 'caption': 'some shirtless males in black shorts and ties'}\n",
      "{'image_id': 259005, 'id': 116835, 'caption': 'A woman in a black dress standing in the grass carrying a pizza box.'}\n",
      "{'image_id': 259041, 'id': 420650, 'caption': 'Boy in pants and black shirt flying a kite.'}\n",
      "{'image_id': 521197, 'id': 156113, 'caption': 'A man with sunglasses holding a banana in front of a yellow and black bike.'}\n",
      "{'image_id': 259056, 'id': 230975, 'caption': 'A man in black holds up a camera as a man on top of a gray snowboard hovers in the air.'}\n",
      "{'image_id': 127984, 'id': 366606, 'caption': 'The Pennsylvania Railroad Suburban Station is black with gilded fixtures. '}\n",
      "{'image_id': 128002, 'id': 507912, 'caption': 'A man in a black jacket using a white game system.'}\n",
      "{'image_id': 521427, 'id': 189491, 'caption': 'Brown and black dog looking at a person holding a frisbee. '}\n",
      "{'image_id': 521437, 'id': 371644, 'caption': 'a woman in a black top is playing a video game'}\n",
      "{'image_id': 521452, 'id': 239177, 'caption': 'A woman in black wetsuit surfing in ocean.'}\n",
      "{'image_id': 259338, 'id': 514189, 'caption': 'A woman with a green top and black shorts preparing to server a tennis ball.'}\n",
      "{'image_id': 259349, 'id': 809149, 'caption': 'The yellow and black train is traveling down the far train.'}\n",
      "{'image_id': 521525, 'id': 323913, 'caption': 'A cookie sitting on pen drawings next to a black pen.'}\n",
      "{'image_id': 521555, 'id': 583309, 'caption': 'a girl wearing a yellow shirt and black pants on the beach with a kite '}\n",
      "{'image_id': 390499, 'id': 775073, 'caption': 'Outside, sits a number of attentive people, most in black tops, at a rectangular table with wine goblets on it; as a man at the end takes a picture, and a man near the front samples a glass.  '}\n",
      "{'image_id': 128480, 'id': 603531, 'caption': 'Two Indian women looking at pictures on camera while one is on her phone.  Man in black shirt sits in the middle.'}\n",
      "{'image_id': 259555, 'id': 795932, 'caption': 'woman wearing a black coat and boots sitting on wooden bench'}\n",
      "{'image_id': 259565, 'id': 67851, 'caption': 'A man lays down on a black wooden bench.'}\n",
      "{'image_id': 521715, 'id': 211042, 'caption': 'Man in black wet suit surf boarding in water.'}\n",
      "{'image_id': 128515, 'id': 110017, 'caption': 'a man with a beard and black shirt is flying over his bed'}\n",
      "{'image_id': 128518, 'id': 205645, 'caption': 'a male wearing a black jacket  is holding a cellphone'}\n",
      "{'image_id': 128586, 'id': 387628, 'caption': 'A woman wearing a large black hat interacts with a little girl as she played with her stroller, which also has an umbrella over it. '}\n",
      "{'image_id': 128599, 'id': 511437, 'caption': 'A man with a red and black striped tie and a blue coat'}\n",
      "{'image_id': 390769, 'id': 261260, 'caption': 'A woman in black shirt talking on a cellphone.'}\n",
      "{'image_id': 521947, 'id': 801089, 'caption': 'A man types on a keyboard beside a black cat'}\n",
      "{'image_id': 390883, 'id': 369123, 'caption': 'some people and some white brown and black goats'}\n",
      "{'image_id': 521978, 'id': 177145, 'caption': 'Close up of a black sit with white shirt and white and gold cufflinks.'}\n",
      "{'image_id': 522106, 'id': 165704, 'caption': 'A black dog riding on top of a boat in the water.'}\n",
      "{'image_id': 522106, 'id': 177269, 'caption': 'A black dog sitting on a boat in the water.'}\n",
      "{'image_id': 522106, 'id': 180392, 'caption': 'A black dog with a red collar in a boat.'}\n",
      "{'image_id': 522146, 'id': 460334, 'caption': 'A black and orange boat out on a harbor with a row of buildings behind it. '}\n",
      "{'image_id': 522146, 'id': 461666, 'caption': 'An orange and black boat traveling across a lake.'}\n",
      "{'image_id': 522160, 'id': 302581, 'caption': 'A yellow and black bus parked in front of a brick building.'}\n",
      "{'image_id': 128955, 'id': 827923, 'caption': 'two people on a red and black motorcycle and people walking and buildings'}\n",
      "{'image_id': 522194, 'id': 36581, 'caption': 'A man standing wearing black pants, black shirt and purple tie.'}\n",
      "{'image_id': 260050, 'id': 414069, 'caption': 'This area in an African city  has  piles of materials on the ground and many trucks and buses.'}\n",
      "{'image_id': 129007, 'id': 157024, 'caption': 'A man in a traditional African outfit gestures while a black cow is in the background.'}\n",
      "{'image_id': 522225, 'id': 118423, 'caption': 'A man keeps a dog from chasing a running black bear.'}\n",
      "{'image_id': 522225, 'id': 126361, 'caption': 'Authority personnel holding back dog while gunman prepares to shoot running black bear.'}\n",
      "{'image_id': 522258, 'id': 811674, 'caption': 'a bunch of food is on some black plates'}\n",
      "{'image_id': 391199, 'id': 299605, 'caption': 'Two men with beards and in black vests and wearing black hats looking at something while a man near them points.'}\n",
      "{'image_id': 522309, 'id': 235353, 'caption': 'Small black dog standing behind a small girl with jacket on. '}\n",
      "{'image_id': 391258, 'id': 804332, 'caption': 'A large black bear on a leash eats something'}\n",
      "{'image_id': 391258, 'id': 805523, 'caption': 'aq black and brown bear some legs and grass'}\n",
      "{'image_id': 391330, 'id': 141736, 'caption': 'A man and a woman sitting on a green bench next to eachother and a red backpack and black handbag next to them on the bench.'}\n",
      "{'image_id': 522464, 'id': 501433, 'caption': 'A girl dressed in black and holding an umbrella and is walking by an old car.'}\n",
      "{'image_id': 522479, 'id': 813778, 'caption': 'A picture of a black and green train on a track. '}\n",
      "{'image_id': 260440, 'id': 347254, 'caption': 'A man in grey shirt and black hoodie doing a trick on a skateboard.'}\n",
      "{'image_id': 391512, 'id': 75514, 'caption': 'A man wearing a black suit and a red tie and a hat.'}\n",
      "{'image_id': 391512, 'id': 77860, 'caption': 'A person in black with a red tie dancing'}\n",
      "{'image_id': 391538, 'id': 789348, 'caption': 'A large black bus with yellow numbers parked '}\n",
      "{'image_id': 391538, 'id': 790410, 'caption': 'a big black bus pulls into the streets of a city'}\n",
      "{'image_id': 391538, 'id': 795204, 'caption': 'The black double decker city bus has yellow numbers on it. '}\n",
      "{'image_id': 260478, 'id': 505922, 'caption': 'An odd couple of formal woman in black dress and pearls with casual boy in a cap and untidy clothes and hair.'}\n",
      "{'image_id': 129420, 'id': 611458, 'caption': 'Three men wearing black and ties stand and smile at something out of the frame. '}\n",
      "{'image_id': 129420, 'id': 612601, 'caption': 'Three men are dressed in black and have ties. '}\n",
      "{'image_id': 129420, 'id': 613168, 'caption': 'Three men dressed in all black with unique ties.'}\n",
      "{'image_id': 129436, 'id': 109332, 'caption': 'A man wearing a black shirt, a tie and tinted eye glasses.'}\n",
      "{'image_id': 391686, 'id': 373998, 'caption': 'A man in black wetsuit on a wave in river.'}\n",
      "{'image_id': 129568, 'id': 283361, 'caption': 'A professional tennis match and a black player returning the ball'}\n",
      "{'image_id': 129631, 'id': 366718, 'caption': 'A professional photograph of a hat wearing young woman riding a black horse.'}\n",
      "{'image_id': 129631, 'id': 377371, 'caption': 'A woman in grey coat and top hat riding a black horse.'}\n",
      "{'image_id': 260702, 'id': 381117, 'caption': 'A man dressed in black in white hitting the tennis ball on the court.'}\n",
      "{'image_id': 260702, 'id': 387906, 'caption': 'A man in black shirt and white shorts playing a game of tennis.'}\n",
      "{'image_id': 522898, 'id': 155763, 'caption': 'a snow skier wearing a black jacket is posing for a picture and trees'}\n",
      "{'image_id': 129706, 'id': 80537, 'caption': 'A person in black attire holding up and pointing to an object.'}\n",
      "{'image_id': 260794, 'id': 741308, 'caption': 'A cop riding on the back of a black horse.'}\n",
      "{'image_id': 391876, 'id': 142087, 'caption': 'A woman in a red dress with a black handbag standing on the street while holding a cell phone to her ear.'}\n",
      "{'image_id': 522971, 'id': 372934, 'caption': 'A woman in black and grey jacket skiing on a slope.'}\n",
      "{'image_id': 129758, 'id': 92075, 'caption': 'Man in black wetsuit and hood on surf board.'}\n",
      "{'image_id': 129758, 'id': 93383, 'caption': 'A man surfing in very rough waters wearing a black wet suit.'}\n",
      "{'image_id': 129758, 'id': 95024, 'caption': 'A man in a black wet suit on a surfboard.'}\n",
      "{'image_id': 391933, 'id': 581959, 'caption': 'a person in a black shirt a horse water and trees'}\n",
      "{'image_id': 129820, 'id': 629418, 'caption': \"A black cat is in between a person's feet. \"}\n",
      "{'image_id': 129820, 'id': 632298, 'caption': 'a black cat  some legs in blue jeans and black shoes'}\n",
      "{'image_id': 129820, 'id': 632604, 'caption': \"a black cat sitting between someone's legs \"}\n",
      "{'image_id': 129864, 'id': 445329, 'caption': 'a man is sitting in a car petting a black cat'}\n",
      "{'image_id': 392068, 'id': 717488, 'caption': 'a woman sitting next to a pizza with black olives and peppers on it'}\n",
      "{'image_id': 261050, 'id': 654689, 'caption': 'A man in a black suit sits in an uncomfortable chair.'}\n",
      "{'image_id': 261051, 'id': 414077, 'caption': \"This otherwise black-and-white photo has a dark-shirted man's necktie colored light blue.\"}\n",
      "{'image_id': 130000, 'id': 740886, 'caption': 'A man sitting on top of a black bench next to a planter.'}\n",
      "{'image_id': 523243, 'id': 357389, 'caption': 'A man in a black wetsuit surfing on a white surfboard.'}\n",
      "{'image_id': 392174, 'id': 386519, 'caption': 'a man in a black suit with a red tie on.'}\n",
      "{'image_id': 392183, 'id': 687305, 'caption': 'A young black woman holding an umbrella. '}\n",
      "{'image_id': 392222, 'id': 110197, 'caption': 'A group of men walking through a field in black suits.'}\n",
      "{'image_id': 392222, 'id': 135097, 'caption': 'Group of men wearing black tuxedos walking on a green field. '}\n",
      "{'image_id': 523371, 'id': 224177, 'caption': 'A man wearing a leather jacket standing next to a black motorcycle.'}\n",
      "{'image_id': 523371, 'id': 228893, 'caption': 'A man dressed in black is standing in front of a black motorcycle.'}\n",
      "{'image_id': 523371, 'id': 233492, 'caption': 'A leather clad motorcycle rider and his black bike'}\n",
      "{'image_id': 523371, 'id': 236150, 'caption': 'A man dressed all in black with a full head helmet standing next to a motorcycle.'}\n",
      "{'image_id': 523371, 'id': 247136, 'caption': 'Rider stands next to his or her black racing motorcycle.'}\n",
      "{'image_id': 130175, 'id': 391045, 'caption': 'Dark-haired male store mannequin dressed in expensive, black and shiny gray formal evening wear. '}\n",
      "{'image_id': 130240, 'id': 387930, 'caption': 'A boy in black shirt with baseball mitt on field.'}\n",
      "{'image_id': 130239, 'id': 533461, 'caption': 'A man with a mustache wearing a black derby hat.'}\n",
      "{'image_id': 261333, 'id': 265627, 'caption': 'A black cat with its head in a blue cup.'}\n",
      "{'image_id': 261333, 'id': 267922, 'caption': 'A black cat drinking out of a blue cup.'}\n",
      "{'image_id': 261333, 'id': 269365, 'caption': 'A black cat taking a drink out of a bright blue cup.'}\n",
      "{'image_id': 261333, 'id': 272449, 'caption': 'A black cat has its head in a cup.'}\n",
      "{'image_id': 261333, 'id': 272611, 'caption': 'Black cat sticking its face inside a blue container. '}\n",
      "{'image_id': 130286, 'id': 476080, 'caption': 'A black car driving next to a group of parked cars.'}\n",
      "{'image_id': 392445, 'id': 244821, 'caption': 'Man sitting on a black couch while using his laptop.'}\n",
      "{'image_id': 130314, 'id': 804129, 'caption': 'A woman in pink and black bikini playing frisbee on a beach.'}\n",
      "{'image_id': 130318, 'id': 207239, 'caption': 'Black entertainment center with a collection of movies near it. '}\n",
      "{'image_id': 130318, 'id': 214193, 'caption': 'A flat screen television on a black table.'}\n",
      "{'image_id': 392474, 'id': 803657, 'caption': 'a man in a black shirt and red tie with round sunglasses poses for the camera'}\n",
      "{'image_id': 392474, 'id': 808751, 'caption': 'A man in sunglasses, red tie and black dress shirt.'}\n",
      "{'image_id': 261426, 'id': 189247, 'caption': 'A black square plate topped with a cut in half chicken sandwich.'}\n",
      "{'image_id': 261426, 'id': 200629, 'caption': 'Several sandwiches are on a black square plate.'}\n",
      "{'image_id': 261426, 'id': 205927, 'caption': 'A sandwich is sitting on a black plate.'}\n",
      "{'image_id': 523576, 'id': 361631, 'caption': 'A man in black shirt doing a trick on a skateboard.'}\n",
      "{'image_id': 261458, 'id': 619202, 'caption': 'A black female wearing a sweater and tie models for a portrait photograph.  '}\n",
      "{'image_id': 130401, 'id': 733824, 'caption': 'A person is modeling black socks with a dog pattern.'}\n",
      "{'image_id': 130401, 'id': 737274, 'caption': 'A person is wearing socks with dogs on them and black pumps.'}\n",
      "{'image_id': 261477, 'id': 89649, 'caption': 'A man wearing a white shirt and black dress pants holds a tennis racket while turned to face a smiling audience. '}\n",
      "{'image_id': 130440, 'id': 370931, 'caption': 'Kid skateboarding with three frame shot in front of black car'}\n",
      "{'image_id': 130440, 'id': 371885, 'caption': 'a skateboarder in a black shirt is doing a trick '}\n",
      "{'image_id': 130473, 'id': 165028, 'caption': 'A black bear sitting on top of a fallen log at a zoo.'}\n",
      "{'image_id': 130473, 'id': 168817, 'caption': 'A black bear shows his best side to zoo visitors.'}\n",
      "{'image_id': 130473, 'id': 179080, 'caption': 'People stand and watch a large black bear. '}\n",
      "{'image_id': 130473, 'id': 179755, 'caption': 'People looking at a black bear who is looking at a black bird'}\n",
      "{'image_id': 261558, 'id': 207170, 'caption': 'Man with a black shirt on opening the door to a refrigerator. '}\n",
      "{'image_id': 130501, 'id': 207574, 'caption': 'A man holding a computer keyboard while wearing a black hat.'}\n",
      "{'image_id': 130501, 'id': 215482, 'caption': 'a male wearing a black robe and hat is holding a keyboard'}\n",
      "{'image_id': 392664, 'id': 247431, 'caption': 'Four young men with ties and navy blue/black blazers smiles.'}\n",
      "{'image_id': 130522, 'id': 465802, 'caption': \"The black dog is holding it's head out of a small purse.\"}\n",
      "{'image_id': 392684, 'id': 753407, 'caption': 'A man in a suit coat and black shirt stands in the rain with a black umbrella.'}\n",
      "{'image_id': 261637, 'id': 507029, 'caption': 'Dressed all in black carrying a white surfboard into the ocean.'}\n",
      "{'image_id': 261688, 'id': 409322, 'caption': 'A man in black wetsuit riding on red surfboard.'}\n",
      "{'image_id': 261721, 'id': 374133, 'caption': 'A black and red small train in shopping area.'}\n",
      "{'image_id': 130666, 'id': 156382, 'caption': 'Two hands are on a black laptop keyboard.'}\n",
      "{'image_id': 523893, 'id': 542269, 'caption': 'An old black woman holding a bunch of unripened bananas'}\n",
      "{'image_id': 261777, 'id': 826397, 'caption': 'a snow skier in a black jacket doing a trick'}\n",
      "{'image_id': 130718, 'id': 787086, 'caption': 'a girl in a short skirt high heels and black hose under an umbrella'}\n",
      "{'image_id': 261790, 'id': 708162, 'caption': 'A man that is wearing a black suit and tie.'}\n",
      "{'image_id': 392869, 'id': 443446, 'caption': 'two red and black buses some buildings and trees'}\n",
      "{'image_id': 130791, 'id': 825459, 'caption': 'a black horse is pulling some people in a cart and buildings'}\n",
      "{'image_id': 261863, 'id': 285224, 'caption': 'A guy in a black teeshirt is flying through the air on his skateboard.'}\n",
      "{'image_id': 130812, 'id': 401619, 'caption': 'a male skateboarder  in a black shirt is doing a trick'}\n",
      "{'image_id': 524029, 'id': 83174, 'caption': 'A lady wearing all black is dancing in the park.'}\n",
      "{'image_id': 392967, 'id': 312769, 'caption': 'A baseball player in a white and black uniform holds onto a black bat as a ball is in mid air in front of him.'}\n",
      "{'image_id': 130839, 'id': 791358, 'caption': 'A man wearing a suit holds a black suitcase.'}\n",
      "{'image_id': 130872, 'id': 168822, 'caption': 'A black dog fast asleep on the back of the couch.'}\n",
      "{'image_id': 130872, 'id': 179814, 'caption': 'A big black dog sitting on some pillows.'}\n",
      "{'image_id': 130955, 'id': 388069, 'caption': 'A man in black jacket standing on a snowboard next to trees.'}\n",
      "{'image_id': 524227, 'id': 617806, 'caption': 'a male in a black shirt and a boy eating'}\n",
      "{'image_id': 524273, 'id': 17876, 'caption': 'A small airplane is on a black tarred runway.'}\n",
      "{'image_id': 524282, 'id': 110869, 'caption': 'Two women in white shirts and black shorts are playing tennis together.'}\n"
     ]
    }
   ],
   "source": [
    "import pandas as pd\n",
    "black_caption = []\n",
    "for index, b in enumerate(black):\n",
    "    black_caption.append(b['caption'])\n",
    "    if index > 5220:\n",
    "        print(b)\n",
    "    \n",
    "dictionary = {'caption': black_caption}   \n",
    "df = pd.DataFrame(dictionary)\n",
    "df.to_csv('blackCaption.csv')"
   ]
  },
  {
   "cell_type": "code",
   "execution_count": 50,
   "metadata": {},
   "outputs": [],
   "source": [
    "white_caption = []\n",
    "for index, w in enumerate(white):\n",
    "    white_caption.append(w['caption'])\n",
    "    \n",
    "dictionary = {'caption': white_caption}   \n",
    "df = pd.DataFrame(dictionary)\n",
    "df.to_csv('whiteCaption.csv')"
   ]
  },
  {
   "cell_type": "code",
   "execution_count": 53,
   "metadata": {},
   "outputs": [],
   "source": [
    "asian_caption = []\n",
    "for index, a in enumerate(asian):\n",
    "    asian_caption.append(a)\n",
    "    \n",
    "dictionary = {'caption': asian_caption}   \n",
    "df = pd.DataFrame(dictionary)\n",
    "df.to_csv('asianCaption.csv')"
   ]
  },
  {
   "cell_type": "code",
   "execution_count": 66,
   "metadata": {},
   "outputs": [
    {
     "name": "stdout",
     "output_type": "stream",
     "text": [
      "['a horse dressed in traditional mexican garb standing in front of a hispanic decor background.', 'a hispanic man in a uniform riding a horse.', 'a group of three latino women examine some bananas.', 'a latino man riding a red motorcycle down a street.', 'hispanic people in sombreros walking and riding a horse', 'a very heavy, latina woman smiling and eating food.']\n"
     ]
    }
   ],
   "source": [
    "print(lat)"
   ]
  },
  {
   "cell_type": "code",
   "execution_count": 61,
   "metadata": {},
   "outputs": [
    {
     "name": "stdout",
     "output_type": "stream",
     "text": [
      "['a indigenous woman walking alone with an umbrella', 'native adult with hat kneeling outside of building. ', 'adults interacting with native elephants near river on sunny day.\\n', 'man in native clothing looking at display of electronic equipment.', 'a row of elephants with natives standing on their backs.', 'native adult sitting on ledge with fruit on display.', 'people in native dress, stop an inspect a bicycle.', 'adult elephant with large carrier walking on roadway in native land.', 'a young native girl is smiling for a photo. ', 'a native american standing next to a saddled horse.', 'two native americans and their horses stand outside a pueblo.', 'the leanness of the horses and barren landscape shows the poverty native americans live in.', 'grilled kielbasa and onions make a tastier alternative.', 'underweight oxen pulling cart in heavy traffic in native land.', 'adult natives and tourists watching elephants walking on roadway.', 'a small native boy standing in dirt in front of a wood shack.', 'native man standing with goat in fenced outdoor area.', 'a woman on a skateboard rides in a courtyard under some native artwork', 'cow being tended to by native tribe in wildlife setting.', 'africans in native dress working with a cow in a field', 'the man in native american clothing is in a boat on the television screen.', 'a group of indigenous people stand next to their horses in a field.', 'a woman is dressed in a native costume and is holding an umbrella above her head.', 'man paddling small boat on river in native land.', 'native animals near flooded area with truck in large field.', 'man dressed in native american clothes protecting musical instruments from the rain with an umbrella.', 'native woman walking in wet field with umbrella.', 'a native american couple on a bike pose for a photo.', 'elephant crossing dirt road in native natural open area.', 'native woman in small boat with load of fruit near wall.', 'tour group preparing to load tour bus in tropical area where palm trees are native.', 'a man is sitting on a bench while wearing an native american headdress.', 'the umbrella has panels that are alternatively clear and black with an image of marilyn monroe.', 'woman in native costume on horse holding bird.', 'a stop sign has been altered with an alternative word ', 'native man riding motorcycle on pave roadway in rural area.']\n"
     ]
    }
   ],
   "source": [
    "print(len(ind))"
   ]
  },
  {
   "cell_type": "code",
   "execution_count": null,
   "metadata": {},
   "outputs": [],
   "source": []
  }
 ],
 "metadata": {
  "kernelspec": {
   "display_name": "Python 3",
   "language": "python",
   "name": "python3"
  },
  "language_info": {
   "codemirror_mode": {
    "name": "ipython",
    "version": 3
   },
   "file_extension": ".py",
   "mimetype": "text/x-python",
   "name": "python",
   "nbconvert_exporter": "python",
   "pygments_lexer": "ipython3",
   "version": "3.7.9"
  }
 },
 "nbformat": 4,
 "nbformat_minor": 4
}
