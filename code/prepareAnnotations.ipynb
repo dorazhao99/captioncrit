{
 "cells": [
  {
   "cell_type": "code",
   "execution_count": 1,
   "metadata": {},
   "outputs": [],
   "source": [
    "import os\n",
    "from pycocotools.coco import COCO\n",
    "import csv, json\n",
    "import pandas as pd\n",
    "import cv2"
   ]
  },
  {
   "cell_type": "code",
   "execution_count": 2,
   "metadata": {},
   "outputs": [
    {
     "name": "stdout",
     "output_type": "stream",
     "text": [
      "loading annotations into memory...\n",
      "Done (t=0.82s)\n",
      "creating index...\n",
      "index created!\n",
      "loading annotations into memory...\n",
      "Done (t=0.19s)\n",
      "creating index...\n",
      "index created!\n"
     ]
    }
   ],
   "source": [
    "instancesFile = '../annotations/instances_val2017.json'\n",
    "annFile = '../annotations/captions_val2017.json'\n",
    "cocoInstances = COCO(instancesFile)\n",
    "cocoAnn = COCO(annFile)"
   ]
  },
  {
   "cell_type": "code",
   "execution_count": 11,
   "metadata": {},
   "outputs": [],
   "source": [
    "with open('../annotations/otherImgAnnotations.csv', 'w') as f:\n",
    "    writer = csv.writer(f)\n",
    "    writer.writerow(['image', 'gt_caption'])\n",
    "    for image in os.listdir('../images/other'):\n",
    "        img_id = int(image.split('_')[3])\n",
    "        annIds = cocoAnn.getAnnIds(imgIds = img_id)\n",
    "        anns = cocoAnn.loadAnns(ids = annIds)\n",
    "        for ann in anns:\n",
    "            writer.writerow([image, ann])"
   ]
  },
  {
   "cell_type": "code",
   "execution_count": 6,
   "metadata": {},
   "outputs": [],
   "source": [
    "df = pd.read_csv('../annotations/otherImgAnnotations.csv')\n",
    "images = df[\"image\"].tolist()\n",
    "caption = df[\"pair_caption\"].tolist()\n",
    "visited = {}\n",
    "output = {\"annotations\":[], \"images\":[]}\n",
    "for i, im in enumerate(images):\n",
    "    im_id = str(im.split(\"_\")[3]) + str(im.split(\"_\")[4])\n",
    "    if im_id not in visited:\n",
    "        output[\"images\"].append({\"id\": int(im_id.split(\".\")[0]), \"file_name\": im_id})\n",
    "        visited[im_id] = True\n",
    "    output[\"annotations\"].append({\"image_id\": int(im_id.split(\".\")[0]), \"caption\": caption[i]})"
   ]
  },
  {
   "cell_type": "code",
   "execution_count": 7,
   "metadata": {},
   "outputs": [],
   "source": [
    "with open('../annotations/augAnn.json', 'w') as f:\n",
    "    json.dump(output, f)"
   ]
  },
  {
   "cell_type": "code",
   "execution_count": 17,
   "metadata": {},
   "outputs": [],
   "source": [
    "# copy and rename files\n",
    "import os\n",
    "import shutil\n",
    "\n",
    "def copy_rename(old_file_name, new_file_name):\n",
    "    src_dir = (\"../images/aug/\")\n",
    "    dst_dir = (\"../images/aug2/\")\n",
    "    src_file = os.path.join(src_dir, old_file_name)\n",
    "    shutil.copy(src_file,dst_dir)\n",
    "    dst_file = os.path.join(dst_dir, old_file_name)\n",
    "    new_dst_file_name = os.path.join(dst_dir, new_file_name)\n",
    "    os.rename(dst_file, new_dst_file_name)"
   ]
  },
  {
   "cell_type": "code",
   "execution_count": 4,
   "metadata": {},
   "outputs": [],
   "source": [
    "for file in os.listdir(\"../images/aug\"):\n",
    "    filename = \"../images/aug/\" + file\n",
    "    new_filename = \"../images/aug3/\" + file\n",
    "    img = cv2.imread(filename)\n",
    "    w, h, _ = img.shape\n",
    "\n",
    "    scale_percent = 400 / w\n",
    "    height = int(h * scale_percent)\n",
    "    dsize = (height, 400)\n",
    "    output = cv2.resize(img, dsize, interpolation = cv2.INTER_AREA)\n",
    "    cv2.imwrite(new_filename, output) "
   ]
  },
  {
   "cell_type": "code",
   "execution_count": null,
   "metadata": {},
   "outputs": [],
   "source": []
  }
 ],
 "metadata": {
  "kernelspec": {
   "display_name": "Python 3",
   "language": "python",
   "name": "python3"
  },
  "language_info": {
   "codemirror_mode": {
    "name": "ipython",
    "version": 3
   },
   "file_extension": ".py",
   "mimetype": "text/x-python",
   "name": "python",
   "nbconvert_exporter": "python",
   "pygments_lexer": "ipython3",
   "version": "3.7.9"
  }
 },
 "nbformat": 4,
 "nbformat_minor": 4
}
