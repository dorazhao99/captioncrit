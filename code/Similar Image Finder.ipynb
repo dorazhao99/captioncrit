{
 "cells": [
  {
   "cell_type": "markdown",
   "metadata": {},
   "source": [
    "# Find Similar Images"
   ]
  },
  {
   "cell_type": "code",
   "execution_count": 3,
   "metadata": {},
   "outputs": [],
   "source": [
    "import numpy as np\n",
    "import numpy.linalg as linalg\n",
    "import pickle, os, time\n",
    "from tensorflow.keras.preprocessing import image\n",
    "from tensorflow.keras.applications.resnet50 import ResNet50, preprocess_input\n",
    "from sklearn.manifold import TSNE\n",
    "import matplotlib.pyplot as plt\n",
    "import cv2"
   ]
  },
  {
   "cell_type": "markdown",
   "metadata": {},
   "source": [
    "### Extract features using ResNet 50 and calculate Euclidean loss"
   ]
  },
  {
   "cell_type": "code",
   "execution_count": 4,
   "metadata": {},
   "outputs": [
    {
     "name": "stderr",
     "output_type": "stream",
     "text": [
      "/Users/dorazhao/miniconda3/envs/thesis/lib/python3.7/site-packages/keras_applications/resnet50.py:265: UserWarning: The output shape of `ResNet50(include_top=False)` has been changed since Keras 2.2.0.\n",
      "  warnings.warn('The output shape of `ResNet50(include_top=False)` '\n"
     ]
    }
   ],
   "source": [
    "model = ResNet50(weights='imagenet', include_top=False,\n",
    "                 input_shape=(224, 224, 3))"
   ]
  },
  {
   "cell_type": "code",
   "execution_count": 5,
   "metadata": {},
   "outputs": [],
   "source": [
    "# function that gets features from resnet\n",
    "def get_features(model, img_path):\n",
    "    img = image.load_img(img_path, target_size=(224, 224))\n",
    "    img_data = image.img_to_array(img)\n",
    "    img_data = np.expand_dims(img_data, axis=0)\n",
    "    img_data = preprocess_input(img_data)\n",
    "    features = model.predict(img_data).flatten()\n",
    "    features = features / linalg.norm(features)\n",
    "    return features "
   ]
  },
  {
   "cell_type": "code",
   "execution_count": 6,
   "metadata": {},
   "outputs": [],
   "source": [
    "# gets the euclidean distance and cosine loss between a pair of feature representation\n",
    "def get_difference(feature1, feature2):\n",
    "    euclidean_loss = np.power(feature1 - feature2, 2)\n",
    "    euclidean_loss = np.sqrt(np.sum(euclidean_loss))\n",
    "#     cosine_loss = (feature1.T @ feature2)\n",
    "    return euclidean_loss"
   ]
  },
  {
   "cell_type": "code",
   "execution_count": 13,
   "metadata": {},
   "outputs": [],
   "source": [
    "mypath = '../images/all images/'\n",
    "files_path = [mypath + x for x in os.listdir(mypath) if not x.startswith('.')]"
   ]
  },
  {
   "cell_type": "code",
   "execution_count": 14,
   "metadata": {},
   "outputs": [],
   "source": [
    "coco_m, coco_f, sim_m, sim_f, coco_m_files, coco_f_files, sim_m_files, sim_f_files = ([] for i in range(8))\n",
    "\n",
    "for file in files_path:\n",
    "    base = os.path.basename(file).split('_')\n",
    "    features = get_features(model, file)\n",
    "    if base[0] is 'f' and base[1] is 'f':\n",
    "        sim_f.append(features)\n",
    "        sim_f_files.append(file)\n",
    "    elif base[0] is 'f' and base[1] is 'm':\n",
    "        sim_m.append(features)\n",
    "        sim_m_files.append(file)\n",
    "    elif base[0] is 'm' and base[1] is 'm':\n",
    "        coco_m.append(features)\n",
    "        coco_m_files.append(file)\n",
    "    else: \n",
    "        coco_f.append(features)\n",
    "        coco_f_files.append(file)"
   ]
  },
  {
   "cell_type": "code",
   "execution_count": 15,
   "metadata": {},
   "outputs": [
    {
     "name": "stdout",
     "output_type": "stream",
     "text": [
      "COCO File: m_m_frisbee_127263.jpg, Similar Match: f_f_sports_135604_4.jpg, Euclidean Loss: 1.0684254169464111\n",
      "COCO File: m_m_frisbee_227482.jpg, Similar Match: f_f_sports_135604_4.jpg, Euclidean Loss: 1.1695038080215454\n",
      "COCO File: m_m_frisbee_291619.jpg, Similar Match: f_f_frisbee_291619_2.jpg, Euclidean Loss: 1.0963425636291504\n",
      "COCO File: m_m_frisbee_325991.jpg, Similar Match: f_f_sports_135604_4.jpg, Euclidean Loss: 1.0964782238006592\n",
      "COCO File: m_m_frisbee_328238.jpg, Similar Match: f_f_sports_135604_4.jpg, Euclidean Loss: 1.1178133487701416\n",
      "COCO File: m_m_frisbee_88485.jpg, Similar Match: f_f_frisbee_88485_2.jpg, Euclidean Loss: 1.1360191106796265\n",
      "COCO File: m_m_racket_127530.jpg, Similar Match: f_f_racket_64718_1.jpg, Euclidean Loss: 1.102043867111206\n",
      "COCO File: m_m_racket_19432.jpg, Similar Match: f_f_racket_19432_2.jpg, Euclidean Loss: 1.2175593376159668\n",
      "COCO File: m_m_racket_55950.jpg, Similar Match: f_f_racket_55950_3.jpg, Euclidean Loss: 1.109898567199707\n",
      "COCO File: m_m_racket_64718.jpg, Similar Match: f_f_racket_88970_5.jpg, Euclidean Loss: 1.1582833528518677\n",
      "COCO File: m_m_racket_85772.jpg, Similar Match: f_f_racket_88970_5.jpg, Euclidean Loss: 1.1302834749221802\n",
      "COCO File: m_m_racket_88970.jpg, Similar Match: f_f_sports_429690_1.jpg, Euclidean Loss: 1.1238709688186646\n",
      "COCO File: m_m_skateboard_125472.jpg, Similar Match: f_f_skateboard_13201_4.jpg, Euclidean Loss: 1.1681889295578003\n",
      "COCO File: m_m_skateboard_128699.jpg, Similar Match: f_f_skateboard_13201_4.jpg, Euclidean Loss: 1.1780173778533936\n",
      "COCO File: m_m_skateboard_13201.jpg, Similar Match: f_f_skateboard_13201_4.jpg, Euclidean Loss: 1.1604409217834473\n",
      "COCO File: m_m_skateboard_157365.jpg, Similar Match: f_f_skateboard_157365_3.jpg, Euclidean Loss: 1.1047018766403198\n",
      "COCO File: m_m_skateboard_31093.jpg, Similar Match: f_f_skateboard_31093_5.jpg, Euclidean Loss: 1.1582025289535522\n",
      "COCO File: m_m_skateboard_72281.jpg, Similar Match: f_f_skateboard_13201_4.jpg, Euclidean Loss: 1.1677275896072388\n",
      "COCO File: m_m_sports_135604.jpg, Similar Match: f_f_sports_371552_4.jpg, Euclidean Loss: 1.1168785095214844\n",
      "COCO File: m_m_sports_192670.jpg, Similar Match: f_f_sports_429690_1.jpg, Euclidean Loss: 1.0815473794937134\n",
      "COCO File: m_m_sports_33759.jpg, Similar Match: f_f_sports_89296_4.jpg, Euclidean Loss: 1.076217770576477\n",
      "COCO File: m_m_sports_371552.jpg, Similar Match: f_f_sports_135604_4.jpg, Euclidean Loss: 1.0485420227050781\n",
      "COCO File: m_m_sports_429690.jpg, Similar Match: f_f_sports_429690_1.jpg, Euclidean Loss: 1.0708869695663452\n",
      "COCO File: m_m_sports_515982.jpg, Similar Match: f_f_sports_515982_2.jpg, Euclidean Loss: 1.217971920967102\n",
      "COCO File: m_m_sports_89296.jpg, Similar Match: f_f_sports_429690_1.jpg, Euclidean Loss: 1.1149052381515503\n",
      "COCO File: m_m_surfboard_115898.jpg, Similar Match: f_f_surfboard_115898_1.jpg, Euclidean Loss: 0.9874610900878906\n",
      "COCO File: m_m_surfboard_177357.jpg, Similar Match: f_f_surfboard_32570_2.jpg, Euclidean Loss: 1.0999031066894531\n",
      "COCO File: m_m_surfboard_187362.jpg, Similar Match: f_f_surfboard_187362_4.jpg, Euclidean Loss: 0.8625734448432922\n",
      "COCO File: m_m_surfboard_190007.jpg, Similar Match: f_f_surfboard_32570_2.jpg, Euclidean Loss: 1.009473443031311\n",
      "COCO File: m_m_surfboard_32570.jpg, Similar Match: f_f_surfboard_7278_3.jpg, Euclidean Loss: 1.0985536575317383\n",
      "COCO File: m_m_surfboard_4765.jpg, Similar Match: f_f_surfboard_32570_3.jpg, Euclidean Loss: 0.9951800107955933\n",
      "COCO File: m_m_surfboard_51314.jpg, Similar Match: f_f_surfboard_32570_4.jpg, Euclidean Loss: 1.066798210144043\n",
      "COCO File: m_m_surfboard_54164.jpg, Similar Match: f_f_surfboard_32570_4.jpg, Euclidean Loss: 1.0008107423782349\n",
      "COCO File: m_m_surfboard_7278.jpg, Similar Match: f_f_surfboard_177357_5.jpg, Euclidean Loss: 1.0727086067199707\n",
      "COCO File: m_m_tie_131444.jpg, Similar Match: f_f_tie_152214_1.jpg, Euclidean Loss: 1.1939586400985718\n",
      "COCO File: m_m_tie_152214.jpg, Similar Match: f_f_tie_131444_1.jpg, Euclidean Loss: 1.1849696636199951\n",
      "COCO File: m_m_tie_163682.jpg, Similar Match: f_f_tie_163682_1.jpg, Euclidean Loss: 1.1437509059906006\n",
      "COCO File: m_m_tie_170099.jpg, Similar Match: f_f_frisbee_325991_1.jpg, Euclidean Loss: 1.2257771492004395\n",
      "COCO File: m_m_tie_21604.jpg, Similar Match: f_f_tie_21604_1.jpg, Euclidean Loss: 1.1359667778015137\n",
      "COCO File: m_f_hairdrier_350002.jpg, Similar Match: f_m_toothbrush_445999_5.jpg, Euclidean Loss: 1.1951920986175537\n",
      "COCO File: m_f_hairdrier_350002_2.jpg, Similar Match: f_m_hairdrier_350002_5.jpg, Euclidean Loss: 1.1814556121826172\n",
      "COCO File: m_f_hairdrier_384136.jpg, Similar Match: f_m_toothbrush_507473_4.jpg, Euclidean Loss: 1.1428070068359375\n",
      "COCO File: m_f_handbag_153529.jpg, Similar Match: f_m_handbag_153529_4.jpg, Euclidean Loss: 1.1791201829910278\n",
      "COCO File: m_f_handbag_81594.jpg, Similar Match: f_m_handbag_81594_3.jpg, Euclidean Loss: 1.198861002922058\n",
      "COCO File: m_f_refrigerator_150417.jpg, Similar Match: f_m_refrigerator_150417_1.jpg, Euclidean Loss: 1.138541579246521\n",
      "COCO File: m_f_refrigerator_22705.jpg, Similar Match: f_m_refrigerator_456662_1.jpg, Euclidean Loss: 1.1000168323516846\n",
      "COCO File: m_f_refrigerator_280918.jpg, Similar Match: f_m_refrigerator_280930_1.jpg, Euclidean Loss: 1.212421178817749\n",
      "COCO File: m_f_refrigerator_280930.jpg, Similar Match: f_m_refrigerator_150417_1.jpg, Euclidean Loss: 1.2233757972717285\n",
      "COCO File: m_f_refrigerator_456662.jpg, Similar Match: f_m_refrigerator_456662_1.jpg, Euclidean Loss: 1.1473337411880493\n",
      "COCO File: m_f_toothbrush_324614.jpg, Similar Match: f_m_toothbrush_445999_1.jpg, Euclidean Loss: 1.2175958156585693\n",
      "COCO File: m_f_toothbrush_445999.jpg, Similar Match: f_m_toothbrush_445999_2.jpg, Euclidean Loss: 1.1346672773361206\n",
      "COCO File: m_f_toothbrush_465179.jpg, Similar Match: f_m_toothbrush_465179_1.jpg, Euclidean Loss: 1.215056300163269\n",
      "COCO File: m_f_toothbrush_507473.jpg, Similar Match: f_m_toothbrush_507473_1.jpg, Euclidean Loss: 1.062175989151001\n"
     ]
    }
   ],
   "source": [
    "import csv\n",
    "with open('similarMatch.csv', 'w') as f:\n",
    "    writer = csv.writer(f)\n",
    "    writer.writerow(['COCO Image', 'Match Image', 'Euclidean Loss'])\n",
    "    for i, male in enumerate(coco_m):\n",
    "        diffs = []\n",
    "        for j, female in enumerate(sim_f):\n",
    "            euc = get_difference(male, female)\n",
    "            diffs.append(euc)\n",
    "        best_i = np.argsort(diffs)[0]\n",
    "        coco_file = os.path.basename(coco_m_files[i])\n",
    "        sim_f_file = os.path.basename(sim_f_files[best_i])\n",
    "        print('COCO File: {0}, Similar Match: {1}, Euclidean Loss: {2}'.format(coco_file, sim_f_file, diffs[best_i]))\n",
    "        writer.writerow([coco_file, sim_f_file, diffs[best_i]])\n",
    "    for i, female in enumerate(coco_f):\n",
    "        diffs = []\n",
    "        for j, male in enumerate(sim_m):\n",
    "            euc = get_difference(female, male)\n",
    "            diffs.append(euc)\n",
    "        best_i = np.argsort(diffs)[0]\n",
    "        coco_file = os.path.basename(coco_f_files[i])\n",
    "        sim_m_file = os.path.basename(sim_m_files[best_i])\n",
    "        print('COCO File: {0}, Similar Match: {1}, Euclidean Loss: {2}'.format(coco_file, sim_m_file, diffs[best_i]))\n",
    "        writer.writerow([coco_file, sim_m_file, diffs[best_i]])"
   ]
  },
  {
   "cell_type": "markdown",
   "metadata": {},
   "source": [
    "### t-SNE Visualization of Images"
   ]
  },
  {
   "cell_type": "code",
   "execution_count": 16,
   "metadata": {},
   "outputs": [],
   "source": [
    "image_features = []\n",
    "for file in os.listdir(mypath):\n",
    "    if not file.startswith('.'):\n",
    "        filename = mypath + file\n",
    "        features = get_features(model, filename)\n",
    "        image_features.append(features)\n",
    "image_features = np.array(image_features)"
   ]
  },
  {
   "cell_type": "code",
   "execution_count": 40,
   "metadata": {},
   "outputs": [],
   "source": [
    "tsne = TSNE(n_components=2).fit_transform(image_features)"
   ]
  },
  {
   "cell_type": "code",
   "execution_count": 41,
   "metadata": {},
   "outputs": [],
   "source": [
    "# normalize to [0, 1]\n",
    "x, y = tsne[:,0], tsne[:,1]\n",
    "x = (x-np.min(x)) / (np.max(x) - np.min(x)) * 1000\n",
    "y = (y-np.min(y)) / (np.max(y) - np.min(y)) * 1000"
   ]
  },
  {
   "cell_type": "code",
   "execution_count": 42,
   "metadata": {},
   "outputs": [
    {
     "name": "stdout",
     "output_type": "stream",
     "text": [
      "/Users/dorazhao/Desktop/images/f_f_surfboard_177357_4.jpg\n",
      "/Users/dorazhao/Desktop/images/f_f_skateboard_31093_2.jpg\n",
      "/Users/dorazhao/Desktop/images/f_f_surfboard_115898_5.jpg\n",
      "/Users/dorazhao/Desktop/images/m_m_surfboard_7278.jpg\n",
      "/Users/dorazhao/Desktop/images/f_f_surfboard_4765_2.jpg\n",
      "/Users/dorazhao/Desktop/images/f_m_refrigerator_456662_5.jpg\n"
     ]
    },
    {
     "data": {
      "text/plain": [
       "102"
      ]
     },
     "execution_count": 42,
     "metadata": {},
     "output_type": "execute_result"
    }
   ],
   "source": [
    "# plot the images\n",
    "tsne_plot = 255 * np.ones((1000, 1000, 3), np.uint8)\n",
    "for i, file in enumerate(os.listdir(mypath)):\n",
    "    if not file.startswith('.'):\n",
    "        filename = mypath + file\n",
    "        image = cv2.imread(filename)\n",
    "        dim = (50, 50)\n",
    "        # scale the image to 50 x 50\n",
    "        image = cv2.resize(image, dim)\n",
    "        ty = int(y[i])\n",
    "        tx = int(x[i])\n",
    "\n",
    "        try:\n",
    "            tsne_plot[ty:ty + 50, tx:tx + 50, :] = image\n",
    "        except:\n",
    "            print(filename)\n",
    "\n",
    "cv2.imshow('t-SNE', tsne_plot)\n",
    "cv2.waitKey()"
   ]
  },
  {
   "cell_type": "code",
   "execution_count": 44,
   "metadata": {},
   "outputs": [
    {
     "data": {
      "text/plain": [
       "True"
      ]
     },
     "execution_count": 44,
     "metadata": {},
     "output_type": "execute_result"
    }
   ],
   "source": [
    "# save tsne plot\n",
    "cv2.imwrite('../results/tsne_plot.jpg', tsne_plot)"
   ]
  }
 ],
 "metadata": {
  "kernelspec": {
   "display_name": "Python 3",
   "language": "python",
   "name": "python3"
  },
  "language_info": {
   "codemirror_mode": {
    "name": "ipython",
    "version": 3
   },
   "file_extension": ".py",
   "mimetype": "text/x-python",
   "name": "python",
   "nbconvert_exporter": "python",
   "pygments_lexer": "ipython3",
   "version": "3.7.9"
  }
 },
 "nbformat": 4,
 "nbformat_minor": 4
}
