{
 "cells": [
  {
   "cell_type": "markdown",
   "metadata": {},
   "source": [
    "# Find Similar Images"
   ]
  },
  {
   "cell_type": "code",
   "execution_count": 36,
   "metadata": {},
   "outputs": [],
   "source": [
    "import numpy as np\n",
    "import numpy.linalg as linalg\n",
    "import pickle, os, time\n",
    "from tensorflow.keras.preprocessing import image\n",
    "from tensorflow.keras.applications.resnet50 import ResNet50, preprocess_input\n",
    "from sklearn.manifold import TSNE\n",
    "import matplotlib.pyplot as plt\n",
    "import cv2"
   ]
  },
  {
   "cell_type": "markdown",
   "metadata": {},
   "source": [
    "### Extract features using ResNet 50 and calculate Euclidean loss"
   ]
  },
  {
   "cell_type": "code",
   "execution_count": 29,
   "metadata": {},
   "outputs": [
    {
     "name": "stderr",
     "output_type": "stream",
     "text": [
      "/Users/dorazhao/miniconda3/envs/thesis/lib/python3.7/site-packages/keras_applications/resnet50.py:265: UserWarning: The output shape of `ResNet50(include_top=False)` has been changed since Keras 2.2.0.\n",
      "  warnings.warn('The output shape of `ResNet50(include_top=False)` '\n"
     ]
    }
   ],
   "source": [
    "model = ResNet50(weights='imagenet', include_top=False,\n",
    "                 input_shape=(224, 224, 3))"
   ]
  },
  {
   "cell_type": "code",
   "execution_count": 37,
   "metadata": {},
   "outputs": [],
   "source": [
    "# function that gets features from resnet\n",
    "def get_features(model, img_path):\n",
    "    img = image.load_img(img_path, target_size=(224, 224))\n",
    "    img_data = image.img_to_array(img)\n",
    "    img_data = np.expand_dims(img_data, axis=0)\n",
    "    img_data = preprocess_input(img_data)\n",
    "    features = model.predict(img_data).flatten()\n",
    "    features = features / linalg.norm(features)\n",
    "    return features "
   ]
  },
  {
   "cell_type": "code",
   "execution_count": 5,
   "metadata": {},
   "outputs": [],
   "source": [
    "# gets the euclidean distance and cosine loss between a pair of feature representation\n",
    "def get_difference(feature1, feature2):\n",
    "    euclidean_loss = np.power(feature1 - feature2, 2)\n",
    "    euclidean_loss = np.sqrt(np.sum(euclidean_loss))\n",
    "#     cosine_loss = (feature1.T @ feature2)\n",
    "    return euclidean_loss"
   ]
  },
  {
   "cell_type": "code",
   "execution_count": 7,
   "metadata": {},
   "outputs": [],
   "source": [
    "mypath = '/Users/dorazhao/Desktop/images/'\n",
    "files_path = [mypath + x for x in os.listdir(mypath) if not x.startswith('.')]"
   ]
  },
  {
   "cell_type": "code",
   "execution_count": 168,
   "metadata": {},
   "outputs": [],
   "source": [
    "coco_m, coco_f, sim_m, sim_f, coco_m_files, coco_f_files, sim_m_files, sim_f_files = ([] for i in range(8))\n",
    "\n",
    "for file in files_path:\n",
    "    base = os.path.basename(file).split('_')\n",
    "    features = get_features(model, file)\n",
    "    if base[0] is 'f' and base[1] is 'f':\n",
    "        sim_f.append(features)\n",
    "        sim_f_files.append(file)\n",
    "    elif base[0] is 'f' and base[1] is 'm':\n",
    "        sim_m.append(features)\n",
    "        sim_m_files.append(file)\n",
    "    elif base[0] is 'm' and base[1] is 'm':\n",
    "        coco_m.append(features)\n",
    "        coco_m_files.append(file)\n",
    "    else: \n",
    "        coco_f.append(features)\n",
    "        coco_f_files.append(file)"
   ]
  },
  {
   "cell_type": "code",
   "execution_count": 61,
   "metadata": {},
   "outputs": [
    {
     "name": "stdout",
     "output_type": "stream",
     "text": [
      "COCO File: m_m_frisbee_227482.jpg, Similar Match: f_f_sports_135604_4.jpg, Euclidean Loss: 1.1695038080215454\n",
      "COCO File: m_m_frisbee_88485.jpg, Similar Match: f_f_frisbee_88485_2.jpg, Euclidean Loss: 1.1360191106796265\n",
      "COCO File: m_m_tie_152214.jpg, Similar Match: f_f_tie_131444_1.jpg, Euclidean Loss: 1.1849696636199951\n",
      "COCO File: m_m_surfboard_115898.jpg, Similar Match: f_f_surfboard_115898_1.jpg, Euclidean Loss: 0.9874610900878906\n",
      "COCO File: m_m_frisbee_328238.jpg, Similar Match: f_f_sports_135604_4.jpg, Euclidean Loss: 1.1178133487701416\n",
      "COCO File: m_m_sports_135604.jpg, Similar Match: f_f_sports_371552_4.jpg, Euclidean Loss: 1.1168785095214844\n",
      "COCO File: m_m_tie_170099.jpg, Similar Match: f_f_frisbee_325991_1.jpg, Euclidean Loss: 1.2257771492004395\n",
      "COCO File: m_m_racket_88970.jpg, Similar Match: f_f_sports_429690_1.jpg, Euclidean Loss: 1.1238709688186646\n",
      "COCO File: m_m_tie_21604.jpg, Similar Match: f_f_tie_21604_1.jpg, Euclidean Loss: 1.1359667778015137\n",
      "COCO File: m_m_surfboard_32570.jpg, Similar Match: f_f_surfboard_7278_3.jpg, Euclidean Loss: 1.0985536575317383\n",
      "COCO File: m_m_skateboard_13201.jpg, Similar Match: f_f_skateboard_13201_4.jpg, Euclidean Loss: 1.1604409217834473\n",
      "COCO File: m_m_sports_429690.jpg, Similar Match: f_f_sports_429690_1.jpg, Euclidean Loss: 1.0708869695663452\n",
      "COCO File: m_m_skateboard_125472.jpg, Similar Match: f_f_skateboard_13201_4.jpg, Euclidean Loss: 1.1681889295578003\n",
      "COCO File: m_m_frisbee_127263.jpg, Similar Match: f_f_sports_135604_4.jpg, Euclidean Loss: 1.0684254169464111\n",
      "COCO File: m_m_frisbee_291619.jpg, Similar Match: f_f_frisbee_291619_2.jpg, Euclidean Loss: 1.0963425636291504\n",
      "COCO File: m_m_racket_85772.jpg, Similar Match: f_f_racket_88970_5.jpg, Euclidean Loss: 1.1302834749221802\n",
      "COCO File: m_m_racket_127530.jpg, Similar Match: f_f_racket_64718_1.jpg, Euclidean Loss: 1.102043867111206\n",
      "COCO File: m_m_surfboard_190007.jpg, Similar Match: f_f_surfboard_32570_2.jpg, Euclidean Loss: 1.009473443031311\n",
      "COCO File: m_m_sports_33759.jpg, Similar Match: f_f_sports_89296_4.jpg, Euclidean Loss: 1.076217770576477\n",
      "COCO File: m_m_surfboard_51314.jpg, Similar Match: f_f_surfboard_32570_4.jpg, Euclidean Loss: 1.066798210144043\n",
      "COCO File: m_m_tie_163682.jpg, Similar Match: f_f_tie_163682_1.jpg, Euclidean Loss: 1.1437509059906006\n",
      "COCO File: m_m_skateboard_157365.jpg, Similar Match: f_f_skateboard_157365_3.jpg, Euclidean Loss: 1.1047018766403198\n",
      "COCO File: m_m_sports_515982.jpg, Similar Match: f_f_sports_515982_2.jpg, Euclidean Loss: 1.217971920967102\n",
      "COCO File: m_m_racket_19432.jpg, Similar Match: f_f_racket_19432_2.jpg, Euclidean Loss: 1.2175593376159668\n",
      "COCO File: m_m_tie_131444.jpg, Similar Match: f_f_tie_152214_1.jpg, Euclidean Loss: 1.1939586400985718\n",
      "COCO File: m_m_skateboard_31093.jpg, Similar Match: f_f_skateboard_31093_5.jpg, Euclidean Loss: 1.1582025289535522\n",
      "COCO File: m_m_racket_55950.jpg, Similar Match: f_f_racket_55950_3.jpg, Euclidean Loss: 1.109898567199707\n",
      "COCO File: m_m_frisbee_325991.jpg, Similar Match: f_f_sports_135604_4.jpg, Euclidean Loss: 1.0964782238006592\n",
      "COCO File: m_m_surfboard_187362.jpg, Similar Match: f_f_surfboard_187362_4.jpg, Euclidean Loss: 0.8625734448432922\n",
      "COCO File: m_m_racket_64718.jpg, Similar Match: f_f_racket_88970_5.jpg, Euclidean Loss: 1.1582833528518677\n",
      "COCO File: m_m_surfboard_177357.jpg, Similar Match: f_f_surfboard_32570_2.jpg, Euclidean Loss: 1.0999031066894531\n",
      "COCO File: m_m_surfboard_7278.jpg, Similar Match: f_f_surfboard_177357_5.jpg, Euclidean Loss: 1.0727086067199707\n",
      "COCO File: m_m_surfboard_4765.jpg, Similar Match: f_f_surfboard_32570_3.jpg, Euclidean Loss: 0.9951800107955933\n",
      "COCO File: m_m_skateboard_128699.jpg, Similar Match: f_f_skateboard_13201_4.jpg, Euclidean Loss: 1.1780173778533936\n",
      "COCO File: m_m_sports_89296.jpg, Similar Match: f_f_sports_429690_1.jpg, Euclidean Loss: 1.1149052381515503\n",
      "COCO File: m_m_surfboard_54164.jpg, Similar Match: f_f_surfboard_32570_4.jpg, Euclidean Loss: 1.0008107423782349\n",
      "COCO File: m_m_sports_371552.jpg, Similar Match: f_f_sports_135604_4.jpg, Euclidean Loss: 1.0485420227050781\n",
      "COCO File: m_m_sports_192670.jpg, Similar Match: f_f_sports_429690_1.jpg, Euclidean Loss: 1.0815473794937134\n",
      "COCO File: m_m_skateboard_72281.jpg, Similar Match: f_f_skateboard_13201_4.jpg, Euclidean Loss: 1.1677275896072388\n"
     ]
    }
   ],
   "source": [
    "import csv\n",
    "with open('similarMatch.csv', 'w') as f:\n",
    "    writer = csv.writer(f)\n",
    "    writer.writerow(['COCO Image', 'Match Image', 'Euclidean Loss'])\n",
    "    for i, male in enumerate(coco_m):\n",
    "        diffs = []\n",
    "        for j, female in enumerate(sim_f):\n",
    "            euc = get_difference(male, female)\n",
    "            diffs.append(euc)\n",
    "        best_i = np.argsort(diffs)[0]\n",
    "        coco_file = os.path.basename(coco_m_files[i])\n",
    "        sim_f_file = os.path.basename(sim_f_files[best_i])\n",
    "        print('COCO File: {0}, Similar Match: {1}, Euclidean Loss: {2}'.format(coco_file, sim_f_file, diffs[best_i]))\n",
    "        writer.writerow([coco_file, sim_f_file, diffs[best_i]])"
   ]
  },
  {
   "cell_type": "code",
   "execution_count": 62,
   "metadata": {},
   "outputs": [
    {
     "name": "stdout",
     "output_type": "stream",
     "text": [
      "COCO File: m_f_handbag_81594.jpg, Similar Match: f_m_handbag_81594_3.jpg, Euclidean Loss: 1.198861002922058\n",
      "COCO File: m_f_toothbrush_445999.jpg, Similar Match: f_m_toothbrush_445999_2.jpg, Euclidean Loss: 1.1346672773361206\n",
      "COCO File: m_f_refrigerator_22705.jpg, Similar Match: f_m_refrigerator_456662_1.jpg, Euclidean Loss: 1.1000168323516846\n",
      "COCO File: m_f_hairdrier_350002_2.jpg, Similar Match: f_m_hairdrier_350002_5.jpg, Euclidean Loss: 1.1814556121826172\n",
      "COCO File: m_f_refrigerator_280930.jpg, Similar Match: f_m_refrigerator_150417_1.jpg, Euclidean Loss: 1.2233757972717285\n",
      "COCO File: m_f_refrigerator_280918.jpg, Similar Match: f_m_refrigerator_280930_1.jpg, Euclidean Loss: 1.212421178817749\n",
      "COCO File: m_f_toothbrush_465179.jpg, Similar Match: f_m_toothbrush_465179_1.jpg, Euclidean Loss: 1.215056300163269\n",
      "COCO File: m_f_refrigerator_150417.jpg, Similar Match: f_m_refrigerator_150417_1.jpg, Euclidean Loss: 1.138541579246521\n",
      "COCO File: m_f_toothbrush_324614.jpg, Similar Match: f_m_toothbrush_445999_1.jpg, Euclidean Loss: 1.2175958156585693\n",
      "COCO File: m_f_refrigerator_456662.jpg, Similar Match: f_m_refrigerator_456662_1.jpg, Euclidean Loss: 1.1473337411880493\n",
      "COCO File: m_f_handbag_153529.jpg, Similar Match: f_m_handbag_153529_4.jpg, Euclidean Loss: 1.1791201829910278\n",
      "COCO File: m_f_hairdrier_384136.jpg, Similar Match: f_m_toothbrush_507473_4.jpg, Euclidean Loss: 1.1428070068359375\n",
      "COCO File: m_f_hairdrier_350002.jpg, Similar Match: f_m_toothbrush_445999_5.jpg, Euclidean Loss: 1.1951920986175537\n"
     ]
    }
   ],
   "source": [
    "with open('similarMatch.csv', 'a') as f:\n",
    "    writer = csv.writer(f)\n",
    "    for i, female in enumerate(coco_f):\n",
    "        diffs = []\n",
    "        for j, male in enumerate(sim_m):\n",
    "            euc = get_difference(female, male)\n",
    "            diffs.append(euc)\n",
    "        best_i = np.argsort(diffs)[0]\n",
    "        coco_file = os.path.basename(coco_f_files[i])\n",
    "        sim_m_file = os.path.basename(sim_m_files[best_i])\n",
    "        print('COCO File: {0}, Similar Match: {1}, Euclidean Loss: {2}'.format(coco_file, sim_m_file, diffs[best_i]))\n",
    "        writer.writerow([coco_file, sim_m_file, diffs[best_i]])"
   ]
  },
  {
   "cell_type": "code",
   "execution_count": 172,
   "metadata": {},
   "outputs": [],
   "source": [
    "mypath = '/Users/dorazhao/Desktop/images/'\n",
    "basepath = 'm_m_skateboard_125472.jpg'\n",
    "file = mypath + basepath\n",
    "male = get_features(model, file)\n",
    "diffs = []\n",
    "for j, female in enumerate(sim_f):\n",
    "    euc = get_difference(male, female)\n",
    "    diffs.append(euc)"
   ]
  },
  {
   "cell_type": "code",
   "execution_count": 173,
   "metadata": {},
   "outputs": [
    {
     "name": "stdout",
     "output_type": "stream",
     "text": [
      "Filename: /Users/dorazhao/Desktop/images/f_f_skateboard_13201_4.jpg Loss: 1.1681889295578003\n",
      "Filename: /Users/dorazhao/Desktop/images/f_f_frisbee_227482_4.jpg Loss: 1.199068546295166\n",
      "Filename: /Users/dorazhao/Desktop/images/f_f_skateboard_125472_1.jpg Loss: 1.2023388147354126\n",
      "Filename: /Users/dorazhao/Desktop/images/f_f_skateboard_72281_5.jpg Loss: 1.2032126188278198\n",
      "Filename: /Users/dorazhao/Desktop/images/f_f_skateboard_125472_2.jpg Loss: 1.2058347463607788\n",
      "Filename: /Users/dorazhao/Desktop/images/f_f_skateboard_31093_3.jpg Loss: 1.21902334690094\n",
      "Filename: /Users/dorazhao/Desktop/images/f_f_surfboard_190007_1.jpg Loss: 1.2260627746582031\n",
      "Filename: /Users/dorazhao/Desktop/images/f_f_sports_135604_2.jpg Loss: 1.2294954061508179\n",
      "Filename: /Users/dorazhao/Desktop/images/f_f_skateboard_72281_2.jpg Loss: 1.2304123640060425\n",
      "Filename: /Users/dorazhao/Desktop/images/f_f_skateboard_125472_4.jpg Loss: 1.2352534532546997\n",
      "Filename: /Users/dorazhao/Desktop/images/f_f_skateboard_128699_1.jpg Loss: 1.2364850044250488\n",
      "Filename: /Users/dorazhao/Desktop/images/f_f_skateboard_13201_2.jpg Loss: 1.237425684928894\n",
      "Filename: /Users/dorazhao/Desktop/images/f_f_skateboard_13201_5.jpg Loss: 1.2378666400909424\n",
      "Filename: /Users/dorazhao/Desktop/images/f_f_skateboard_13201_1.jpg Loss: 1.2401182651519775\n",
      "Filename: /Users/dorazhao/Desktop/images/f_f_sports_135604_5.jpg Loss: 1.2403050661087036\n",
      "Filename: /Users/dorazhao/Desktop/images/f_f_frisbee_227482_5.jpg Loss: 1.242983341217041\n",
      "Filename: /Users/dorazhao/Desktop/images/f_f_sports_33759_4.jpg Loss: 1.2453633546829224\n",
      "Filename: /Users/dorazhao/Desktop/images/f_f_skateboard_125472_3.jpg Loss: 1.2460181713104248\n",
      "Filename: /Users/dorazhao/Desktop/images/f_f_skateboard_125472_5.jpg Loss: 1.2460927963256836\n",
      "Filename: /Users/dorazhao/Desktop/images/f_f_frisbee_227482_3.jpg Loss: 1.2469539642333984\n",
      "Filename: /Users/dorazhao/Desktop/images/f_f_frisbee_127263_5.jpg Loss: 1.2474404573440552\n",
      "Filename: /Users/dorazhao/Desktop/images/f_f_surfboard_51314_4.jpg Loss: 1.248902678489685\n",
      "Filename: /Users/dorazhao/Desktop/images/f_f_frisbee_127263_4.jpg Loss: 1.249043583869934\n",
      "Filename: /Users/dorazhao/Desktop/images/f_f_frisbee_328238_3.jpg Loss: 1.2491436004638672\n",
      "Filename: /Users/dorazhao/Desktop/images/f_f_skateboard_157365_5.jpg Loss: 1.249945044517517\n",
      "Filename: /Users/dorazhao/Desktop/images/f_f_sports_135604_4.jpg Loss: 1.2508116960525513\n",
      "Filename: /Users/dorazhao/Desktop/images/f_f_sports_515982_1.jpg Loss: 1.2510795593261719\n",
      "Filename: /Users/dorazhao/Desktop/images/f_f_tie_163682_2.jpg Loss: 1.2511757612228394\n",
      "Filename: /Users/dorazhao/Desktop/images/f_f_tie_21604_2.jpg Loss: 1.252573847770691\n",
      "Filename: /Users/dorazhao/Desktop/images/f_f_racket_64718_3.jpg Loss: 1.2525866031646729\n",
      "Filename: /Users/dorazhao/Desktop/images/f_f_tie_21604_1.jpg Loss: 1.2529908418655396\n",
      "Filename: /Users/dorazhao/Desktop/images/f_f_frisbee_127263_2.jpg Loss: 1.2543401718139648\n",
      "Filename: /Users/dorazhao/Desktop/images/f_f_frisbee_291619_4.jpg Loss: 1.2553449869155884\n",
      "Filename: /Users/dorazhao/Desktop/images/f_f_tie_21604_5.jpg Loss: 1.2553470134735107\n",
      "Filename: /Users/dorazhao/Desktop/images/f_f_tie_131444_6.jpg Loss: 1.259464144706726\n",
      "Filename: /Users/dorazhao/Desktop/images/f_f_frisbee_88485_3.jpg Loss: 1.2594926357269287\n",
      "Filename: /Users/dorazhao/Desktop/images/f_f_sports_33759_5.jpg Loss: 1.2606810331344604\n",
      "Filename: /Users/dorazhao/Desktop/images/f_f_sports_429690_4.jpg Loss: 1.2610417604446411\n",
      "Filename: /Users/dorazhao/Desktop/images/f_f_skateboard_128699_3.jpg Loss: 1.2612109184265137\n",
      "Filename: /Users/dorazhao/Desktop/images/f_f_surfboard_7278_4.jpg Loss: 1.2617135047912598\n",
      "Filename: /Users/dorazhao/Desktop/images/f_f_surfboard_32570_1.jpg Loss: 1.2620933055877686\n",
      "Filename: /Users/dorazhao/Desktop/images/f_f_frisbee_88485_4.jpg Loss: 1.2624623775482178\n",
      "Filename: /Users/dorazhao/Desktop/images/f_f_skateboard_13201_3.jpg Loss: 1.2625106573104858\n",
      "Filename: /Users/dorazhao/Desktop/images/f_f_skateboard_72281_1.jpg Loss: 1.2638436555862427\n",
      "Filename: /Users/dorazhao/Desktop/images/f_f_skateboard_31093_5.jpg Loss: 1.264840841293335\n",
      "Filename: /Users/dorazhao/Desktop/images/f_f_surfboard_32570_5.jpg Loss: 1.2651629447937012\n",
      "Filename: /Users/dorazhao/Desktop/images/f_f_skateboard_31093_4.jpg Loss: 1.2658504247665405\n",
      "Filename: /Users/dorazhao/Desktop/images/f_f_sports_89296_1.jpg Loss: 1.2659435272216797\n",
      "Filename: /Users/dorazhao/Desktop/images/f_f_sports_192670_3.jpg Loss: 1.2661772966384888\n",
      "Filename: /Users/dorazhao/Desktop/images/f_f_frisbee_328238_1.jpg Loss: 1.266484260559082\n",
      "Filename: /Users/dorazhao/Desktop/images/f_f_sports_33759_3.jpg Loss: 1.2667231559753418\n",
      "Filename: /Users/dorazhao/Desktop/images/f_f_sports_89296_4.jpg Loss: 1.2667627334594727\n",
      "Filename: /Users/dorazhao/Desktop/images/f_f_skateboard_128699_4.jpg Loss: 1.2681493759155273\n",
      "Filename: /Users/dorazhao/Desktop/images/f_f_sports_515982_2.jpg Loss: 1.2686734199523926\n",
      "Filename: /Users/dorazhao/Desktop/images/f_f_surfboard_54164_5.jpg Loss: 1.269101858139038\n",
      "Filename: /Users/dorazhao/Desktop/images/f_f_sports_429690_1.jpg Loss: 1.269195556640625\n",
      "Filename: /Users/dorazhao/Desktop/images/f_f_sports_515982_4.jpg Loss: 1.2705672979354858\n",
      "Filename: /Users/dorazhao/Desktop/images/f_f_surfboard_51314_1.jpg Loss: 1.2722294330596924\n",
      "Filename: /Users/dorazhao/Desktop/images/f_f_frisbee_328238_5.jpg Loss: 1.2725013494491577\n",
      "Filename: /Users/dorazhao/Desktop/images/f_f_frisbee_291619_3.jpg Loss: 1.2725162506103516\n",
      "Filename: /Users/dorazhao/Desktop/images/f_f_frisbee_291619_1.jpg Loss: 1.2728654146194458\n",
      "Filename: /Users/dorazhao/Desktop/images/f_f_frisbee_291619_2.jpg Loss: 1.2728654146194458\n",
      "Filename: /Users/dorazhao/Desktop/images/f_f_surfboard_115898_1.jpg Loss: 1.2729729413986206\n",
      "Filename: /Users/dorazhao/Desktop/images/f_f_racket_64718_4.jpg Loss: 1.2734631299972534\n",
      "Filename: /Users/dorazhao/Desktop/images/f_f_surfboard_51314_3.jpg Loss: 1.274893045425415\n",
      "Filename: /Users/dorazhao/Desktop/images/f_f_sports_429690_3.jpg Loss: 1.2751619815826416\n",
      "Filename: /Users/dorazhao/Desktop/images/f_f_surfboard_187362_3.jpg Loss: 1.2758203744888306\n",
      "Filename: /Users/dorazhao/Desktop/images/f_f_racket_88970_5.jpg Loss: 1.2762871980667114\n",
      "Filename: /Users/dorazhao/Desktop/images/f_f_tie_21604_4.jpg Loss: 1.2764872312545776\n",
      "Filename: /Users/dorazhao/Desktop/images/f_f_sports_515982_3.jpg Loss: 1.2770274877548218\n",
      "Filename: /Users/dorazhao/Desktop/images/f_f_surfboard_115898_5.jpg Loss: 1.2784701585769653\n",
      "Filename: /Users/dorazhao/Desktop/images/f_f_sports_371552_3.jpg Loss: 1.278663158416748\n",
      "Filename: /Users/dorazhao/Desktop/images/f_f_skateboard_72281_3.jpg Loss: 1.2792911529541016\n",
      "Filename: /Users/dorazhao/Desktop/images/f_f_surfboard_54164_3.jpg Loss: 1.2800071239471436\n",
      "Filename: /Users/dorazhao/Desktop/images/f_f_sports_89296_3.jpg Loss: 1.280493140220642\n",
      "Filename: /Users/dorazhao/Desktop/images/f_f_skateboard_157365_3.jpg Loss: 1.2816803455352783\n",
      "Filename: /Users/dorazhao/Desktop/images/f_f_surfboard_190007_5.jpg Loss: 1.2817918062210083\n",
      "Filename: /Users/dorazhao/Desktop/images/f_f_racket_55950_4.jpg Loss: 1.2819218635559082\n",
      "Filename: /Users/dorazhao/Desktop/images/f_f_frisbee_328238_2.jpg Loss: 1.2820056676864624\n",
      "Filename: /Users/dorazhao/Desktop/images/f_f_racket_55950_1.jpg Loss: 1.2826762199401855\n",
      "Filename: /Users/dorazhao/Desktop/images/f_f_skateboard_72281_4.jpg Loss: 1.2830102443695068\n",
      "Filename: /Users/dorazhao/Desktop/images/f_f_frisbee_88485_5.jpg Loss: 1.2830429077148438\n",
      "Filename: /Users/dorazhao/Desktop/images/f_f_sports_429690_2.jpg Loss: 1.2839077711105347\n",
      "Filename: /Users/dorazhao/Desktop/images/f_f_racket_64718_2.jpg Loss: 1.2839550971984863\n",
      "Filename: /Users/dorazhao/Desktop/images/f_f_frisbee_127263_3.jpg Loss: 1.2844398021697998\n",
      "Filename: /Users/dorazhao/Desktop/images/f_f_sports_371552_1.jpg Loss: 1.2847224473953247\n",
      "Filename: /Users/dorazhao/Desktop/images/f_f_racket_19432_5.jpg Loss: 1.2847377061843872\n",
      "Filename: /Users/dorazhao/Desktop/images/f_f_surfboard_32570_3.jpg Loss: 1.284781575202942\n",
      "Filename: /Users/dorazhao/Desktop/images/f_f_surfboard_54164_2.jpg Loss: 1.2856045961380005\n",
      "Filename: /Users/dorazhao/Desktop/images/f_f_surfboard_32570_4.jpg Loss: 1.2860156297683716\n",
      "Filename: /Users/dorazhao/Desktop/images/f_f_surfboard_177357_2.jpg Loss: 1.2872272729873657\n",
      "Filename: /Users/dorazhao/Desktop/images/f_f_racket_55950_5.jpg Loss: 1.2876604795455933\n",
      "Filename: /Users/dorazhao/Desktop/images/f_f_frisbee_227482_2.jpg Loss: 1.2882331609725952\n",
      "Filename: /Users/dorazhao/Desktop/images/f_f_skateboard_157365_2.jpg Loss: 1.2885980606079102\n",
      "Filename: /Users/dorazhao/Desktop/images/f_f_racket_85772_1.jpg Loss: 1.2892354726791382\n",
      "Filename: /Users/dorazhao/Desktop/images/f_f_frisbee_88485_1.jpg Loss: 1.2904850244522095\n",
      "Filename: /Users/dorazhao/Desktop/images/f_f_surfboard_115898_2.jpg Loss: 1.2911531925201416\n",
      "Filename: /Users/dorazhao/Desktop/images/f_f_racket_19432_2.jpg Loss: 1.2915846109390259\n",
      "Filename: /Users/dorazhao/Desktop/images/f_f_frisbee_127263_1.jpg Loss: 1.291601300239563\n",
      "Filename: /Users/dorazhao/Desktop/images/f_f_sports_135604_3.jpg Loss: 1.2923747301101685\n",
      "Filename: /Users/dorazhao/Desktop/images/f_f_racket_85772_2.jpg Loss: 1.293267011642456\n",
      "Filename: /Users/dorazhao/Desktop/images/f_f_frisbee_325991_5.jpg Loss: 1.293832778930664\n",
      "Filename: /Users/dorazhao/Desktop/images/f_f_surfboard_115898_3.jpg Loss: 1.2941110134124756\n",
      "Filename: /Users/dorazhao/Desktop/images/f_f_surfboard_54164_4.jpg Loss: 1.2941110134124756\n",
      "Filename: /Users/dorazhao/Desktop/images/f_f_surfboard_4765_5.jpg Loss: 1.294472575187683\n",
      "Filename: /Users/dorazhao/Desktop/images/f_f_frisbee_325991_1.jpg Loss: 1.2946914434432983\n",
      "Filename: /Users/dorazhao/Desktop/images/f_f_skateboard_31093_2.jpg Loss: 1.2951618432998657\n",
      "Filename: /Users/dorazhao/Desktop/images/f_f_surfboard_187362_2.jpg Loss: 1.295346736907959\n",
      "Filename: /Users/dorazhao/Desktop/images/f_f_frisbee_325991_4.jpg Loss: 1.2953680753707886\n",
      "Filename: /Users/dorazhao/Desktop/images/f_f_surfboard_51314_5.jpg Loss: 1.2954354286193848\n",
      "Filename: /Users/dorazhao/Desktop/images/f_f_sports_371552_5.jpg Loss: 1.2960070371627808\n",
      "Filename: /Users/dorazhao/Desktop/images/f_f_racket_55950_3.jpg Loss: 1.2961064577102661\n",
      "Filename: /Users/dorazhao/Desktop/images/f_f_frisbee_325991_3.jpg Loss: 1.296225905418396\n",
      "Filename: /Users/dorazhao/Desktop/images/f_f_racket_64718_1.jpg Loss: 1.2963210344314575\n",
      "Filename: /Users/dorazhao/Desktop/images/f_f_surfboard_51314_2.jpg Loss: 1.2965441942214966\n",
      "Filename: /Users/dorazhao/Desktop/images/f_f_surfboard_7278_5.jpg Loss: 1.296995759010315\n",
      "Filename: /Users/dorazhao/Desktop/images/f_f_tie_21604_3.jpg Loss: 1.2971937656402588\n",
      "Filename: /Users/dorazhao/Desktop/images/f_f_surfboard_4765_2.jpg Loss: 1.298269271850586\n",
      "Filename: /Users/dorazhao/Desktop/images/f_f_surfboard_177357_5.jpg Loss: 1.2984774112701416\n",
      "Filename: /Users/dorazhao/Desktop/images/f_f_racket_88970_4.jpg Loss: 1.298845648765564\n",
      "Filename: /Users/dorazhao/Desktop/images/f_f_frisbee_88485_2.jpg Loss: 1.2991225719451904\n",
      "Filename: /Users/dorazhao/Desktop/images/f_f_racket_127530_1.jpg Loss: 1.2993519306182861\n",
      "Filename: /Users/dorazhao/Desktop/images/f_f_sports_515982_5.jpg Loss: 1.299985647201538\n",
      "Filename: /Users/dorazhao/Desktop/images/f_f_skateboard_128699_2.jpg Loss: 1.3007118701934814\n",
      "Filename: /Users/dorazhao/Desktop/images/f_f_skateboard_128699_5.jpg Loss: 1.300731897354126\n",
      "Filename: /Users/dorazhao/Desktop/images/f_f_surfboard_177357_4.jpg Loss: 1.3013651371002197\n",
      "Filename: /Users/dorazhao/Desktop/images/f_f_racket_85772_3.jpg Loss: 1.3014576435089111\n",
      "Filename: /Users/dorazhao/Desktop/images/f_f_surfboard_187362_1.jpg Loss: 1.302335262298584\n",
      "Filename: /Users/dorazhao/Desktop/images/f_f_sports_192670_1.jpg Loss: 1.3024685382843018\n",
      "Filename: /Users/dorazhao/Desktop/images/f_f_sports_89296_2.jpg Loss: 1.303140640258789\n",
      "Filename: /Users/dorazhao/Desktop/images/f_f_sports_192670_5.jpg Loss: 1.3041625022888184\n",
      "Filename: /Users/dorazhao/Desktop/images/f_f_surfboard_115898_4.jpg Loss: 1.3052977323532104\n",
      "Filename: /Users/dorazhao/Desktop/images/f_f_surfboard_187362_6.jpg Loss: 1.3059154748916626\n",
      "Filename: /Users/dorazhao/Desktop/images/f_f_racket_88970_2.jpg Loss: 1.3061649799346924\n",
      "Filename: /Users/dorazhao/Desktop/images/f_f_sports_89296_5.jpg Loss: 1.3071287870407104\n",
      "Filename: /Users/dorazhao/Desktop/images/f_f_racket_64718_5.jpg Loss: 1.3075101375579834\n",
      "Filename: /Users/dorazhao/Desktop/images/f_f_surfboard_190007_4.jpg Loss: 1.3081936836242676\n",
      "Filename: /Users/dorazhao/Desktop/images/f_f_surfboard_190007_3.jpg Loss: 1.3081936836242676\n",
      "Filename: /Users/dorazhao/Desktop/images/f_f_frisbee_328238_4.jpg Loss: 1.3083269596099854\n",
      "Filename: /Users/dorazhao/Desktop/images/f_f_surfboard_190007_2.jpg Loss: 1.30877685546875\n",
      "Filename: /Users/dorazhao/Desktop/images/f_f_sports_192670_4.jpg Loss: 1.3092929124832153\n",
      "Filename: /Users/dorazhao/Desktop/images/f_f_surfboard_4765_3.jpg Loss: 1.310143232345581\n",
      "Filename: /Users/dorazhao/Desktop/images/f_f_sports_135604_1.jpg Loss: 1.3102694749832153\n",
      "Filename: /Users/dorazhao/Desktop/images/f_f_surfboard_32570_2.jpg Loss: 1.3107147216796875\n",
      "Filename: /Users/dorazhao/Desktop/images/f_f_skateboard_157365_4.jpg Loss: 1.312369465827942\n",
      "Filename: /Users/dorazhao/Desktop/images/f_f_racket_85772_5.jpg Loss: 1.3126535415649414\n",
      "Filename: /Users/dorazhao/Desktop/images/f_f_tie_131444_2.jpg Loss: 1.3132137060165405\n",
      "Filename: /Users/dorazhao/Desktop/images/f_f_sports_429690_5.jpg Loss: 1.3132619857788086\n",
      "Filename: /Users/dorazhao/Desktop/images/f_f_racket_19432_1.jpg Loss: 1.3141263723373413\n",
      "Filename: /Users/dorazhao/Desktop/images/f_f_racket_55950_2.jpg Loss: 1.3145132064819336\n",
      "Filename: /Users/dorazhao/Desktop/images/f_f_surfboard_177357_1.jpg Loss: 1.3146390914916992\n",
      "Filename: /Users/dorazhao/Desktop/images/f_f_frisbee_227482_1.jpg Loss: 1.3150780200958252\n",
      "Filename: /Users/dorazhao/Desktop/images/f_f_surfboard_54164_1.jpg Loss: 1.3155200481414795\n",
      "Filename: /Users/dorazhao/Desktop/images/f_f_surfboard_7278_1.jpg Loss: 1.315662145614624\n",
      "Filename: /Users/dorazhao/Desktop/images/f_f_tie_131444_5.jpg Loss: 1.3158230781555176\n",
      "Filename: /Users/dorazhao/Desktop/images/f_f_racket_127530_3.jpg Loss: 1.3183859586715698\n",
      "Filename: /Users/dorazhao/Desktop/images/f_f_racket_88970_1.jpg Loss: 1.3183966875076294\n",
      "Filename: /Users/dorazhao/Desktop/images/f_f_frisbee_291619_5.jpg Loss: 1.319097876548767\n",
      "Filename: /Users/dorazhao/Desktop/images/f_f_racket_127530_4.jpg Loss: 1.319153904914856\n",
      "Filename: /Users/dorazhao/Desktop/images/f_f_surfboard_4765_4.jpg Loss: 1.319839596748352\n",
      "Filename: /Users/dorazhao/Desktop/images/f_f_surfboard_177357_3.jpg Loss: 1.319839596748352\n",
      "Filename: /Users/dorazhao/Desktop/images/f_f_skateboard_31093_1.jpg Loss: 1.3204805850982666\n",
      "Filename: /Users/dorazhao/Desktop/images/f_f_surfboard_7278_3.jpg Loss: 1.321375846862793\n",
      "Filename: /Users/dorazhao/Desktop/images/f_f_tie_152214_1.jpg Loss: 1.3222345113754272\n",
      "Filename: /Users/dorazhao/Desktop/images/f_f_sports_33759_1.jpg Loss: 1.323142170906067\n",
      "Filename: /Users/dorazhao/Desktop/images/f_f_racket_127530_2.jpg Loss: 1.3233683109283447\n",
      "Filename: /Users/dorazhao/Desktop/images/f_f_surfboard_187362_5.jpg Loss: 1.323576807975769\n",
      "Filename: /Users/dorazhao/Desktop/images/f_f_sports_192670_2.jpg Loss: 1.3240865468978882\n",
      "Filename: /Users/dorazhao/Desktop/images/f_f_racket_19432_3.jpg Loss: 1.324768304824829\n",
      "Filename: /Users/dorazhao/Desktop/images/f_f_sports_371552_2.jpg Loss: 1.325202226638794\n",
      "Filename: /Users/dorazhao/Desktop/images/f_f_surfboard_7278_2.jpg Loss: 1.3255846500396729\n",
      "Filename: /Users/dorazhao/Desktop/images/f_f_sports_371552_4.jpg Loss: 1.3258755207061768\n",
      "Filename: /Users/dorazhao/Desktop/images/f_f_racket_88970_3.jpg Loss: 1.3262590169906616\n",
      "Filename: /Users/dorazhao/Desktop/images/f_f_surfboard_187362_4.jpg Loss: 1.3274025917053223\n",
      "Filename: /Users/dorazhao/Desktop/images/f_f_surfboard_4765_1.jpg Loss: 1.3283848762512207\n",
      "Filename: /Users/dorazhao/Desktop/images/f_f_tie_163682_1.jpg Loss: 1.3286311626434326\n",
      "Filename: /Users/dorazhao/Desktop/images/f_f_racket_127530_5.jpg Loss: 1.3297536373138428\n",
      "Filename: /Users/dorazhao/Desktop/images/f_f_frisbee_325991_2.jpg Loss: 1.3312333822250366\n",
      "Filename: /Users/dorazhao/Desktop/images/f_f_racket_19432_4.jpg Loss: 1.3312749862670898\n",
      "Filename: /Users/dorazhao/Desktop/images/f_f_racket_85772_4.jpg Loss: 1.3384042978286743\n",
      "Filename: /Users/dorazhao/Desktop/images/f_f_tie_131444_1.jpg Loss: 1.3409550189971924\n",
      "Filename: /Users/dorazhao/Desktop/images/f_f_skateboard_157365_1.jpg Loss: 1.3425099849700928\n",
      "Filename: /Users/dorazhao/Desktop/images/f_f_tie_131444_4.jpg Loss: 1.3428301811218262\n",
      "Filename: /Users/dorazhao/Desktop/images/f_f_tie_131444_3.jpg Loss: 1.3527462482452393\n",
      "Filename: /Users/dorazhao/Desktop/images/f_f_sports_33759_2.jpg Loss: 1.356136679649353\n"
     ]
    }
   ],
   "source": [
    "indices = np.argsort(diffs)\n",
    "for i in indices:\n",
    "    print('Filename: {0} Loss: {1}'.format(sim_f_files[i], diffs[i]))"
   ]
  },
  {
   "cell_type": "markdown",
   "metadata": {},
   "source": [
    "### t-SNE Visualization of Images"
   ]
  },
  {
   "cell_type": "code",
   "execution_count": 38,
   "metadata": {},
   "outputs": [],
   "source": [
    "image_features = []\n",
    "for file in os.listdir(mypath):\n",
    "    if not file.startswith('.'):\n",
    "        filename = mypath + file\n",
    "        features = get_features(model, filename)\n",
    "        image_features.append(features)"
   ]
  },
  {
   "cell_type": "code",
   "execution_count": 39,
   "metadata": {},
   "outputs": [
    {
     "data": {
      "text/plain": [
       "(303, 100352)"
      ]
     },
     "execution_count": 39,
     "metadata": {},
     "output_type": "execute_result"
    }
   ],
   "source": [
    "image_features = np.array(image_features)\n",
    "image_features.shape"
   ]
  },
  {
   "cell_type": "code",
   "execution_count": 40,
   "metadata": {},
   "outputs": [],
   "source": [
    "tsne = TSNE(n_components=2).fit_transform(image_features)"
   ]
  },
  {
   "cell_type": "code",
   "execution_count": 41,
   "metadata": {},
   "outputs": [],
   "source": [
    "# normalize to [0, 1]\n",
    "x, y = tsne[:,0], tsne[:,1]\n",
    "x = (x-np.min(x)) / (np.max(x) - np.min(x)) * 1000\n",
    "y = (y-np.min(y)) / (np.max(y) - np.min(y)) * 1000"
   ]
  },
  {
   "cell_type": "code",
   "execution_count": 42,
   "metadata": {},
   "outputs": [
    {
     "name": "stdout",
     "output_type": "stream",
     "text": [
      "/Users/dorazhao/Desktop/images/f_f_surfboard_177357_4.jpg\n",
      "/Users/dorazhao/Desktop/images/f_f_skateboard_31093_2.jpg\n",
      "/Users/dorazhao/Desktop/images/f_f_surfboard_115898_5.jpg\n",
      "/Users/dorazhao/Desktop/images/m_m_surfboard_7278.jpg\n",
      "/Users/dorazhao/Desktop/images/f_f_surfboard_4765_2.jpg\n",
      "/Users/dorazhao/Desktop/images/f_m_refrigerator_456662_5.jpg\n"
     ]
    },
    {
     "data": {
      "text/plain": [
       "102"
      ]
     },
     "execution_count": 42,
     "metadata": {},
     "output_type": "execute_result"
    }
   ],
   "source": [
    "\n",
    "# we'll put the image centers in the central area of the plot\n",
    "# and use offsets to make sure the images fit the plot\n",
    "\n",
    "# init the plot as white canvas\n",
    "tsne_plot = 255 * np.ones((1000, 1000, 3), np.uint8)\n",
    "\n",
    "# now we'll put a small copy of every image to its corresponding T-SNE coordinate\n",
    "for i, file in enumerate(os.listdir(mypath)):\n",
    "    if not file.startswith('.'):\n",
    "        filename = mypath + file\n",
    "        image = cv2.imread(filename)\n",
    "        dim = (50, 50)\n",
    "        # scale the image to put it to the plot\n",
    "        image = cv2.resize(image, dim)\n",
    "        ty = int(y[i])\n",
    "        tx = int(x[i])\n",
    "        # put the image to its t-SNE coordinates using numpy sub-array indices\n",
    "        try:\n",
    "            tsne_plot[ty:ty + 50, tx:tx + 50, :] = image\n",
    "        except:\n",
    "            print(filename)\n",
    "\n",
    "cv2.imshow('t-SNE', tsne_plot)\n",
    "cv2.waitKey()\n"
   ]
  },
  {
   "cell_type": "code",
   "execution_count": 44,
   "metadata": {},
   "outputs": [
    {
     "data": {
      "text/plain": [
       "True"
      ]
     },
     "execution_count": 44,
     "metadata": {},
     "output_type": "execute_result"
    }
   ],
   "source": [
    "# save tsne plot\n",
    "cv2.imwrite('../results/tsne_plot.jpg', tsne_plot)"
   ]
  },
  {
   "cell_type": "code",
   "execution_count": null,
   "metadata": {},
   "outputs": [],
   "source": []
  }
 ],
 "metadata": {
  "kernelspec": {
   "display_name": "Python 3",
   "language": "python",
   "name": "python3"
  },
  "language_info": {
   "codemirror_mode": {
    "name": "ipython",
    "version": 3
   },
   "file_extension": ".py",
   "mimetype": "text/x-python",
   "name": "python",
   "nbconvert_exporter": "python",
   "pygments_lexer": "ipython3",
   "version": "3.7.9"
  }
 },
 "nbformat": 4,
 "nbformat_minor": 4
}
