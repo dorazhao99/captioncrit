{
 "cells": [
  {
   "cell_type": "markdown",
   "metadata": {
    "id": "RUymE2l9GZfO"
   },
   "source": [
    "##### Copyright 2018 The TensorFlow Hub Authors.\n",
    "\n",
    "Licensed under the Apache License, Version 2.0 (the \"License\");"
   ]
  },
  {
   "cell_type": "code",
   "execution_count": 58,
   "metadata": {},
   "outputs": [
    {
     "name": "stdout",
     "output_type": "stream",
     "text": [
      "Gender Neutral Caption\n",
      "a baseball player swinging a bat at a ball.\n",
      "a young person wearing a suit and tie.\n",
      "a group of people playing a game of frisbee.\n",
      "a person riding a skateboard up the side of a ramp.\n",
      "a person jumping a skate board in the air.\n",
      "a person is brushing their teeth with a toothbrush.\n",
      "a person in a hat is eating a hot dog.\n",
      "a tennis player in action on the court.\n",
      "a person is standing on a skateboard in the street.\n",
      "a person brushing their teeth with a tooth brush.\n",
      "a person brushing their teeth in a bathroom.\n",
      "a tennis player swinging a racket at a ball.\n",
      "a person standing on a beach holding a surfboard.\n",
      "a baseball player swinging a bat at a ball.\n",
      "a tennis player in action on the court.\n",
      "a baseball player swinging a bat at a ball.\n",
      "a tennis player in action on the court.\n",
      "a person taking a selfie in a bathroom mirror.\n",
      "a person is throwing a frisbee in the park.\n",
      "a person in a field with a frisbee.\n",
      "a tennis player in action on the court.\n",
      "a person riding a wave on top of a surfboard.\n",
      "a person is holding a box of doughnuts.\n",
      "a person is standing in front of a mirror.\n",
      "a person holding a tennis racquet on a tennis court.\n",
      "a person riding a skateboard down the side of a ramp.\n",
      "a person in a suit and tie standing in a forest.\n",
      "a person riding a skateboard up the side of a ramp.\n",
      "a person riding a wave on top of a surfboard.\n",
      "a person wearing a tie and a shirt.\n",
      "a group of people playing a game of soccer.\n",
      "a person is brushing their teeth with a toothbrush.\n",
      "a group of people playing a game of frisbee.\n",
      "a person is sitting on a bed with a book.\n",
      "a person in a suit sitting at a table.\n",
      "a tennis player in action on the court.\n",
      "a person standing next to a luggage cart filled with luggage.\n",
      "a person riding a wave on top of a surfboard.\n",
      "a group of person playing a game of frisbee.\n",
      "a young person kicking a soccer ball on a field.\n",
      "a person riding a wave on top of a surfboard.\n",
      "a person holding a tennis racket in their hands.\n",
      "a person riding a skateboard down a street.\n",
      "two people playing frisbee in a park.\n",
      "a person standing in front of a refrigerator.\n",
      "a person riding a skateboard up the side of a ramp.\n",
      "a person riding a wave on top of a surfboard.\n",
      "a group of person playing a game of frisbee.\n",
      "a person standing in a kitchen preparing food.\n",
      "a person riding a wave on top of a surfboard.\n",
      "a young person swinging a baseball bat at a ball.\n",
      "a tennis player in action on the court.\n",
      "a baseball player swinging a bat at a ball.\n",
      "a tennis player swinging a racket at a ball.\n",
      "a person in a white shirt is throwing a frisbee.\n",
      "a person riding a wave on top of a surfboard.\n",
      "a person holding an umbrella in the rain.\n",
      "a person riding a wave on top of a surfboard.\n",
      "a person riding a skateboard up the side of a ramp.\n",
      "a person standing in a kitchen next to a stove.\n",
      "a black and white photo of a person throwing a frisbee.\n",
      "a person brushing their teeth with a tooth brush.\n",
      "a tennis player swinging a racket at a ball.\n",
      "a young person swinging a baseball bat at a ball.\n",
      "a person in a suit and tie is smiling.\n",
      "a person riding a skateboard up the side of a ramp.\n",
      "a person brushing their teeth with a tooth brush.\n",
      "a person holding a frisbee in their hands.\n",
      "a young person holding a baseball bat on a field.\n",
      "a person riding a wave on top of a surfboard.\n",
      "a person riding a wave on top of a surfboard.\n",
      "a person holding a nintendo wii game controller.\n",
      "a person riding a wave on top of a surfboard.\n",
      "a person riding a wave on top of a surfboard.\n",
      "a young person wearing a suit and tie.\n",
      "a person riding a skateboard up the side of a ramp.\n",
      "a soccer player kicking a soccer ball on a field.\n",
      "a tennis player in action on the court.\n",
      "a person brushing their teeth with a tooth brush.\n",
      "a person holding a cell phone up to their ear.\n",
      "a person riding a wave on top of a surfboard.\n",
      "a young person kicking a soccer ball across a field.\n",
      "a person standing on a beach holding a surfboard.\n",
      "a baseball player swinging a bat at a ball.\n",
      "a person sitting at a table with a cake.\n",
      "a person walking down a street holding an umbrella.\n",
      "a person standing next to a pile of luggage.\n",
      "a person riding a wave on top of a surfboard.\n",
      "a person standing in front of a refrigerator.\n",
      "a tennis player in action on the court.\n",
      "a person is throwing a frisbee in the park.\n",
      "a person in a suit and tie standing in front of a window.\n",
      "a person in a suit and tie standing in a room.\n",
      "a person sitting at a table with a cake.\n"
     ]
    }
   ],
   "source": [
    "from csv import writer\n",
    "from csv import reader\n",
    "\n",
    "tennisPlayerWords = set(['female tennis player', 'female tennis players', 'male tennis player', 'male tennis players'])\n",
    "baseballPlayerWords = set(['female baseball player', 'female baseball players', 'male baseball player', 'male baseball players'])\n",
    "singularGenderWords = set(['woman', 'lady', 'girl', 'female', 'male', 'man', 'boy', 'men', 'guy', 'dude', 'gentleman'])\n",
    "pluralGenderWords = set(['women', 'girls', 'ladies', 'females', 'males', 'boys', 'men', 'guys', 'dudes', 'gentlemen'])\n",
    "genderPronouns = set(['his', 'her'])\n",
    "groupWords = set(['a group of young men', 'a group of young women'])\n",
    "twoWords = set(['two men', 'two women'])\n",
    "\n",
    "captions_csv = '../results/confusion.csv'\n",
    "gn_captions_csv = '../results/gn_confusion.csv'\n",
    "\n",
    "with open(captions_csv, 'r') as read_obj, open(gn_captions_csv, 'w', newline='') as write_obj:\n",
    "    # Create a csv.reader object from the input file object\n",
    "    csv_reader = reader(read_obj)\n",
    "    # Create a csv.writer object from the output file object\n",
    "    csv_writer = writer(write_obj)\n",
    "    # Read each row of the input csv file as list\n",
    "    for row in csv_reader:\n",
    "        caption = row[0]\n",
    "        if caption == 'Caption':\n",
    "            caption = \"Gender Neutral Caption\"\n",
    "            print(caption)\n",
    "            row.append(caption)\n",
    "            csv_writer.writerow(row)\n",
    "        else:\n",
    "            for w in tennisPlayerWords:\n",
    "                caption = caption.replace(w, \"tennis player\")\n",
    "            for w in baseballPlayerWords:\n",
    "                caption = caption.replace(w, \"baseball player\")\n",
    "            for w in groupWords:\n",
    "                caption = caption.replace(w, \"a group of people\")\n",
    "            for w in twoWords:\n",
    "                caption = caption.replace(w, \"two people\")\n",
    "            for w in singularGenderWords:\n",
    "                caption = caption.replace(w, \"person\")\n",
    "            caption = caption.replace(\"woperson\", \"person\")\n",
    "            for w in pluralGenderWords:\n",
    "                caption = caption.replace(w, \"people\")\n",
    "            for w in genderPronouns:\n",
    "                caption = caption.replace(w, \"their\")\n",
    "\n",
    "            print(caption)\n",
    "            row.append(caption)\n",
    "            csv_writer.writerow(row)"
   ]
  },
  {
   "cell_type": "code",
   "execution_count": null,
   "metadata": {
    "cellView": "code",
    "id": "JMyTNwSJGGWg"
   },
   "outputs": [],
   "source": [
    "# Copyright 2018 The TensorFlow Hub Authors. All Rights Reserved.\n",
    "#\n",
    "# Licensed under the Apache License, Version 2.0 (the \"License\");\n",
    "# you may not use this file except in compliance with the License.\n",
    "# You may obtain a copy of the License at\n",
    "#\n",
    "#     http://www.apache.org/licenses/LICENSE-2.0\n",
    "#\n",
    "# Unless required by applicable law or agreed to in writing, software\n",
    "# distributed under the License is distributed on an \"AS IS\" BASIS,\n",
    "# WITHOUT WARRANTIES OR CONDITIONS OF ANY KIND, either express or implied.\n",
    "# See the License for the specific language governing permissions and\n",
    "# limitations under the License.\n",
    "# =============================================================================="
   ]
  },
  {
   "cell_type": "markdown",
   "metadata": {
    "id": "co7MV6sX7Xto"
   },
   "source": [
    "# Universal Sentence Encoder\n"
   ]
  },
  {
   "cell_type": "markdown",
   "metadata": {
    "id": "MfBg1C5NB3X0"
   },
   "source": [
    "<table class=\"tfo-notebook-buttons\" align=\"left\">\n",
    "  <td>\n",
    "    <a target=\"_blank\" href=\"https://www.tensorflow.org/hub/tutorials/semantic_similarity_with_tf_hub_universal_encoder\"><img src=\"https://www.tensorflow.org/images/tf_logo_32px.png\" />View on TensorFlow.org</a>\n",
    "  </td>\n",
    "  <td>\n",
    "    <a target=\"_blank\" href=\"https://colab.research.google.com/github/tensorflow/hub/blob/master/examples/colab/semantic_similarity_with_tf_hub_universal_encoder.ipynb\"><img src=\"https://www.tensorflow.org/images/colab_logo_32px.png\" />Run in Google Colab</a>\n",
    "  </td>\n",
    "  <td>\n",
    "    <a target=\"_blank\" href=\"https://github.com/tensorflow/hub/blob/master/examples/colab/semantic_similarity_with_tf_hub_universal_encoder.ipynb\"><img src=\"https://www.tensorflow.org/images/GitHub-Mark-32px.png\" />View on GitHub</a>\n",
    "  </td>\n",
    "  <td>\n",
    "    <a href=\"https://storage.googleapis.com/tensorflow_docs/hub/examples/colab/semantic_similarity_with_tf_hub_universal_encoder.ipynb\"><img src=\"https://www.tensorflow.org/images/download_logo_32px.png\" />Download notebook</a>\n",
    "  </td>\n",
    "  <td>\n",
    "    <a href=\"https://tfhub.dev/s?q=google%2Funiversal-sentence-encoder%2F4%20OR%20google%2Funiversal-sentence-encoder-large%2F5\"><img src=\"https://www.tensorflow.org/images/hub_logo_32px.png\" />See TF Hub models</a>\n",
    "  </td>\n",
    "</table>"
   ]
  },
  {
   "cell_type": "markdown",
   "metadata": {
    "id": "eAVQGidpL8v5"
   },
   "source": [
    "This notebook illustrates how to access the Universal Sentence Encoder and use it for sentence similarity and sentence classification tasks.\n",
    "\n",
    "The Universal Sentence Encoder makes getting sentence level embeddings as easy as it has historically been to lookup the embeddings for individual words. The sentence embeddings can then be trivially used to compute sentence level meaning similarity as well as to enable better performance on downstream classification tasks using less supervised training data.\n"
   ]
  },
  {
   "cell_type": "markdown",
   "metadata": {
    "id": "pOTzp8O36CyQ"
   },
   "source": [
    "## Setup\n",
    "\n",
    "This section sets up the environment for access to the Universal Sentence Encoder on TF Hub and provides examples of applying the encoder to words, sentences, and paragraphs."
   ]
  },
  {
   "cell_type": "code",
   "execution_count": 1,
   "metadata": {
    "id": "lVjNK8shFKOC"
   },
   "outputs": [],
   "source": [
    "%%capture\n",
    "!pip3 install seaborn"
   ]
  },
  {
   "cell_type": "markdown",
   "metadata": {
    "id": "63Pd3nJnTl-i"
   },
   "source": [
    "More detailed information about installing Tensorflow can be found at [https://www.tensorflow.org/install/](https://www.tensorflow.org/install/)."
   ]
  },
  {
   "cell_type": "code",
   "execution_count": 61,
   "metadata": {
    "cellView": "form",
    "id": "zwty8Z6mAkdV"
   },
   "outputs": [
    {
     "name": "stdout",
     "output_type": "stream",
     "text": [
      "module https://tfhub.dev/google/universal-sentence-encoder/4 loaded\n"
     ]
    }
   ],
   "source": [
    "#@title Load the Universal Sentence Encoder's TF Hub module\n",
    "from absl import logging\n",
    "\n",
    "import tensorflow as tf\n",
    "\n",
    "import tensorflow_hub as hub\n",
    "import matplotlib.pyplot as plt\n",
    "import numpy as np\n",
    "import os\n",
    "import pandas as pd\n",
    "import re\n",
    "import seaborn as sns\n",
    "\n",
    "module_url = \"https://tfhub.dev/google/universal-sentence-encoder/4\" #@param [\"https://tfhub.dev/google/universal-sentence-encoder/4\", \"https://tfhub.dev/google/universal-sentence-encoder-large/5\"]\n",
    "model = hub.load(module_url)\n",
    "print (\"module %s loaded\" % module_url)\n",
    "def embed(input):\n",
    "  return model(input)"
   ]
  },
  {
   "cell_type": "code",
   "execution_count": null,
   "metadata": {
    "id": "Q8F4LNGFqOiq"
   },
   "outputs": [],
   "source": [
    "#@title Compute a representation for each message, showing various lengths supported.\n",
    "word = \"Elephant\"\n",
    "sentence = \"I am a sentence for which I would like to get its embedding.\"\n",
    "paragraph = (\n",
    "    \"Universal Sentence Encoder embeddings also support short paragraphs. \"\n",
    "    \"There is no hard limit on how long the paragraph is. Roughly, the longer \"\n",
    "    \"the more 'diluted' the embedding will be.\")\n",
    "messages = [word, sentence, paragraph]\n",
    "\n",
    "# Reduce logging output.\n",
    "logging.set_verbosity(logging.ERROR)\n",
    "\n",
    "message_embeddings = embed(messages)\n",
    "\n",
    "for i, message_embedding in enumerate(np.array(message_embeddings).tolist()):\n",
    "  print(\"Message: {}\".format(messages[i]))\n",
    "  print(\"Embedding size: {}\".format(len(message_embedding)))\n",
    "  message_embedding_snippet = \", \".join(\n",
    "      (str(x) for x in message_embedding[:3]))\n",
    "  print(\"Embedding: [{}, ...]\\n\".format(message_embedding_snippet))"
   ]
  },
  {
   "cell_type": "markdown",
   "metadata": {
    "id": "BnvjATdy64eR"
   },
   "source": [
    "# Semantic Textual Similarity Task Example\n",
    "\n",
    "The embeddings produced by the Universal Sentence Encoder are approximately normalized. The semantic similarity of two sentences can be trivially computed as the inner product of the encodings."
   ]
  },
  {
   "cell_type": "code",
   "execution_count": 63,
   "metadata": {
    "id": "h1FFCTKm7ba4"
   },
   "outputs": [],
   "source": [
    "def plot_similarity(labels, features, rotation):\n",
    "  corr = np.inner(features, features)\n",
    "  sns.set(font_scale=1.2)\n",
    "  g = sns.heatmap(\n",
    "      corr,\n",
    "      xticklabels=labels,\n",
    "      yticklabels=labels,\n",
    "      vmin=0,\n",
    "      vmax=1,\n",
    "      cmap=\"YlOrRd\")\n",
    "  g.set_xticklabels(labels, rotation=rotation)\n",
    "  g.set_title(\"Semantic Textual Similarity\")\n",
    "\n",
    "def run_and_plot(messages_):\n",
    "  message_embeddings_ = embed(messages_)\n",
    "  plot_similarity(messages_, message_embeddings_, 90)"
   ]
  },
  {
   "cell_type": "code",
   "execution_count": 65,
   "metadata": {},
   "outputs": [],
   "source": [
    "def get_similarity_score (features):\n",
    "    corr = np.inner(features, features)\n",
    "    return corr[0][1]"
   ]
  },
  {
   "cell_type": "code",
   "execution_count": 88,
   "metadata": {},
   "outputs": [
    {
     "name": "stdout",
     "output_type": "stream",
     "text": [
      "f_f_frisbee_328238_2.jpg\n",
      "f_f_frisbee_88485_2.jpg\n",
      "f_f_tie_131444_1.jpg\n",
      "f_f_surfboard_115898_1.jpg\n",
      "f_f_frisbee_227482_3.jpg\n",
      "f_f_sports_371552_4.jpg\n",
      "f_f_racket_88970_2.jpg\n",
      "f_f_tie_21604_1.jpg\n",
      "f_f_surfboard_7278_3.jpg\n",
      "f_f_skateboard_13201_4.jpg\n",
      "f_f_sports_429690_1.jpg\n",
      "f_f_frisbee_127263_4.jpg\n",
      "f_f_frisbee_291619_2.jpg\n",
      "f_f_racket_88970_5.jpg\n",
      "f_f_racket_64718_1.jpg\n",
      "f_f_surfboard_32570_2.jpg\n",
      "f_f_sports_89296_4.jpg\n",
      "f_f_surfboard_32570_4.jpg\n",
      "f_f_tie_163682_1.jpg\n",
      "f_f_skateboard_157365_3.jpg\n",
      "f_f_sports_515982_2.jpg\n",
      "f_f_racket_19432_2.jpg\n",
      "f_f_tie_152214_1.jpg\n",
      "f_f_skateboard_31093_5.jpg\n",
      "f_f_racket_55950_3.jpg\n",
      "f_f_frisbee_88485_1.jpg\n",
      "f_f_surfboard_187362_4.jpg\n",
      "f_f_racket_127530_1.jpg\n",
      "f_f_surfboard_177357_5.jpg\n",
      "f_f_surfboard_32570_3.jpg\n",
      "f_f_skateboard_125472_2.jpg\n",
      "f_f_sports_135604_4.jpg\n",
      "f_m_handbag_81594_3.jpg\n",
      "f_m_toothbrush_445999_2.jpg\n",
      "f_m_refrigerator_456662_1.jpg\n",
      "f_m_refrigerator_280930_1.jpg\n",
      "f_m_toothbrush_465179_1.jpg\n",
      "f_m_refrigerator_150417_1.jpg\n",
      "f_m_toothbrush_445999_1.jpg\n",
      "f_m_handbag_153529_4.jpg\n",
      "f_m_hairdrier_384136_2.jpg\n",
      "f_m_hairdrier_350002_5.jpg\n",
      "f_m_toothbrush_507473_1.jpg\n",
      "51\n",
      "0.8017290707896737\n"
     ]
    }
   ],
   "source": [
    "from csv import reader\n",
    "import json\n",
    "\n",
    "gn_captions_csv = '../results/gender neutral/gn_confusion.csv'\n",
    "gn_captions_dict = {}\n",
    "\n",
    "with open(gn_captions_csv, 'r') as read_obj:\n",
    "    # Create a csv.reader object from the input file object\n",
    "    csv_reader = reader(read_obj)\n",
    "    # Read each row of the input csv file as list\n",
    "    for row in csv_reader:\n",
    "        if row[0] != 'Caption':\n",
    "            filename = row[5]\n",
    "            caption = row[6]\n",
    "            gn_captions_dict[filename] = caption\n",
    "\n",
    "average_similar_score = 0.0\n",
    "count = 0\n",
    "            \n",
    "similar_matches = '../annotations/similarMatch.json'\n",
    "matches = open(similar_matches)\n",
    "data = json.load(matches)\n",
    "for f in data:\n",
    "    print(f)\n",
    "    f_caption = gn_captions_dict[f]\n",
    "    for m in data[f]:\n",
    "        count += 1\n",
    "        m_caption = gn_captions_dict[m]\n",
    "        messages = [f_caption, m_caption]\n",
    "        message_embeddings = embed(messages)\n",
    "        score = get_similarity_score(message_embeddings)\n",
    "        average_similar_score += score\n",
    "\n",
    "print(count)\n",
    "print(average_similar_score/count)"
   ]
  },
  {
   "cell_type": "markdown",
   "metadata": {
    "id": "339tuJ5Pwqqv"
   },
   "source": [
    "## Similarity Visualized\n",
    "Here we show the similarity in a heat map. The final graph is a 9x9 matrix where each entry `[i, j]` is colored based on the inner product of the encodings for sentence `i` and `j`."
   ]
  },
  {
   "cell_type": "code",
   "execution_count": 64,
   "metadata": {
    "id": "cPMCaxrZwp7t"
   },
   "outputs": [
    {
     "name": "stdout",
     "output_type": "stream",
     "text": [
      "[[1.        0.801587 ]\n",
      " [0.801587  1.0000001]]\n"
     ]
    },
    {
     "data": {
      "image/png": "[encoded data removed]",
      "text/plain": [
       "<Figure size 432x288 with 2 Axes>"
      ]
     },
     "metadata": {},
     "output_type": "display_data"
    }
   ],
   "source": [
    "messages = [\n",
    "#     # Smartphones\n",
    "#     \"I like my phone\",\n",
    "#     \"My phone is not good.\",\n",
    "#     \"Your cellphone looks great.\",\n",
    "\n",
    "#     # Weather\n",
    "#     \"Will it snow tomorrow?\",\n",
    "#     \"Recently a lot of hurricanes have hit the US\",\n",
    "#     \"Global warming is real\",\n",
    "\n",
    "#     # Food and health\n",
    "#     \"An apple a day, keeps the doctors away\",\n",
    "#     \"Eating strawberries is healthy\",\n",
    "#     \"Is paleo better than keto?\",\n",
    "\n",
    "    # Asking about age\n",
    "    \"How old are you?\",\n",
    "    \"what is your age?\",\n",
    "]\n",
    "\n",
    "run_and_plot(messages)\n",
    "               "
   ]
  },
  {
   "cell_type": "markdown",
   "metadata": {
    "id": "6FjdeCqPJeg-"
   },
   "source": [
    "## Evaluation: STS (Semantic Textual Similarity) Benchmark\n",
    "\n",
    "The [**STS Benchmark**](http://ixa2.si.ehu.es/stswiki/index.php/STSbenchmark) provides an intristic evaluation of the degree to which similarity scores computed using sentence embeddings align with human judgements. The benchmark requires systems to return similarity scores for a diverse selection of sentence pairs. [Pearson correlation](https://en.wikipedia.org/wiki/Pearson_correlation_coefficient) is then used to evaluate the quality of the machine similarity scores against human judgements."
   ]
  },
  {
   "cell_type": "markdown",
   "metadata": {
    "id": "q5nuBbI1iFQR"
   },
   "source": [
    "### Download data"
   ]
  },
  {
   "cell_type": "code",
   "execution_count": null,
   "metadata": {
    "id": "VOs8ZfOnJeBF"
   },
   "outputs": [],
   "source": [
    "import pandas\n",
    "import scipy\n",
    "import math\n",
    "import csv\n",
    "\n",
    "sts_dataset = tf.keras.utils.get_file(\n",
    "    fname=\"Stsbenchmark.tar.gz\",\n",
    "    origin=\"http://ixa2.si.ehu.es/stswiki/images/4/48/Stsbenchmark.tar.gz\",\n",
    "    extract=True)\n",
    "sts_dev = pandas.read_table(\n",
    "    os.path.join(os.path.dirname(sts_dataset), \"stsbenchmark\", \"sts-dev.csv\"),\n",
    "    error_bad_lines=False,\n",
    "    skip_blank_lines=True,\n",
    "    usecols=[4, 5, 6],\n",
    "    names=[\"sim\", \"sent_1\", \"sent_2\"])\n",
    "sts_test = pandas.read_table(\n",
    "    os.path.join(\n",
    "        os.path.dirname(sts_dataset), \"stsbenchmark\", \"sts-test.csv\"),\n",
    "    error_bad_lines=False,\n",
    "    quoting=csv.QUOTE_NONE,\n",
    "    skip_blank_lines=True,\n",
    "    usecols=[4, 5, 6],\n",
    "    names=[\"sim\", \"sent_1\", \"sent_2\"])\n",
    "# cleanup some NaN values in sts_dev\n",
    "sts_dev = sts_dev[[isinstance(s, str) for s in sts_dev['sent_2']]]"
   ]
  },
  {
   "cell_type": "markdown",
   "metadata": {
    "id": "8OKy8WhnKRe_"
   },
   "source": [
    "### Evaluate Sentence Embeddings"
   ]
  },
  {
   "cell_type": "code",
   "execution_count": null,
   "metadata": {
    "id": "W-q2r7jyZGb7"
   },
   "outputs": [],
   "source": [
    "sts_data = sts_dev #@param [\"sts_dev\", \"sts_test\"] {type:\"raw\"}\n",
    "\n",
    "def run_sts_benchmark(batch):\n",
    "  sts_encode1 = tf.nn.l2_normalize(embed(tf.constant(batch['sent_1'].tolist())), axis=1)\n",
    "  sts_encode2 = tf.nn.l2_normalize(embed(tf.constant(batch['sent_2'].tolist())), axis=1)\n",
    "  cosine_similarities = tf.reduce_sum(tf.multiply(sts_encode1, sts_encode2), axis=1)\n",
    "  clip_cosine_similarities = tf.clip_by_value(cosine_similarities, -1.0, 1.0)\n",
    "  scores = 1.0 - tf.acos(clip_cosine_similarities) / math.pi\n",
    "  \"\"\"Returns the similarity scores\"\"\"\n",
    "  return scores\n",
    "\n",
    "dev_scores = sts_data['sim'].tolist()\n",
    "scores = []\n",
    "for batch in np.array_split(sts_data, 10):\n",
    "  scores.extend(run_sts_benchmark(batch))\n",
    "\n",
    "pearson_correlation = scipy.stats.pearsonr(scores, dev_scores)\n",
    "print('Pearson correlation coefficient = {0}\\np-value = {1}'.format(\n",
    "    pearson_correlation[0], pearson_correlation[1]))"
   ]
  }
 ],
 "metadata": {
  "accelerator": "GPU",
  "colab": {
   "collapsed_sections": [
    "RUymE2l9GZfO"
   ],
   "name": "Semantic Similarity with TF-Hub Universal Encoder",
   "private_outputs": true,
   "provenance": [],
   "toc_visible": true
  },
  "kernelspec": {
   "display_name": "Python 3",
   "language": "python",
   "name": "python3"
  },
  "language_info": {
   "codemirror_mode": {
    "name": "ipython",
    "version": 3
   },
   "file_extension": ".py",
   "mimetype": "text/x-python",
   "name": "python",
   "nbconvert_exporter": "python",
   "pygments_lexer": "ipython3",
   "version": "3.7.7"
  }
 },
 "nbformat": 4,
 "nbformat_minor": 1
}
